{
 "cells": [
  {
   "cell_type": "code",
   "execution_count": 1,
   "id": "0aa73fca",
   "metadata": {},
   "outputs": [],
   "source": [
    "import pandas as pd\n",
    "import seaborn as sns\n",
    "import numpy as np\n",
    "from numpy import nan"
   ]
  },
  {
   "cell_type": "code",
   "execution_count": 2,
   "id": "22ae2c4e",
   "metadata": {},
   "outputs": [],
   "source": [
    "pd.set_option('display.max_columns', None)\n",
    "pd.set_option('display.max_rows', None)\n",
    "pd.set_option('display.width', None)\n",
    "pd.set_option('display.max_colwidth', None)\n",
    "pd.set_option('max_seq_item', None)"
   ]
  },
  {
   "cell_type": "code",
   "execution_count": 3,
   "id": "341c88d3",
   "metadata": {},
   "outputs": [],
   "source": [
    "# Data received from Office of Superintendent of Public Instruction, Aug. 14, 2024, via public records request\n",
    "# from the Information and Condition of Schools (ICOS) database, Pre-Disaster Mitigation module.\n",
    "# https://www.k12.wa.us/policy-funding/school-buildings-facilities/information-and-condition-schools-icos\n",
    "df_original=pd.read_csv(\"data/df_icos_clean_8.14.24.csv\")"
   ]
  },
  {
   "cell_type": "code",
   "execution_count": 4,
   "id": "ded48f9d",
   "metadata": {},
   "outputs": [],
   "source": [
    "df=df_original"
   ]
  },
  {
   "cell_type": "code",
   "execution_count": 5,
   "id": "41cd5016",
   "metadata": {},
   "outputs": [
    {
     "name": "stdout",
     "output_type": "stream",
     "text": [
      "<class 'pandas.core.frame.DataFrame'>\n",
      "RangeIndex: 6678 entries, 0 to 6677\n",
      "Data columns (total 32 columns):\n",
      " #   Column                               Non-Null Count  Dtype  \n",
      "---  ------                               --------------  -----  \n",
      " 0   Unique_Identifier                    6678 non-null   object \n",
      " 1   District                             6678 non-null   object \n",
      " 2   Site                                 6678 non-null   object \n",
      " 3   Site_Latitude                        6678 non-null   float64\n",
      " 4   Site_Longitude                       6678 non-null   float64\n",
      " 5   Site_Type                            6678 non-null   object \n",
      " 6   Site_EQHazardLevel                   6678 non-null   object \n",
      " 7   Site_EQRiskLevel                     2838 non-null   object \n",
      " 8   Site_Soil                            6638 non-null   object \n",
      " 9   Site_Liquefaction                    6638 non-null   object \n",
      " 10  Site_GroundMotionPercentile          6638 non-null   float64\n",
      " 11  Site_HasGeotechnicalStudy            6678 non-null   object \n",
      " 12  Site_ShearWaveVelocity               1196 non-null   float64\n",
      " 13  Site_EnrollmentSchoolYear            6678 non-null   object \n",
      " 14  Site_Enrollment                      6425 non-null   object \n",
      " 15  BuildingID                           6655 non-null   float64\n",
      " 16  Building                             6655 non-null   object \n",
      " 17  Building_Type                        6655 non-null   object \n",
      " 18  Building_HasEvaluation               6678 non-null   object \n",
      " 19  Building_YearBuilt                   6655 non-null   float64\n",
      " 20  Building_GrossSqFt                   6619 non-null   object \n",
      " 21  BuildingArea_Name                    6627 non-null   object \n",
      " 22  BuildingArea_YearBuilt               6627 non-null   float64\n",
      " 23  BuildingArea_CodeYear                6627 non-null   object \n",
      " 24  BuildingArea_NumberOfFloors          5421 non-null   float64\n",
      " 25  BuildingArea_ConstructionType        6678 non-null   object \n",
      " 26  BuildingArea_VerticalIrregularity    1027 non-null   object \n",
      " 27  BuildingArea_HorizontalIrregularity  1558 non-null   object \n",
      " 28  BuildingArea_ExistingRisk            3450 non-null   object \n",
      " 29  BuildingArea_HasRetrofit             6655 non-null   object \n",
      " 30  BuildingArea_RetrofitRisk            2441 non-null   object \n",
      " 31  BuildingArea_CodeRisk                2441 non-null   object \n",
      "dtypes: float64(8), object(24)\n",
      "memory usage: 1.6+ MB\n"
     ]
    }
   ],
   "source": [
    "df.info()"
   ]
  },
  {
   "cell_type": "code",
   "execution_count": 6,
   "id": "90a5fa63",
   "metadata": {},
   "outputs": [],
   "source": [
    "df['BuildingArea_YearBuilt'] = df['BuildingArea_YearBuilt'].astype('Int64')\n",
    "df['Building_YearBuilt'] = df['Building_YearBuilt'].astype('Int64')"
   ]
  },
  {
   "cell_type": "code",
   "execution_count": 7,
   "id": "dcd8dcdb",
   "metadata": {},
   "outputs": [],
   "source": [
    "# How many high or very high risk building areas would be deemed low risk with a retrofit?\n",
    "# Compare the building area risk value to the retrofit risk value for rows that have these values."
   ]
  },
  {
   "cell_type": "code",
   "execution_count": 8,
   "id": "57a727a7",
   "metadata": {},
   "outputs": [],
   "source": [
    "# Retrofit risk is defined in the database glossary as: \n",
    "# \"The calculated building area risk taking into consideration the buildings retrofit\""
   ]
  },
  {
   "cell_type": "code",
   "execution_count": 9,
   "id": "ed662517",
   "metadata": {},
   "outputs": [
    {
     "data": {
      "text/plain": [
       "BuildingArea_RetrofitRisk\n",
       "Low          2352\n",
       "Moderate       85\n",
       "Very High       2\n",
       "High            2\n",
       "Name: count, dtype: int64"
      ]
     },
     "execution_count": 9,
     "metadata": {},
     "output_type": "execute_result"
    }
   ],
   "source": [
    "df['BuildingArea_RetrofitRisk'].value_counts()"
   ]
  },
  {
   "cell_type": "code",
   "execution_count": 10,
   "id": "af311dab",
   "metadata": {},
   "outputs": [
    {
     "data": {
      "text/plain": [
       "(6678, 6)"
      ]
     },
     "execution_count": 10,
     "metadata": {},
     "output_type": "execute_result"
    }
   ],
   "source": [
    "df_small = df[['Unique_Identifier', 'Building', 'BuildingArea_Name', 'BuildingArea_ExistingRisk', \\\n",
    "               'BuildingArea_HasRetrofit', 'BuildingArea_RetrofitRisk']]\n",
    "df_small.shape"
   ]
  },
  {
   "cell_type": "code",
   "execution_count": 11,
   "id": "854ca122",
   "metadata": {},
   "outputs": [
    {
     "data": {
      "text/plain": [
       "(1878, 6)"
      ]
     },
     "execution_count": 11,
     "metadata": {},
     "output_type": "execute_result"
    }
   ],
   "source": [
    "# Take only the building area rows that have a value of moderate, high or very high for retrofit risk\n",
    "mask = (df_small['BuildingArea_ExistingRisk'] == 'Moderate') | \\\n",
    "(df_small['BuildingArea_ExistingRisk'] == 'High') | \\\n",
    "(df_small['BuildingArea_ExistingRisk'] == 'Very High')\n",
    "df_small_2 = df_small[mask]\n",
    "df_small_2.shape"
   ]
  },
  {
   "cell_type": "code",
   "execution_count": 12,
   "id": "723833bd",
   "metadata": {},
   "outputs": [
    {
     "data": {
      "text/plain": [
       "(1878, 6)"
      ]
     },
     "execution_count": 12,
     "metadata": {},
     "output_type": "execute_result"
    }
   ],
   "source": [
    "# Take only the rows from those that also have a value for retrofit risk\n",
    "mask = (df_small_2['BuildingArea_RetrofitRisk'] != 'no value')\n",
    "df_small_3 = df_small_2[mask]\n",
    "df_small_3.shape"
   ]
  },
  {
   "cell_type": "code",
   "execution_count": 13,
   "id": "e0479c86",
   "metadata": {},
   "outputs": [
    {
     "data": {
      "text/plain": [
       "BuildingArea_RetrofitRisk\n",
       "Low          95.1%\n",
       "Moderate      4.7%\n",
       "Very High     0.1%\n",
       "High          0.1%\n",
       "Name: proportion, dtype: object"
      ]
     },
     "execution_count": 13,
     "metadata": {},
     "output_type": "execute_result"
    }
   ],
   "source": [
    "df_small_3['BuildingArea_RetrofitRisk'].value_counts(normalize=True).mul(100).round(1).astype(str) + '%'"
   ]
  },
  {
   "cell_type": "code",
   "execution_count": 14,
   "id": "5ff2d098",
   "metadata": {},
   "outputs": [
    {
     "data": {
      "text/plain": [
       "BuildingArea_ExistingRisk  BuildingArea_RetrofitRisk\n",
       "Very High                  Low                          827\n",
       "Moderate                   Low                          477\n",
       "High                       Low                          411\n",
       "Very High                  Moderate                      38\n",
       "High                       Moderate                      32\n",
       "Moderate                   Moderate                      14\n",
       "High                       High                           2\n",
       "                           Very High                      1\n",
       "Very High                  Very High                      1\n",
       "Name: count, dtype: int64"
      ]
     },
     "execution_count": 14,
     "metadata": {},
     "output_type": "execute_result"
    }
   ],
   "source": [
    "df_small_3[['BuildingArea_ExistingRisk', 'BuildingArea_RetrofitRisk']].value_counts()"
   ]
  },
  {
   "cell_type": "code",
   "execution_count": 15,
   "id": "9a8e0a34",
   "metadata": {},
   "outputs": [],
   "source": [
    "# The database calculations show that 95% of building areas with moderate, high or very high risks would be\n",
    "# brought down to low risk with a retrofit."
   ]
  },
  {
   "cell_type": "code",
   "execution_count": null,
   "id": "6ad48e21",
   "metadata": {},
   "outputs": [],
   "source": []
  }
 ],
 "metadata": {
  "kernelspec": {
   "display_name": "Python 3 (ipykernel)",
   "language": "python",
   "name": "python3"
  },
  "language_info": {
   "codemirror_mode": {
    "name": "ipython",
    "version": 3
   },
   "file_extension": ".py",
   "mimetype": "text/x-python",
   "name": "python",
   "nbconvert_exporter": "python",
   "pygments_lexer": "ipython3",
   "version": "3.10.11"
  }
 },
 "nbformat": 4,
 "nbformat_minor": 5
}
