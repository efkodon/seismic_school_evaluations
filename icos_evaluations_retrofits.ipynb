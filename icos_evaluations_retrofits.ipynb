{
 "cells": [
  {
   "cell_type": "code",
   "execution_count": 1,
   "id": "71b9cbd5",
   "metadata": {},
   "outputs": [],
   "source": [
    "import pandas as pd\n",
    "import seaborn as sns\n",
    "import numpy as np\n",
    "from numpy import nan"
   ]
  },
  {
   "cell_type": "code",
   "execution_count": 2,
   "id": "8ae68451",
   "metadata": {},
   "outputs": [],
   "source": [
    "pd.set_option('display.max_columns', None)\n",
    "pd.set_option('display.max_rows', None)\n",
    "pd.set_option('display.width', None)\n",
    "pd.set_option('display.max_colwidth', None)\n",
    "pd.set_option('max_seq_item', None)"
   ]
  },
  {
   "cell_type": "code",
   "execution_count": 3,
   "id": "94c98e93",
   "metadata": {},
   "outputs": [],
   "source": [
    "# Data received from Office of Superintendent of Public Instruction, Aug. 14, 2024, via public records request\n",
    "# from the Information and Condition of Schools (ICOS) database, Pre-Disaster Mitigation module.\n",
    "# https://www.k12.wa.us/policy-funding/school-buildings-facilities/information-and-condition-schools-icos\n",
    "df_original=pd.read_csv(\"data/df_icos_clean_8.14.24.csv\")"
   ]
  },
  {
   "cell_type": "code",
   "execution_count": 4,
   "id": "602ec364",
   "metadata": {},
   "outputs": [],
   "source": [
    "df=df_original"
   ]
  },
  {
   "cell_type": "code",
   "execution_count": 5,
   "id": "141aa9e5",
   "metadata": {},
   "outputs": [
    {
     "name": "stdout",
     "output_type": "stream",
     "text": [
      "<class 'pandas.core.frame.DataFrame'>\n",
      "RangeIndex: 6678 entries, 0 to 6677\n",
      "Data columns (total 32 columns):\n",
      " #   Column                               Non-Null Count  Dtype  \n",
      "---  ------                               --------------  -----  \n",
      " 0   Unique_Identifier                    6678 non-null   object \n",
      " 1   District                             6678 non-null   object \n",
      " 2   Site                                 6678 non-null   object \n",
      " 3   Site_Latitude                        6678 non-null   float64\n",
      " 4   Site_Longitude                       6678 non-null   float64\n",
      " 5   Site_Type                            6678 non-null   object \n",
      " 6   Site_EQHazardLevel                   6678 non-null   object \n",
      " 7   Site_EQRiskLevel                     2838 non-null   object \n",
      " 8   Site_Soil                            6638 non-null   object \n",
      " 9   Site_Liquefaction                    6638 non-null   object \n",
      " 10  Site_GroundMotionPercentile          6638 non-null   float64\n",
      " 11  Site_HasGeotechnicalStudy            6678 non-null   object \n",
      " 12  Site_ShearWaveVelocity               1196 non-null   float64\n",
      " 13  Site_EnrollmentSchoolYear            6678 non-null   object \n",
      " 14  Site_Enrollment                      6425 non-null   object \n",
      " 15  BuildingID                           6655 non-null   float64\n",
      " 16  Building                             6655 non-null   object \n",
      " 17  Building_Type                        6655 non-null   object \n",
      " 18  Building_HasEvaluation               6678 non-null   object \n",
      " 19  Building_YearBuilt                   6655 non-null   float64\n",
      " 20  Building_GrossSqFt                   6619 non-null   object \n",
      " 21  BuildingArea_Name                    6627 non-null   object \n",
      " 22  BuildingArea_YearBuilt               6627 non-null   float64\n",
      " 23  BuildingArea_CodeYear                6627 non-null   object \n",
      " 24  BuildingArea_NumberOfFloors          5421 non-null   float64\n",
      " 25  BuildingArea_ConstructionType        6678 non-null   object \n",
      " 26  BuildingArea_VerticalIrregularity    1027 non-null   object \n",
      " 27  BuildingArea_HorizontalIrregularity  1558 non-null   object \n",
      " 28  BuildingArea_ExistingRisk            3450 non-null   object \n",
      " 29  BuildingArea_HasRetrofit             6655 non-null   object \n",
      " 30  BuildingArea_RetrofitRisk            2441 non-null   object \n",
      " 31  BuildingArea_CodeRisk                2441 non-null   object \n",
      "dtypes: float64(8), object(24)\n",
      "memory usage: 1.6+ MB\n"
     ]
    }
   ],
   "source": [
    "df.info()"
   ]
  },
  {
   "cell_type": "code",
   "execution_count": 6,
   "id": "be8b2687",
   "metadata": {},
   "outputs": [],
   "source": [
    "# Convert the data type to numbers for selected columns in order to use them for calculations.\n",
    "df['Building_YearBuilt']=df['Building_YearBuilt'].astype('Int64')\n",
    "df['BuildingArea_YearBuilt']=df['BuildingArea_YearBuilt'].astype('Int64')"
   ]
  },
  {
   "cell_type": "code",
   "execution_count": null,
   "id": "72fb4b3b",
   "metadata": {},
   "outputs": [],
   "source": []
  },
  {
   "cell_type": "code",
   "execution_count": 7,
   "id": "d3598018",
   "metadata": {},
   "outputs": [],
   "source": [
    "# How many districts have no seismic evaluations or retrofits listed in the state data?"
   ]
  },
  {
   "cell_type": "code",
   "execution_count": 8,
   "id": "66a79e04",
   "metadata": {},
   "outputs": [
    {
     "data": {
      "text/plain": [
       "303"
      ]
     },
     "execution_count": 8,
     "metadata": {},
     "output_type": "execute_result"
    }
   ],
   "source": [
    "df['District'].nunique() # there are 303 districts in the database"
   ]
  },
  {
   "cell_type": "code",
   "execution_count": 9,
   "id": "aa8a6ebc",
   "metadata": {},
   "outputs": [],
   "source": [
    "df_evals_retrofit = df[['District', 'Building_HasEvaluation', 'BuildingArea_HasRetrofit']].drop_duplicates()"
   ]
  },
  {
   "cell_type": "code",
   "execution_count": 10,
   "id": "ab4e9ffb",
   "metadata": {},
   "outputs": [
    {
     "data": {
      "text/plain": [
       "134"
      ]
     },
     "execution_count": 10,
     "metadata": {},
     "output_type": "execute_result"
    }
   ],
   "source": [
    "mask = (df_evals_retrofit['Building_HasEvaluation'] == 'Yes')\n",
    "df_evals_retrofit_2 = df_evals_retrofit[mask]\n",
    "df_evals_retrofit_2['District'].nunique() \n",
    "# There are 134 districts and state-tribal education compact schools (STECs) with one or more evaluations."
   ]
  },
  {
   "cell_type": "code",
   "execution_count": 11,
   "id": "f40fd645",
   "metadata": {},
   "outputs": [],
   "source": [
    "# Make a list of the districts and STECs with no evaluations and see how many also have no retrofits."
   ]
  },
  {
   "cell_type": "code",
   "execution_count": 12,
   "id": "49a3a176",
   "metadata": {},
   "outputs": [
    {
     "data": {
      "text/plain": [
       "(153,)"
      ]
     },
     "execution_count": 12,
     "metadata": {},
     "output_type": "execute_result"
    }
   ],
   "source": [
    "df_evals_retrofit_3 = df_evals_retrofit_2['District']\n",
    "df_evals_retrofit_3.shape"
   ]
  },
  {
   "cell_type": "code",
   "execution_count": 13,
   "id": "579ab675",
   "metadata": {},
   "outputs": [
    {
     "data": {
      "text/plain": [
       "(169,)"
      ]
     },
     "execution_count": 13,
     "metadata": {},
     "output_type": "execute_result"
    }
   ],
   "source": [
    "districts_no_eval = df_evals_retrofit[~df_evals_retrofit['District'].isin(df_evals_retrofit_3)]\n",
    "districts_no_eval_2 = districts_no_eval['District'].drop_duplicates()\n",
    "districts_no_eval_2.shape\n",
    "# There are 169 districts and STECs with no evaluations."
   ]
  },
  {
   "cell_type": "code",
   "execution_count": 14,
   "id": "89c6a247",
   "metadata": {},
   "outputs": [
    {
     "data": {
      "text/plain": [
       "6"
      ]
     },
     "execution_count": 14,
     "metadata": {},
     "output_type": "execute_result"
    }
   ],
   "source": [
    "mask = (districts_no_eval['BuildingArea_HasRetrofit'] == 'Structural') | \\\n",
    "(districts_no_eval['BuildingArea_HasRetrofit'] == 'Non-Structural')\n",
    "districts_no_eval_yes_retrofit = districts_no_eval[mask]\n",
    "districts_no_eval_yes_retrofit['District'].nunique() "
   ]
  },
  {
   "cell_type": "code",
   "execution_count": 15,
   "id": "567052a8",
   "metadata": {},
   "outputs": [
    {
     "data": {
      "text/plain": [
       "(6,)"
      ]
     },
     "execution_count": 15,
     "metadata": {},
     "output_type": "execute_result"
    }
   ],
   "source": [
    "districts_no_eval_yes_retrofit_2 = districts_no_eval_yes_retrofit['District']\n",
    "districts_no_eval_yes_retrofit_2 = districts_no_eval_yes_retrofit_2.drop_duplicates()\n",
    "districts_no_eval_yes_retrofit_2.shape"
   ]
  },
  {
   "cell_type": "code",
   "execution_count": 16,
   "id": "603cdb6f",
   "metadata": {},
   "outputs": [
    {
     "data": {
      "text/plain": [
       "163"
      ]
     },
     "execution_count": 16,
     "metadata": {},
     "output_type": "execute_result"
    }
   ],
   "source": [
    "districts_no_eval_no_retrofit = districts_no_eval[~districts_no_eval\\\n",
    "                                                               ['District'].isin(districts_no_eval_yes_retrofit_2)]\n",
    "districts_no_eval_no_retrofit['District'].nunique() \n",
    "# There are 163 districts and STECs that have no evaluations or retrofits in the state data."
   ]
  },
  {
   "cell_type": "code",
   "execution_count": 17,
   "id": "c882dec0",
   "metadata": {},
   "outputs": [
    {
     "data": {
      "text/plain": [
       "21                                     Adna\n",
       "26                                   Almira\n",
       "76                           Asotin-Anatone\n",
       "167                       Bainbridge Island\n",
       "242                                Bellevue\n",
       "365                              Bellingham\n",
       "424                                   Benge\n",
       "522                               Bremerton\n",
       "553                                Brewster\n",
       "560                              Bridgeport\n",
       "567                                 Brinnon\n",
       "648                                 Cascade\n",
       "661                                Cashmere\n",
       "666                             Castle Rock\n",
       "873                            Chief Leschi\n",
       "876                                Chimacum\n",
       "885                               Clarkston\n",
       "916                             Clover Park\n",
       "1010                                 Colfax\n",
       "1016                          College Place\n",
       "1020                                 Colton\n",
       "1024                     Columbia (Stevens)\n",
       "1045    Confederated Tribes of the Colville\n",
       "1066                        Coulee-Hartline\n",
       "1080                               Crescent\n",
       "1090                                 Curlew\n",
       "1097                                 Damman\n",
       "1106                              Davenport\n",
       "1114                              Deer Park\n",
       "1121                              Dieringer\n",
       "1191                                 Easton\n",
       "1193                             Eatonville\n",
       "1203                                Edmonds\n",
       "1350                             Ellensburg\n",
       "1382                               Endicott\n",
       "1384                                 Entiat\n",
       "1386                               Enumclaw\n",
       "1433                                Ephrata\n",
       "1718                    Evergreen (Stevens)\n",
       "1936                                 Finley\n",
       "2048                                Freeman\n",
       "2053                                Freeman\n",
       "2054                               Garfield\n",
       "2059                             Goldendale\n",
       "2073                              Grandview\n",
       "2080                                Granger\n",
       "2088                          Granite Falls\n",
       "2112                              Grapeview\n",
       "2115                         Great Northern\n",
       "2120                                Griffin\n",
       "2263                              Hockinson\n",
       "2419                               Kahlotus\n",
       "2425                                 Kalama\n",
       "2431                                 Keller\n",
       "2468                              Kennewick\n",
       "2734                           Kettle Falls\n",
       "2744                               Kittitas\n",
       "2749                              Klickitat\n",
       "2752                              La Center\n",
       "2774                               LaCrosse\n",
       "2788                          Lake Quinault\n",
       "2858                        Lake Washington\n",
       "2966                                 Lamont\n",
       "2968                                Liberty\n",
       "2974                                   Lind\n",
       "3018                              Loon Lake\n",
       "3019                           Lopez Island\n",
       "3028                                  Lummi\n",
       "3030                                   Lyle\n",
       "3034                                 Lynden\n",
       "3051                                 Manson\n",
       "3054                          Mary M Knight\n",
       "3058                            Mary Walker\n",
       "3169                               McCleary\n",
       "3175                                   Mead\n",
       "3293                                 Mill A\n",
       "3298                                 Monroe\n",
       "3340                              Montesano\n",
       "3380                              Mossyrock\n",
       "3390                            Mount Adams\n",
       "3415                         Mount Pleasant\n",
       "3417                           Mount Vernon\n",
       "3451                            Muckleshoot\n",
       "3452                               Mukilteo\n",
       "3507                               Napavine\n",
       "3516             Naselle-Grays River Valley\n",
       "3525                        Nine Mile Falls\n",
       "3540                        Nooksack Valley\n",
       "3566                         North Franklin\n",
       "3593                           North Kitsap\n",
       "3641                            North Mason\n",
       "3653                            North River\n",
       "3731                              Northport\n",
       "3735                             Northshore\n",
       "3968                              Oakesdale\n",
       "3971                               Oakville\n",
       "3993                                 Odessa\n",
       "3997                               Okanogan\n",
       "4003                                Olympia\n",
       "4045                                   Omak\n",
       "4059                               Onalaska\n",
       "4067                            Onion Creek\n",
       "4082                                 Orient\n",
       "4085                                 Orondo\n",
       "4089                                 Orting\n",
       "4107                                Othello\n",
       "4109                                Othello\n",
       "4144                                Palouse\n",
       "4145                                Palouse\n",
       "4197                                 Pe Ell\n",
       "4251                                Pioneer\n",
       "4308                               Prescott\n",
       "4312                                Prosser\n",
       "4324                                Pullman\n",
       "4409                      Queets-Clearwater\n",
       "4420                               Quileute\n",
       "4467                                Rainier\n",
       "4547                               Republic\n",
       "4617                              Ritzville\n",
       "4641                              Riverview\n",
       "4673                              Rochester\n",
       "4680                              Roosevelt\n",
       "4681                                Rosalia\n",
       "4703                        San Juan Island\n",
       "4710                                 Satsop\n",
       "5104                                  Selah\n",
       "5111                                Selkirk\n",
       "5115                                 Sequim\n",
       "5142                                Shelton\n",
       "5232                               Skamania\n",
       "5239                              Snohomish\n",
       "5313                              Soap Lake\n",
       "5323                           South Kitsap\n",
       "5520                                Sprague\n",
       "5525                               St. John\n",
       "5528                        Stanwood-Camano\n",
       "5543                                   Star\n",
       "5545                               Starbuck\n",
       "5546                               Stehekin\n",
       "5565                                Steptoe\n",
       "5568                       Stevenson-Carson\n",
       "5609                          Summit Valley\n",
       "5694                              Suquamish\n",
       "5916                                 Tahoma\n",
       "6032                            Toutle Lake\n",
       "6043                             Trout Lake\n",
       "6044                                Tukwila\n",
       "6124                              Union Gap\n",
       "6128                       University Place\n",
       "6151                                 Valley\n",
       "6158                              Vancouver\n",
       "6206                              Vancouver\n",
       "6285                              Wa He Lut\n",
       "6304                                Wahluke\n",
       "6312                                Wahluke\n",
       "6319                              Waitsburg\n",
       "6322                            Walla Walla\n",
       "6354                                 Wapato\n",
       "6390                              Wellpinit\n",
       "6454                   West Valley (Yakima)\n",
       "6525                                 Wilbur\n",
       "6529                         Willapa Valley\n",
       "6539                                Winlock\n",
       "6548                         Wishkah Valley\n",
       "6550                                Wishram\n",
       "6551                               Woodland\n",
       "6568                          Yakama Nation\n",
       "6631                                   Yelm\n",
       "Name: District, dtype: object"
      ]
     },
     "execution_count": 17,
     "metadata": {},
     "output_type": "execute_result"
    }
   ],
   "source": [
    "# These are the 163 districts and STECs that have no evaluations or retrofits in the state data.\n",
    "districts_no_eval_no_retrofit['District']"
   ]
  },
  {
   "cell_type": "code",
   "execution_count": null,
   "id": "05e46f92",
   "metadata": {},
   "outputs": [],
   "source": []
  }
 ],
 "metadata": {
  "kernelspec": {
   "display_name": "Python 3 (ipykernel)",
   "language": "python",
   "name": "python3"
  },
  "language_info": {
   "codemirror_mode": {
    "name": "ipython",
    "version": 3
   },
   "file_extension": ".py",
   "mimetype": "text/x-python",
   "name": "python",
   "nbconvert_exporter": "python",
   "pygments_lexer": "ipython3",
   "version": "3.10.11"
  }
 },
 "nbformat": 4,
 "nbformat_minor": 5
}
