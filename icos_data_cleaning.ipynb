{
 "cells": [
  {
   "cell_type": "code",
   "execution_count": 9,
   "id": "eb1cbd27",
   "metadata": {},
   "outputs": [],
   "source": [
    "import pandas as pd\n",
    "import seaborn as sns\n",
    "import numpy as np\n",
    "from numpy import nan"
   ]
  },
  {
   "cell_type": "code",
   "execution_count": 10,
   "id": "4f101a09",
   "metadata": {},
   "outputs": [],
   "source": [
    "pd.set_option('display.max_columns', None)\n",
    "pd.set_option('display.max_rows', None)\n",
    "pd.set_option('display.width', None)\n",
    "pd.set_option('display.max_colwidth', None)\n",
    "pd.set_option('max_seq_item', None)"
   ]
  },
  {
   "cell_type": "code",
   "execution_count": 12,
   "id": "b1f0a455",
   "metadata": {},
   "outputs": [],
   "source": [
    "# DATA SOURCE: INFORMATION AND CONDITION OF SCHOOLS (ICOS), Pre-Disaster Mitigation module\n",
    "# Data received from WA Office of Superintendent of Public Instruction (OSPI), 8/14/24, via public records request.\n",
    "# https://www.k12.wa.us/policy-funding/school-buildings-facilities/information-and-condition-schools-icos\n",
    "df_original=pd.read_csv(\"data/icos_data_8.14.24.csv\")"
   ]
  },
  {
   "cell_type": "code",
   "execution_count": 13,
   "id": "3e0b84e5",
   "metadata": {},
   "outputs": [],
   "source": [
    "# Copy the data and work with the copy.\n",
    "df = df_original"
   ]
  },
  {
   "cell_type": "code",
   "execution_count": 14,
   "id": "06c3c3f3",
   "metadata": {},
   "outputs": [
    {
     "name": "stdout",
     "output_type": "stream",
     "text": [
      "<class 'pandas.core.frame.DataFrame'>\n",
      "RangeIndex: 6678 entries, 0 to 6677\n",
      "Data columns (total 31 columns):\n",
      " #   Column                               Non-Null Count  Dtype  \n",
      "---  ------                               --------------  -----  \n",
      " 0   District                             6678 non-null   object \n",
      " 1   Site                                 6678 non-null   object \n",
      " 2   Site_Latitude                        6678 non-null   float64\n",
      " 3   Site_Longitude                       6678 non-null   float64\n",
      " 4   Site_Type                            6678 non-null   object \n",
      " 5   Site_EQHazardLevel                   6638 non-null   object \n",
      " 6   Site_EQRiskLevel                     2838 non-null   object \n",
      " 7   Site_Soil                            6638 non-null   object \n",
      " 8   Site_Liquefaction                    6638 non-null   object \n",
      " 9   Site_GroundMotionPercentile          6638 non-null   float64\n",
      " 10  Site_HasGeotechnicalStudy            6678 non-null   object \n",
      " 11  Site_ShearWaveVelocity               1196 non-null   float64\n",
      " 12  Site_EnrollmentSchoolYear            6678 non-null   object \n",
      " 13  Site_Enrollment                      6425 non-null   object \n",
      " 14  BuildingID                           6655 non-null   float64\n",
      " 15  Building                             6655 non-null   object \n",
      " 16  Building_Type                        6655 non-null   object \n",
      " 17  Building_HasEvaluation               6655 non-null   object \n",
      " 18  Building_YearBuilt                   6655 non-null   float64\n",
      " 19  Building_GrossSqFt                   6619 non-null   object \n",
      " 20  BuildingArea_Name                    6627 non-null   object \n",
      " 21  BuildingArea_YearBuilt               6627 non-null   float64\n",
      " 22  BuildingArea_CodeYear                6627 non-null   object \n",
      " 23  BuildingArea_NumberOfFloors          5421 non-null   float64\n",
      " 24  BuildingArea_ConstructionType        3577 non-null   object \n",
      " 25  BuildingArea_VerticalIrregularity    1027 non-null   object \n",
      " 26  BuildingArea_HorizontalIrregularity  1558 non-null   object \n",
      " 27  BuildingArea_ExistingRisk            3450 non-null   object \n",
      " 28  BuildingArea_HasRetrofit             6655 non-null   object \n",
      " 29  BuildingArea_RetrofitRisk            2441 non-null   object \n",
      " 30  BuildingArea_CodeRisk                2441 non-null   object \n",
      "dtypes: float64(8), object(23)\n",
      "memory usage: 1.6+ MB\n"
     ]
    }
   ],
   "source": [
    "df.info()"
   ]
  },
  {
   "cell_type": "code",
   "execution_count": 15,
   "id": "324e8616",
   "metadata": {},
   "outputs": [],
   "source": [
    "# Create a unique ID column because there are duplicate school names in different districts.\n",
    "df['Unique_Identifier'] = df['District'].astype(str) +\"_\"+ df['Site'].astype(str)"
   ]
  },
  {
   "cell_type": "code",
   "execution_count": 16,
   "id": "aa859024",
   "metadata": {},
   "outputs": [],
   "source": [
    "# Move the unique ID to the first column\n",
    "df = df[ ['Unique_Identifier'] + [ col for col in df.columns if col != 'Unique_Identifier' ] ]"
   ]
  },
  {
   "cell_type": "code",
   "execution_count": 28,
   "id": "c3771518",
   "metadata": {},
   "outputs": [],
   "source": [
    "# Fill spaces with no values to see missing data more clearly.\n",
    "df[['Site_EQRiskLevel', 'Building_HasEvaluation', 'BuildingArea_ConstructionType', 'BuildingArea_ExistingRisk', \\\n",
    "    'BuildingArea_RetrofitRisk']] = df[['Site_EQRiskLevel', 'Building_HasEvaluation', \\\n",
    "    'BuildingArea_ConstructionType', 'BuildingArea_ExistingRisk', 'BuildingArea_RetrofitRisk']].\\\n",
    "     fillna(value='no value')"
   ]
  },
  {
   "cell_type": "code",
   "execution_count": 29,
   "id": "6ce98c03",
   "metadata": {},
   "outputs": [],
   "source": [
    "# Fill spaces with no values to see missing data more clearly.\n",
    "df['Site_Enrollment'] = df['Site_Enrollment'].fillna(0)"
   ]
  },
  {
   "cell_type": "code",
   "execution_count": 31,
   "id": "a079f402",
   "metadata": {},
   "outputs": [
    {
     "data": {
      "text/plain": [
       "2023"
      ]
     },
     "execution_count": 31,
     "metadata": {},
     "output_type": "execute_result"
    }
   ],
   "source": [
    "# How many schools are in ICOS?\n",
    "df['Unique_Identifier'].nunique()"
   ]
  },
  {
   "cell_type": "code",
   "execution_count": 30,
   "id": "90cc9a08",
   "metadata": {},
   "outputs": [],
   "source": [
    "df.to_csv('data/df_icos_clean_8.14.24.csv', sep=',', index=False, encoding='utf-8')"
   ]
  },
  {
   "cell_type": "code",
   "execution_count": null,
   "id": "6b2b2edb",
   "metadata": {},
   "outputs": [],
   "source": []
  }
 ],
 "metadata": {
  "kernelspec": {
   "display_name": "Python 3 (ipykernel)",
   "language": "python",
   "name": "python3"
  },
  "language_info": {
   "codemirror_mode": {
    "name": "ipython",
    "version": 3
   },
   "file_extension": ".py",
   "mimetype": "text/x-python",
   "name": "python",
   "nbconvert_exporter": "python",
   "pygments_lexer": "ipython3",
   "version": "3.10.11"
  }
 },
 "nbformat": 4,
 "nbformat_minor": 5
}
