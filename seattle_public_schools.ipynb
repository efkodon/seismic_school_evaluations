{
 "cells": [
  {
   "cell_type": "code",
   "execution_count": 1,
   "id": "befdbb5b",
   "metadata": {},
   "outputs": [],
   "source": [
    "import pandas as pd\n",
    "import seaborn as sns\n",
    "import numpy as np\n",
    "from numpy import nan"
   ]
  },
  {
   "cell_type": "code",
   "execution_count": 2,
   "id": "e6f81669",
   "metadata": {},
   "outputs": [],
   "source": [
    "import warnings\n",
    "warnings.filterwarnings(\"ignore\")"
   ]
  },
  {
   "cell_type": "code",
   "execution_count": 3,
   "id": "5d986e60",
   "metadata": {},
   "outputs": [],
   "source": [
    "pd.set_option('display.max_columns', None)\n",
    "pd.set_option('display.max_rows', None)\n",
    "pd.set_option('display.width', None)\n",
    "pd.set_option('display.max_colwidth', None)\n",
    "pd.set_option('max_seq_item', None)"
   ]
  },
  {
   "cell_type": "code",
   "execution_count": 4,
   "id": "fb0aa364",
   "metadata": {},
   "outputs": [],
   "source": [
    "# DATA SOURCE: INFORMATION AND CONDITION OF SCHOOLS (ICOS), Pre-Disaster Mitigation module\n",
    "# Data received from WA Office of Superintendent of Public Instruction (OSPI), 8/14/24, via public records request.\n",
    "# https://www.k12.wa.us/policy-funding/school-buildings-facilities/information-and-condition-schools-icos\n",
    "df_icos_original=pd.read_csv(\"data/df_icos_clean_8.14.24.csv\")"
   ]
  },
  {
   "cell_type": "code",
   "execution_count": 5,
   "id": "317304d2",
   "metadata": {},
   "outputs": [],
   "source": [
    "# Copy the data and work with the copy.\n",
    "df_icos = df_icos_original"
   ]
  },
  {
   "cell_type": "code",
   "execution_count": 6,
   "id": "5ac1865a",
   "metadata": {},
   "outputs": [],
   "source": [
    "df_icos['BuildingID'] = df_icos['BuildingID'].astype('Int64')\n",
    "df_icos['Building_YearBuilt'] = df_icos['Building_YearBuilt'].astype('Int64')\n",
    "df_icos['BuildingArea_YearBuilt'] = df_icos['BuildingArea_YearBuilt'].astype('Int64')"
   ]
  },
  {
   "cell_type": "code",
   "execution_count": 7,
   "id": "f94a1c6b",
   "metadata": {},
   "outputs": [],
   "source": [
    "# Create a copy of the original school names before re-formatting, to show what changes were made.\n",
    "df_icos['original_Site'] = df_icos['Site']"
   ]
  },
  {
   "cell_type": "code",
   "execution_count": null,
   "id": "3aac06f1",
   "metadata": {},
   "outputs": [],
   "source": []
  },
  {
   "cell_type": "code",
   "execution_count": 219,
   "id": "6f8482cd",
   "metadata": {},
   "outputs": [],
   "source": [
    "# DATA CLEANING AND MERGING"
   ]
  },
  {
   "cell_type": "code",
   "execution_count": 220,
   "id": "aa9456fe",
   "metadata": {},
   "outputs": [],
   "source": [
    "# ICOS: Seattle "
   ]
  },
  {
   "cell_type": "code",
   "execution_count": 8,
   "id": "153fe2d4",
   "metadata": {},
   "outputs": [],
   "source": [
    "# Take only the Seattle rows from the statewide ICOS data\n",
    "mask = (df_icos['District'] == 'Seattle')\n",
    "df_icos_seattle = df_icos[mask]"
   ]
  },
  {
   "cell_type": "code",
   "execution_count": 9,
   "id": "60f69eac",
   "metadata": {},
   "outputs": [
    {
     "name": "stdout",
     "output_type": "stream",
     "text": [
      "<class 'pandas.core.frame.DataFrame'>\n",
      "Index: 332 entries, 4716 to 5047\n",
      "Data columns (total 33 columns):\n",
      " #   Column                               Non-Null Count  Dtype  \n",
      "---  ------                               --------------  -----  \n",
      " 0   Unique_Identifier                    332 non-null    object \n",
      " 1   District                             332 non-null    object \n",
      " 2   Site                                 332 non-null    object \n",
      " 3   Site_Latitude                        332 non-null    float64\n",
      " 4   Site_Longitude                       332 non-null    float64\n",
      " 5   Site_Type                            332 non-null    object \n",
      " 6   Site_EQHazardLevel                   332 non-null    object \n",
      " 7   Site_EQRiskLevel                     332 non-null    object \n",
      " 8   Site_Soil                            332 non-null    object \n",
      " 9   Site_Liquefaction                    332 non-null    object \n",
      " 10  Site_GroundMotionPercentile          332 non-null    float64\n",
      " 11  Site_HasGeotechnicalStudy            332 non-null    object \n",
      " 12  Site_ShearWaveVelocity               0 non-null      float64\n",
      " 13  Site_EnrollmentSchoolYear            332 non-null    object \n",
      " 14  Site_Enrollment                      332 non-null    object \n",
      " 15  BuildingID                           331 non-null    Int64  \n",
      " 16  Building                             331 non-null    object \n",
      " 17  Building_Type                        331 non-null    object \n",
      " 18  Building_HasEvaluation               332 non-null    object \n",
      " 19  Building_YearBuilt                   331 non-null    Int64  \n",
      " 20  Building_GrossSqFt                   331 non-null    object \n",
      " 21  BuildingArea_Name                    331 non-null    object \n",
      " 22  BuildingArea_YearBuilt               331 non-null    Int64  \n",
      " 23  BuildingArea_CodeYear                331 non-null    object \n",
      " 24  BuildingArea_NumberOfFloors          330 non-null    float64\n",
      " 25  BuildingArea_ConstructionType        332 non-null    object \n",
      " 26  BuildingArea_VerticalIrregularity    57 non-null     object \n",
      " 27  BuildingArea_HorizontalIrregularity  70 non-null     object \n",
      " 28  BuildingArea_ExistingRisk            332 non-null    object \n",
      " 29  BuildingArea_HasRetrofit             331 non-null    object \n",
      " 30  BuildingArea_RetrofitRisk            332 non-null    object \n",
      " 31  BuildingArea_CodeRisk                226 non-null    object \n",
      " 32  original_Site                        332 non-null    object \n",
      "dtypes: Int64(3), float64(5), object(25)\n",
      "memory usage: 89.2+ KB\n"
     ]
    }
   ],
   "source": [
    "df_icos_seattle.info() # There are no shear wave velocities added for any Seattle schools."
   ]
  },
  {
   "cell_type": "code",
   "execution_count": 10,
   "id": "9ca39a23",
   "metadata": {},
   "outputs": [],
   "source": [
    "# Drop the district column because all of these schools are in the same district.\n",
    "df_icos_seattle = df_icos_seattle.drop(columns=['District'])"
   ]
  },
  {
   "cell_type": "code",
   "execution_count": 11,
   "id": "57bc9235",
   "metadata": {},
   "outputs": [
    {
     "data": {
      "text/plain": [
       "(332, 32)"
      ]
     },
     "execution_count": 11,
     "metadata": {},
     "output_type": "execute_result"
    }
   ],
   "source": [
    "# How many rows (Building Areas, which are a subset of Buildings) are in ICOS for Seattle district schools?\n",
    "df_icos_seattle.shape"
   ]
  },
  {
   "cell_type": "code",
   "execution_count": 12,
   "id": "76ace36b",
   "metadata": {},
   "outputs": [],
   "source": [
    "# Adjust school names in ICOS to match styling used by the district, so the datasets can be merged by the names.\n",
    "# Re-format school names to match styles found here: https://www.seattleschools.org/schools/"
   ]
  },
  {
   "cell_type": "code",
   "execution_count": 13,
   "id": "ccbec3ca",
   "metadata": {},
   "outputs": [],
   "source": [
    "# ICOS lists many school names with the word \"school\" at the end of the name, while the district does not include \n",
    "# the word \"school\" in these names. This code erases the last word \"school\" for the schools where this is true. \n",
    "schools = ['Adams Elementary School', 'Arbor Heights Elementary School', \\\n",
    "           'Bailey Gatzert Elementary School', 'Broadview-Thomson K-8 School', 'Bryant Elementary School', \\\n",
    "           'Cascadia Elementary School', 'Catharine Blaine K-8 School', 'Cedar Park Elementary School', \\\n",
    "           'Daniel Bagley Elementary School', 'Decatur Elementary School', 'Dunlap Elementary School', \\\n",
    "           'Emerson Elementary School', 'Fairmount Park Elementary School', 'Gatewood Elementary School', \\\n",
    "           'Genesee Hill Elementary School', 'Graham Hill Elementary School', 'Green Lake Elementary School', \\\n",
    "           'Greenwood Elementary School', 'Hawthorne Elementary School', 'Hazel Wolf K-8 School', \\\n",
    "           'Highland Park Elementary School', 'John Hay Elementary School', 'John Muir Elementary School', \\\n",
    "           'John Rogers Elementary School', 'Lafayette Elementary School', 'Laurelhurst Elementary School', \\\n",
    "           'Lawton Elementary School', 'Leschi Elementary School', 'Lowell Elementary School', \\\n",
    "           'Loyal Heights Elementary School', 'Magnolia Elementary School', 'Maple Elementary School', \\\n",
    "           'McGilvra Elementary School', 'North Beach Elementary School', \\\n",
    "           'Olympic Hills Elementary School', 'Olympic View Elementary School', 'Queen Anne Elementary School', \\\n",
    "           'Rainier View Elementary School', 'Rising Star Elementary School', 'Sacajawea Elementary School', \\\n",
    "           'Sand Point Elementary School', 'Sanislo Elementary School', 'Stevens Elementary School', \\\n",
    "           'View Ridge Elementary School', 'Viewlands Elementary School', 'Wedgwood Elementary School', \\\n",
    "           'West Seattle Elementary School', 'West Woodland Elementary School', 'Whittier Elementary School', ]\n",
    "\n",
    "for i in schools:\n",
    "    my_list = df_icos_seattle[df_icos_seattle['Site'] == i]['Site'].str.split(\" \")\n",
    "    my_list = my_list.str[:-1]\n",
    "    my_list = my_list.str.join(' ')\n",
    "    df_icos_seattle['Site'] = df_icos_seattle['Site'].replace([i], [my_list])"
   ]
  },
  {
   "cell_type": "code",
   "execution_count": 14,
   "id": "db89e6f5",
   "metadata": {},
   "outputs": [],
   "source": [
    "#df_icos_seattle[df_icos_seattle['original_Site'] == i]['Site'] # check that the above renaming worked"
   ]
  },
  {
   "cell_type": "code",
   "execution_count": 15,
   "id": "d7267199",
   "metadata": {},
   "outputs": [],
   "source": [
    "df_icos_seattle['Site'] = df_icos_seattle['Site'].replace([\"Alki Elementary School\"], \\\n",
    "                                                          \"Alki Elementary\")\n",
    "df_icos_seattle['Site'] = df_icos_seattle['Site'].replace([\"Beacon Hill Int'l Elementary School\"], \\\n",
    "                                                          \"Beacon Hill International Elementary\")\n",
    "df_icos_seattle['Site'] = df_icos_seattle['Site'].replace(['B. F. Day Elementary School'], \\\n",
    "                                                          'B.F. Day Elementary')\n",
    "df_icos_seattle['Site'] = df_icos_seattle['Site'].replace(['Frantz Coe Elementary School'], 'Coe Elementary')\n",
    "df_icos_seattle['Site'] = df_icos_seattle['Site'].replace([\"Concord Int'l Elementary School\"], \\\n",
    "                                                          \"Concord International Elementary\")\n",
    "df_icos_seattle['Site'] = df_icos_seattle['Site'].replace(['Cooper (Pathfinder) Elementary School'], \\\n",
    "                                                          'Pathfinder K-8')\n",
    "df_icos_seattle['Site'] = df_icos_seattle['Site'].replace([\"Dearborn Park Intl'l Elementary School\"], \\\n",
    "                                                          \"Dearborn Park International Elementary\")\n",
    "df_icos_seattle['Site'] = df_icos_seattle['Site'].replace([\"Ingraham Int'l High School\"], \"Ingraham High School\")\n",
    "df_icos_seattle['Site'] = df_icos_seattle['Site'].replace(['John Marshall'], \\\n",
    "                                                          'John Marshall (Interim Site)')\n",
    "df_icos_seattle['Site'] = df_icos_seattle['Site'].replace([\"John Stanford Int'l Elementary School\"], \\\n",
    "                                                          \"John Stanford International Elementary\")\n",
    "df_icos_seattle['Site'] = df_icos_seattle['Site'].replace(['Kimball Elementary School (New)'], \\\n",
    "                                                          'Kimball Elementary')\n",
    "df_icos_seattle['Site'] = df_icos_seattle['Site'].replace(['Louisa Boren (STEM)'], 'Louisa Boren STEM K-8')\n",
    "df_icos_seattle['Site'] = df_icos_seattle['Site'].replace(['Martin Luther King Elementary School'], \\\n",
    "                                                          'Martin Luther King, Jr. Elementary')\n",
    "df_icos_seattle['Site'] = df_icos_seattle['Site'].replace(['Madrona K-8 School'], 'Madrona Elementary')\n",
    "df_icos_seattle['Site'] = df_icos_seattle['Site'].replace(['Mann (Nova) High School'], 'Nova High School')\n",
    "df_icos_seattle['Site'] = df_icos_seattle['Site'].replace([\"McDonald Int'l Elementary School\"], \\\n",
    "                                                          \"McDonald International Elementary\")\n",
    "df_icos_seattle['Site'] = df_icos_seattle['Site'].replace(['Monroe (Salmon Bay K-8)'], 'Salmon Bay K-8')\n",
    "df_icos_seattle['Site'] = df_icos_seattle['Site'].replace(['Montlake Elementary School'], \\\n",
    "                                                          'Montlake Elementary (old building)')\n",
    "df_icos_seattle['Site'] = df_icos_seattle['Site'].replace(['North Queen Anne Elementary School (CCCP)'], \\\n",
    "                                                          'Cascade Parent Partnership')\n",
    "df_icos_seattle['Site'] = df_icos_seattle['Site'].replace(['Orca K-8'], \\\n",
    "                                                          'Whitworth (Orca K-8)')\n",
    "df_icos_seattle['Site'] = df_icos_seattle['Site'].replace(['Seward (TOPS) K-8 School'], 'TOPS K-8')\n",
    "df_icos_seattle['Site'] = df_icos_seattle['Site'].replace(['Schmitz Park (Temp old Genesee Hill ES)'], \\\n",
    "                                                          'Schmitz Park (Interim Site)')\n",
    "df_icos_seattle['Site'] = df_icos_seattle['Site'].replace(['Seattle World School'], \\\n",
    "                                                          'Seattle World School (@T.T. Minor)')\n",
    "df_icos_seattle['Site'] = df_icos_seattle['Site'].replace(['South Shore K-8 School'], 'South Shore PK-8')\n",
    "df_icos_seattle['Site'] = df_icos_seattle['Site'].replace(['Thornton Creek School'], 'Thornton Creek Elementary')\n",
    "df_icos_seattle['Site'] = df_icos_seattle['Site'].replace(['Thurgood Marshall (Colman) Elementary School'], \\\n",
    "                                                          'Thurgood Marshall Elementary')\n",
    "df_icos_seattle['Site'] = df_icos_seattle['Site'].replace(['Orca K-8'], 'Whitworth (Orca K-8)')\n",
    "df_icos_seattle['Site'] = df_icos_seattle['Site'].replace(['Wing Luke Elementary (New)'], 'Wing Luke Elementary')\n",
    "df_icos_seattle['Site'] = df_icos_seattle['Site'].replace(['Northgate Elementary School'], \\\n",
    "                                                          'James Baldwin Elementary')\n",
    "df_icos_seattle['Site'] = df_icos_seattle['Site'].replace(['Queen Anne Gym'], 'Queen Anne Gymnasium (Interagency)')\n",
    "df_icos_seattle['Site'] = df_icos_seattle['Site'].replace(['Schmitz Park (Temp old Genesee Hill ES)'], \\\n",
    "                                                          'Schmitz Park (Interim Site)')\n",
    "df_icos_seattle['Site'] = df_icos_seattle['Site'].replace(['Schmitz Park (Interim site)'], \\\n",
    "                                                          'Schmitz Park (Interim Site)')\n",
    "df_icos_seattle['Site'] = df_icos_seattle['Site'].replace(['TOPS K-8'], 'Seward (TOPS K-8)')\n",
    "df_icos_seattle['Site'] = df_icos_seattle['Site'].replace(['Van Asselt (Old) Elementary School'], \\\n",
    "                                  'Van Asselt (Interim Site)')"
   ]
  },
  {
   "cell_type": "code",
   "execution_count": 16,
   "id": "e7a9b40a",
   "metadata": {},
   "outputs": [],
   "source": [
    "# df_icos_seattle['Site'].drop_duplicates().sort_values() # check that all of the renaming worked"
   ]
  },
  {
   "cell_type": "code",
   "execution_count": 17,
   "id": "3f25aa5d",
   "metadata": {},
   "outputs": [
    {
     "data": {
      "text/plain": [
       "104"
      ]
     },
     "execution_count": 17,
     "metadata": {},
     "output_type": "execute_result"
    }
   ],
   "source": [
    "# How many Seattle schools are in ICOS?\n",
    "df_icos_seattle['Site'].nunique()"
   ]
  },
  {
   "cell_type": "code",
   "execution_count": 18,
   "id": "d3d1ba75",
   "metadata": {},
   "outputs": [
    {
     "data": {
      "text/plain": [
       "(143, 2)"
      ]
     },
     "execution_count": 18,
     "metadata": {},
     "output_type": "execute_result"
    }
   ],
   "source": [
    "# There are 104 schools (col 2), but combined with retrofit status (col 29) and de-duplicated, there are 140 rows. \n",
    "# This means some schools have more than one value for retrofit status within all rows for that school.\n",
    "# This could indicate partial retrofits.\n",
    "df_icos_seattle_retrofit = df_icos_seattle.iloc[:, [2, 29]]\n",
    "df_icos_seattle_retrofit_2 = df_icos_seattle_retrofit.drop_duplicates()\n",
    "df_icos_seattle_retrofit_2.shape "
   ]
  },
  {
   "cell_type": "code",
   "execution_count": 19,
   "id": "38f6eaf3",
   "metadata": {},
   "outputs": [],
   "source": [
    "# DATA SOURCE: Seattle Public Schools. Information updated by the district in July 2024.\n",
    "# https://www.seattleschools.org/departments/capital-projects-and-planning/facilities-master-plan/seismic-information/"
   ]
  },
  {
   "cell_type": "code",
   "execution_count": 22,
   "id": "e57f9036",
   "metadata": {},
   "outputs": [],
   "source": [
    "df_seattle_original=pd.read_csv(\"data/seattle_seismic_upgrades_July_2024.csv\")"
   ]
  },
  {
   "cell_type": "code",
   "execution_count": 23,
   "id": "3b33f3d9",
   "metadata": {},
   "outputs": [],
   "source": [
    "# Copy the district data and work with the copy.\n",
    "df_seattle = df_seattle_original"
   ]
  },
  {
   "cell_type": "code",
   "execution_count": 24,
   "id": "f3a37c4c",
   "metadata": {},
   "outputs": [
    {
     "name": "stdout",
     "output_type": "stream",
     "text": [
      "<class 'pandas.core.frame.DataFrame'>\n",
      "RangeIndex: 108 entries, 0 to 107\n",
      "Data columns (total 2 columns):\n",
      " #   Column                                Non-Null Count  Dtype \n",
      "---  ------                                --------------  ----- \n",
      " 0   Building/School                       108 non-null    object\n",
      " 1   Year of Most Recent Seismic Retrofit  108 non-null    object\n",
      "dtypes: object(2)\n",
      "memory usage: 1.8+ KB\n"
     ]
    }
   ],
   "source": [
    "df_seattle.info()"
   ]
  },
  {
   "cell_type": "code",
   "execution_count": 25,
   "id": "c42a9746",
   "metadata": {},
   "outputs": [],
   "source": [
    "# rename column\n",
    "df_seattle = df_seattle.rename(columns= {\"Building/School\": \"school_building\"})"
   ]
  },
  {
   "cell_type": "code",
   "execution_count": 26,
   "id": "14d35e17",
   "metadata": {},
   "outputs": [
    {
     "data": {
      "text/plain": [
       "school_building                         Northgate (Now James Baldwin)\n",
       "Year of Most Recent Seismic Retrofit               See Baldwin, James\n",
       "Name: 75, dtype: object"
      ]
     },
     "execution_count": 26,
     "metadata": {},
     "output_type": "execute_result"
    }
   ],
   "source": [
    "df_seattle.loc[75] # this row needs to be deleted because it is just a placeholder for James Baldwin"
   ]
  },
  {
   "cell_type": "code",
   "execution_count": 27,
   "id": "7e2dd791",
   "metadata": {},
   "outputs": [],
   "source": [
    "df_seattle.drop([75], axis=0, inplace=True)"
   ]
  },
  {
   "cell_type": "code",
   "execution_count": 28,
   "id": "c5def6e7",
   "metadata": {},
   "outputs": [],
   "source": [
    "df_seattle[\"Year of Most Recent Seismic Retrofit\"]=df_seattle[\"Year of Most Recent Seismic Retrofit\"].\\\n",
    "    str.replace(':',' ')"
   ]
  },
  {
   "cell_type": "code",
   "execution_count": 29,
   "id": "efce7884",
   "metadata": {},
   "outputs": [],
   "source": [
    "# Separate into two columns, splitting after the first listed year. \n",
    "df_seattle[['sps_upgrade_year', 'sps_upgrade_notes']] = df_seattle\\\n",
    "['Year of Most Recent Seismic Retrofit'].str.split(\" \", n=1, expand=True)"
   ]
  },
  {
   "cell_type": "code",
   "execution_count": 30,
   "id": "f21051ed",
   "metadata": {},
   "outputs": [],
   "source": [
    "df_seattle = df_seattle.drop(columns=\\\n",
    "                             ['Year of Most Recent Seismic Retrofit'])"
   ]
  },
  {
   "cell_type": "code",
   "execution_count": 31,
   "id": "a98392c1",
   "metadata": {},
   "outputs": [],
   "source": [
    "# Merge with SPS unreinforced masonry list"
   ]
  },
  {
   "cell_type": "code",
   "execution_count": 32,
   "id": "27ea4c85",
   "metadata": {},
   "outputs": [],
   "source": [
    "# DATA SOURCE: Seattle Public Schools URMs list. Information updated by the district in July 2024.\n",
    "# https://www.seattleschools.org/wp-content/uploads/2024/08/urm_listed_seismic_improvements_updated_July2024.pdf\n",
    "df_seattle_urms=pd.read_csv(\"data/seattle_urm_seismic_improvements_July_2024.csv\")"
   ]
  },
  {
   "cell_type": "code",
   "execution_count": 33,
   "id": "c68dc03c",
   "metadata": {},
   "outputs": [],
   "source": [
    "# rename columns\n",
    "df_seattle_urms = df_seattle_urms.rename(columns=\\\n",
    "            {\"Seattle Public School building shown on the City of Seattle's Unreinforced Masonry (URM) list\": \\\n",
    "             \"school_building\", \"Year of most recent seismic retrofits\": \"sps_urms_retrofit_yr_2024\", \\\n",
    "             \"Note\": 'sps_urms_note_2024'})"
   ]
  },
  {
   "cell_type": "code",
   "execution_count": 34,
   "id": "850a9548",
   "metadata": {},
   "outputs": [],
   "source": [
    "# Add the older version of the district URM list for comparison too.\n",
    "# DATA SOURCE: Seattle Public Schools URMs list. Information updated by the district in October 2019.\n",
    "# https://www.seattleschools.org/wp-content/uploads/2021/07/urm_listed_seismic_improvements_updated_oct2019.pdf\n",
    "df_seattle_urms_2019=pd.read_csv(\"data/seattle_urm_seismic_improvements_updated_Oct_2019.csv\")"
   ]
  },
  {
   "cell_type": "code",
   "execution_count": 35,
   "id": "84dd54b1",
   "metadata": {},
   "outputs": [],
   "source": [
    "# rename columns\n",
    "df_seattle_urms_2019 = df_seattle_urms_2019.rename(columns=\\\n",
    "            {\"Seattle Public School building shown on the City of Seattle's Unreinforced Masonry (URM) List\": \\\n",
    "             \"school_building\", \"Year of most recent seismic retrofits\": \"sps_urms_retrofit_yr_2019\", \\\n",
    "             \"Note\": 'sps_urms_note_2019'})"
   ]
  },
  {
   "cell_type": "code",
   "execution_count": 36,
   "id": "66556fc3",
   "metadata": {},
   "outputs": [],
   "source": [
    "# Adjust the school names in the 2019 SPS list to merge with the 2024 SPS list\n",
    "df_seattle_urms_2019['school_building'] = df_seattle_urms_2019['school_building'].replace\\\n",
    "                               (['Bagley (Daniel Bagley)'], 'Bagley, Daniel')\n",
    "df_seattle_urms_2019['school_building'] = df_seattle_urms_2019['school_building'].replace\\\n",
    "                               (['B.F. Day'], 'Day, B.F.')\n",
    "df_seattle_urms_2019['school_building'] = df_seattle_urms_2019['school_building'].replace\\\n",
    "                               (['Marshall (John Marshall)'], 'Marshall, John (interim site)')\n",
    "df_seattle_urms_2019['school_building'] = df_seattle_urms_2019['school_building'].replace\\\n",
    "                               (['Queen Anne ES'], 'Queen Anne ES (aka Old Hay)')"
   ]
  },
  {
   "cell_type": "code",
   "execution_count": 37,
   "id": "8a9fe6de",
   "metadata": {},
   "outputs": [],
   "source": [
    "# Merge SPS urms data from 2019 and 2024\n",
    "df_seattle_urms_merged = df_seattle_urms.merge(df_seattle_urms_2019, how = 'left', on = ['school_building'])"
   ]
  },
  {
   "cell_type": "code",
   "execution_count": 38,
   "id": "814f51f5",
   "metadata": {},
   "outputs": [],
   "source": [
    "df_seattle_urms_merged['sps_urms_retrofit_yr_2019'] = df_seattle_urms_merged['sps_urms_retrofit_yr_2019']\\\n",
    "    .astype('Int64')"
   ]
  },
  {
   "cell_type": "code",
   "execution_count": 39,
   "id": "8d2ad717",
   "metadata": {},
   "outputs": [
    {
     "data": {
      "text/plain": [
       "(24, 5)"
      ]
     },
     "execution_count": 39,
     "metadata": {},
     "output_type": "execute_result"
    }
   ],
   "source": [
    "df_seattle_urms_merged.shape"
   ]
  },
  {
   "cell_type": "code",
   "execution_count": 40,
   "id": "8e5736c7",
   "metadata": {},
   "outputs": [],
   "source": [
    "df_seattle_urms = df_seattle_urms_merged"
   ]
  },
  {
   "cell_type": "code",
   "execution_count": 41,
   "id": "e89649ed",
   "metadata": {},
   "outputs": [],
   "source": [
    "# add a column to mark these as urms for merging with the rest of the schools\n",
    "df_seattle_urms['unreinforced_masonry_list'] = 'yes'"
   ]
  },
  {
   "cell_type": "code",
   "execution_count": 42,
   "id": "83f09f0f",
   "metadata": {},
   "outputs": [],
   "source": [
    "df_seattle_urms[['sps_urms_note_2019', 'sps_urms_note_2024']] = df_seattle_urms\\\n",
    "[['sps_urms_note_2019', 'sps_urms_note_2024']].fillna(value='n/a')"
   ]
  },
  {
   "cell_type": "code",
   "execution_count": 43,
   "id": "f7f98f9d",
   "metadata": {},
   "outputs": [
    {
     "data": {
      "text/html": [
       "<div>\n",
       "<style scoped>\n",
       "    .dataframe tbody tr th:only-of-type {\n",
       "        vertical-align: middle;\n",
       "    }\n",
       "\n",
       "    .dataframe tbody tr th {\n",
       "        vertical-align: top;\n",
       "    }\n",
       "\n",
       "    .dataframe thead th {\n",
       "        text-align: right;\n",
       "    }\n",
       "</style>\n",
       "<table border=\"1\" class=\"dataframe\">\n",
       "  <thead>\n",
       "    <tr style=\"text-align: right;\">\n",
       "      <th></th>\n",
       "      <th>school_building</th>\n",
       "      <th>sps_urms_retrofit_yr_2024</th>\n",
       "      <th>sps_urms_note_2024</th>\n",
       "      <th>sps_urms_retrofit_yr_2019</th>\n",
       "      <th>sps_urms_note_2019</th>\n",
       "      <th>unreinforced_masonry_list</th>\n",
       "    </tr>\n",
       "  </thead>\n",
       "  <tbody>\n",
       "    <tr>\n",
       "      <th>0</th>\n",
       "      <td>Bagley, Daniel</td>\n",
       "      <td>2020</td>\n",
       "      <td>Major renovation</td>\n",
       "      <td>2020</td>\n",
       "      <td>Undergoing modernization</td>\n",
       "      <td>yes</td>\n",
       "    </tr>\n",
       "    <tr>\n",
       "      <th>1</th>\n",
       "      <td>Concord</td>\n",
       "      <td>2000</td>\n",
       "      <td>n/a</td>\n",
       "      <td>2000</td>\n",
       "      <td>Complete renovation</td>\n",
       "      <td>yes</td>\n",
       "    </tr>\n",
       "    <tr>\n",
       "      <th>2</th>\n",
       "      <td>Day, B.F.</td>\n",
       "      <td>2017</td>\n",
       "      <td>n/a</td>\n",
       "      <td>2017</td>\n",
       "      <td>n/a</td>\n",
       "      <td>yes</td>\n",
       "    </tr>\n",
       "    <tr>\n",
       "      <th>3</th>\n",
       "      <td>Dunlap</td>\n",
       "      <td>2000</td>\n",
       "      <td>Major renovation</td>\n",
       "      <td>2000</td>\n",
       "      <td>Complete renovation</td>\n",
       "      <td>yes</td>\n",
       "    </tr>\n",
       "    <tr>\n",
       "      <th>4</th>\n",
       "      <td>Hughes, E.C. (Roxhill ES)</td>\n",
       "      <td>2018</td>\n",
       "      <td>Major renovation</td>\n",
       "      <td>&lt;NA&gt;</td>\n",
       "      <td>n/a</td>\n",
       "      <td>yes</td>\n",
       "    </tr>\n",
       "    <tr>\n",
       "      <th>5</th>\n",
       "      <td>Emerson</td>\n",
       "      <td>2001</td>\n",
       "      <td>Major renovation</td>\n",
       "      <td>2001</td>\n",
       "      <td>Complete renovation</td>\n",
       "      <td>yes</td>\n",
       "    </tr>\n",
       "    <tr>\n",
       "      <th>6</th>\n",
       "      <td>Franklin</td>\n",
       "      <td>2015</td>\n",
       "      <td>n/a</td>\n",
       "      <td>2015</td>\n",
       "      <td>n/a</td>\n",
       "      <td>yes</td>\n",
       "    </tr>\n",
       "    <tr>\n",
       "      <th>7</th>\n",
       "      <td>Gatewood</td>\n",
       "      <td>2017</td>\n",
       "      <td>n/a</td>\n",
       "      <td>2017</td>\n",
       "      <td>n/a</td>\n",
       "      <td>yes</td>\n",
       "    </tr>\n",
       "    <tr>\n",
       "      <th>8</th>\n",
       "      <td>Greenwood</td>\n",
       "      <td>2002</td>\n",
       "      <td>n/a</td>\n",
       "      <td>&lt;NA&gt;</td>\n",
       "      <td>n/a</td>\n",
       "      <td>yes</td>\n",
       "    </tr>\n",
       "    <tr>\n",
       "      <th>9</th>\n",
       "      <td>Laurelhurst</td>\n",
       "      <td>2019</td>\n",
       "      <td>n/a</td>\n",
       "      <td>2019</td>\n",
       "      <td>n/a</td>\n",
       "      <td>yes</td>\n",
       "    </tr>\n",
       "    <tr>\n",
       "      <th>10</th>\n",
       "      <td>Lincoln</td>\n",
       "      <td>2022</td>\n",
       "      <td>Major renovation (west buildings 2019)</td>\n",
       "      <td>2019</td>\n",
       "      <td>Additional planned in 2022</td>\n",
       "      <td>yes</td>\n",
       "    </tr>\n",
       "    <tr>\n",
       "      <th>11</th>\n",
       "      <td>Lowell</td>\n",
       "      <td>2018</td>\n",
       "      <td>n/a</td>\n",
       "      <td>2018</td>\n",
       "      <td>n/a</td>\n",
       "      <td>yes</td>\n",
       "    </tr>\n",
       "    <tr>\n",
       "      <th>12</th>\n",
       "      <td>McDonald</td>\n",
       "      <td>2012</td>\n",
       "      <td>n/a</td>\n",
       "      <td>2012</td>\n",
       "      <td>n/a</td>\n",
       "      <td>yes</td>\n",
       "    </tr>\n",
       "    <tr>\n",
       "      <th>13</th>\n",
       "      <td>McGilvra</td>\n",
       "      <td>2015</td>\n",
       "      <td>n/a</td>\n",
       "      <td>2018</td>\n",
       "      <td>n/a</td>\n",
       "      <td>yes</td>\n",
       "    </tr>\n",
       "    <tr>\n",
       "      <th>14</th>\n",
       "      <td>Magnolia</td>\n",
       "      <td>2019</td>\n",
       "      <td>Major renovation</td>\n",
       "      <td>2019</td>\n",
       "      <td>Complete renovation</td>\n",
       "      <td>yes</td>\n",
       "    </tr>\n",
       "    <tr>\n",
       "      <th>15</th>\n",
       "      <td>Mann, Horace (Nova)</td>\n",
       "      <td>2015</td>\n",
       "      <td>Major renovation</td>\n",
       "      <td>2015</td>\n",
       "      <td>Complete renovation</td>\n",
       "      <td>yes</td>\n",
       "    </tr>\n",
       "    <tr>\n",
       "      <th>16</th>\n",
       "      <td>Marshall, John (interim site)</td>\n",
       "      <td>2014</td>\n",
       "      <td>n/a</td>\n",
       "      <td>2014</td>\n",
       "      <td>n/a</td>\n",
       "      <td>yes</td>\n",
       "    </tr>\n",
       "    <tr>\n",
       "      <th>17</th>\n",
       "      <td>Monroe (Salmon Bay K-8)</td>\n",
       "      <td>2017</td>\n",
       "      <td>n/a</td>\n",
       "      <td>2017</td>\n",
       "      <td>n/a</td>\n",
       "      <td>yes</td>\n",
       "    </tr>\n",
       "    <tr>\n",
       "      <th>18</th>\n",
       "      <td>North Queen Anne</td>\n",
       "      <td>2023</td>\n",
       "      <td>Major renovation</td>\n",
       "      <td>&lt;NA&gt;</td>\n",
       "      <td>n/a</td>\n",
       "      <td>yes</td>\n",
       "    </tr>\n",
       "    <tr>\n",
       "      <th>19</th>\n",
       "      <td>Queen Anne ES (aka Old Hay)</td>\n",
       "      <td>2019</td>\n",
       "      <td>n/a</td>\n",
       "      <td>2019</td>\n",
       "      <td>n/a</td>\n",
       "      <td>yes</td>\n",
       "    </tr>\n",
       "    <tr>\n",
       "      <th>20</th>\n",
       "      <td>Seward (TOPS)</td>\n",
       "      <td>1999</td>\n",
       "      <td>n/a</td>\n",
       "      <td>1999</td>\n",
       "      <td>Complete renovation</td>\n",
       "      <td>yes</td>\n",
       "    </tr>\n",
       "    <tr>\n",
       "      <th>21</th>\n",
       "      <td>View Ridge</td>\n",
       "      <td>2019</td>\n",
       "      <td>n/a</td>\n",
       "      <td>&lt;NA&gt;</td>\n",
       "      <td>n/a</td>\n",
       "      <td>yes</td>\n",
       "    </tr>\n",
       "    <tr>\n",
       "      <th>22</th>\n",
       "      <td>Webster (Licton Springs K-8)</td>\n",
       "      <td>2020</td>\n",
       "      <td>Major renovation</td>\n",
       "      <td>&lt;NA&gt;</td>\n",
       "      <td>n/a</td>\n",
       "      <td>yes</td>\n",
       "    </tr>\n",
       "    <tr>\n",
       "      <th>23</th>\n",
       "      <td>West Seattle HS</td>\n",
       "      <td>2002</td>\n",
       "      <td>n/a</td>\n",
       "      <td>2002</td>\n",
       "      <td>n/a</td>\n",
       "      <td>yes</td>\n",
       "    </tr>\n",
       "  </tbody>\n",
       "</table>\n",
       "</div>"
      ],
      "text/plain": [
       "                  school_building  sps_urms_retrofit_yr_2024  \\\n",
       "0                  Bagley, Daniel                       2020   \n",
       "1                         Concord                       2000   \n",
       "2                       Day, B.F.                       2017   \n",
       "3                          Dunlap                       2000   \n",
       "4       Hughes, E.C. (Roxhill ES)                       2018   \n",
       "5                         Emerson                       2001   \n",
       "6                        Franklin                       2015   \n",
       "7                        Gatewood                       2017   \n",
       "8                       Greenwood                       2002   \n",
       "9                     Laurelhurst                       2019   \n",
       "10                        Lincoln                       2022   \n",
       "11                         Lowell                       2018   \n",
       "12                       McDonald                       2012   \n",
       "13                       McGilvra                       2015   \n",
       "14                       Magnolia                       2019   \n",
       "15            Mann, Horace (Nova)                       2015   \n",
       "16  Marshall, John (interim site)                       2014   \n",
       "17        Monroe (Salmon Bay K-8)                       2017   \n",
       "18               North Queen Anne                       2023   \n",
       "19    Queen Anne ES (aka Old Hay)                       2019   \n",
       "20                  Seward (TOPS)                       1999   \n",
       "21                     View Ridge                       2019   \n",
       "22   Webster (Licton Springs K-8)                       2020   \n",
       "23                West Seattle HS                       2002   \n",
       "\n",
       "                        sps_urms_note_2024  sps_urms_retrofit_yr_2019  \\\n",
       "0                         Major renovation                       2020   \n",
       "1                                      n/a                       2000   \n",
       "2                                      n/a                       2017   \n",
       "3                         Major renovation                       2000   \n",
       "4                         Major renovation                       <NA>   \n",
       "5                         Major renovation                       2001   \n",
       "6                                      n/a                       2015   \n",
       "7                                      n/a                       2017   \n",
       "8                                      n/a                       <NA>   \n",
       "9                                      n/a                       2019   \n",
       "10  Major renovation (west buildings 2019)                       2019   \n",
       "11                                     n/a                       2018   \n",
       "12                                     n/a                       2012   \n",
       "13                                     n/a                       2018   \n",
       "14                        Major renovation                       2019   \n",
       "15                        Major renovation                       2015   \n",
       "16                                     n/a                       2014   \n",
       "17                                     n/a                       2017   \n",
       "18                        Major renovation                       <NA>   \n",
       "19                                     n/a                       2019   \n",
       "20                                     n/a                       1999   \n",
       "21                                     n/a                       <NA>   \n",
       "22                        Major renovation                       <NA>   \n",
       "23                                     n/a                       2002   \n",
       "\n",
       "            sps_urms_note_2019 unreinforced_masonry_list  \n",
       "0     Undergoing modernization                       yes  \n",
       "1          Complete renovation                       yes  \n",
       "2                          n/a                       yes  \n",
       "3          Complete renovation                       yes  \n",
       "4                          n/a                       yes  \n",
       "5          Complete renovation                       yes  \n",
       "6                          n/a                       yes  \n",
       "7                          n/a                       yes  \n",
       "8                          n/a                       yes  \n",
       "9                          n/a                       yes  \n",
       "10  Additional planned in 2022                       yes  \n",
       "11                         n/a                       yes  \n",
       "12                         n/a                       yes  \n",
       "13                         n/a                       yes  \n",
       "14         Complete renovation                       yes  \n",
       "15         Complete renovation                       yes  \n",
       "16                         n/a                       yes  \n",
       "17                         n/a                       yes  \n",
       "18                         n/a                       yes  \n",
       "19                         n/a                       yes  \n",
       "20         Complete renovation                       yes  \n",
       "21                         n/a                       yes  \n",
       "22                         n/a                       yes  \n",
       "23                         n/a                       yes  "
      ]
     },
     "execution_count": 43,
     "metadata": {},
     "output_type": "execute_result"
    }
   ],
   "source": [
    "df_seattle_urms # Garfield and West Seattle Elementary were listed in 2019 but do not appar below because\n",
    "# they were no longer listed in 2024"
   ]
  },
  {
   "cell_type": "code",
   "execution_count": 44,
   "id": "3df16388",
   "metadata": {},
   "outputs": [],
   "source": [
    "# Edit the school names in the URM list to match the school names used by the district found earlier\n",
    "df_seattle_urms['school_building'] = df_seattle_urms['school_building'].replace(['Hughes, E.C. (Roxhill ES)'], \\\n",
    "                                                                      'Hughes, E.C. (Roxhill)')\n",
    "df_seattle_urms['school_building'] = df_seattle_urms['school_building'].replace(['Marshall, John (interim site)'], \\\n",
    "                                                                      'Marshall, John (Interim site)')\n",
    "df_seattle_urms['school_building'] = df_seattle_urms['school_building'].replace(['North Queen Anne'], \\\n",
    "                                          'North Queen Anne School (Cascade Parent Partnership)')\n",
    "df_seattle_urms['school_building'] = df_seattle_urms['school_building'].replace(['Queen Anne ES (aka Old Hay)'], \\\n",
    "                                                                      'Hay (Queen Anne)')\n",
    "df_seattle_urms['school_building'] = df_seattle_urms['school_building'].replace(['Webster (Licton Springs K-8)'], \\\n",
    "                                                                      'Webster')\n",
    "df_seattle_urms['school_building'] = df_seattle_urms['school_building'].replace(['West Seattle HS'], \\\n",
    "                                                                      'West Seattle High School')"
   ]
  },
  {
   "cell_type": "code",
   "execution_count": 45,
   "id": "3961666e",
   "metadata": {},
   "outputs": [],
   "source": [
    "# Merge Seattle ICOS and district data\n",
    "df_seattle_merged = df_seattle.merge(df_seattle_urms, how = 'left', on = ['school_building'])"
   ]
  },
  {
   "cell_type": "code",
   "execution_count": 46,
   "id": "d2d0f94a",
   "metadata": {},
   "outputs": [],
   "source": [
    "df_seattle_merged['unreinforced_masonry_list'] = df_seattle_merged['unreinforced_masonry_list'].fillna('no')\n",
    "df_seattle_merged['sps_upgrade_notes'] = df_seattle_merged['sps_upgrade_notes'].fillna('none')"
   ]
  },
  {
   "cell_type": "code",
   "execution_count": 47,
   "id": "a9a9ac3e",
   "metadata": {},
   "outputs": [
    {
     "name": "stdout",
     "output_type": "stream",
     "text": [
      "<class 'pandas.core.frame.DataFrame'>\n",
      "RangeIndex: 107 entries, 0 to 106\n",
      "Data columns (total 8 columns):\n",
      " #   Column                     Non-Null Count  Dtype  \n",
      "---  ------                     --------------  -----  \n",
      " 0   school_building            107 non-null    object \n",
      " 1   sps_upgrade_year           107 non-null    object \n",
      " 2   sps_upgrade_notes          107 non-null    object \n",
      " 3   sps_urms_retrofit_yr_2024  24 non-null     float64\n",
      " 4   sps_urms_note_2024         24 non-null     object \n",
      " 5   sps_urms_retrofit_yr_2019  19 non-null     Int64  \n",
      " 6   sps_urms_note_2019         24 non-null     object \n",
      " 7   unreinforced_masonry_list  107 non-null    object \n",
      "dtypes: Int64(1), float64(1), object(6)\n",
      "memory usage: 6.9+ KB\n"
     ]
    }
   ],
   "source": [
    "df_seattle_merged.info()"
   ]
  },
  {
   "cell_type": "code",
   "execution_count": 48,
   "id": "5de064fb",
   "metadata": {},
   "outputs": [],
   "source": [
    "df_seattle = df_seattle_merged"
   ]
  },
  {
   "cell_type": "code",
   "execution_count": 49,
   "id": "ced2906a",
   "metadata": {},
   "outputs": [],
   "source": [
    "# School names are formatted differently within the district website. Re-format school names to match styles\n",
    "# found here: https://www.seattleschools.org/schools/. Some are adjusted to reflect temporary relocations."
   ]
  },
  {
   "cell_type": "code",
   "execution_count": 50,
   "id": "2e5f212e",
   "metadata": {},
   "outputs": [],
   "source": [
    "# Create a copy of the original school names before re-formatting, to show what changes were made.\n",
    "df_seattle['original_school_building'] = df_seattle['school_building']"
   ]
  },
  {
   "cell_type": "code",
   "execution_count": 51,
   "id": "bbf7d8b9",
   "metadata": {},
   "outputs": [],
   "source": [
    "# This data from the district has some school names with unusual styling as proper names \n",
    "# (last name, first name), which is inconsistent with their  usual styling by the district. \n",
    "# Split the names at the comma, get rid of the comma, and reorder the words.\n",
    "schools = [0, 1, 5, 6, 9, 17, 21, 23, 33, 38, 41, 48, 57, 62, 63, 68, 72, 82]\n",
    "\n",
    "for i in schools:\n",
    "    df_seattle['school_building'].iloc[i] = df_seattle.school_building.str.split(\",\").str[::-1]\\\n",
    "         .str.join(\" \").apply(lambda x: x.strip() if isinstance(x, str) else x).iloc[i]\n",
    "    df_seattle['school_building'].iloc[i] = df_seattle.school_building.str.split(\" \").iloc[i]\n",
    "    my_list = (df_seattle['school_building'].iloc[i][:])\n",
    "    my_list.insert(1, my_list.pop(-1))\n",
    "    df_seattle['school_building'].iloc[i] = ' '.join(my_list)\n",
    "    \n",
    "# 'strip' gets rid of a space that was added before each school name during the above process"
   ]
  },
  {
   "cell_type": "code",
   "execution_count": 52,
   "id": "928eb60a",
   "metadata": {},
   "outputs": [],
   "source": [
    "# Seattle Public Schools omits the word 'Elementary' at the end of school names in this list. Add this word.\n",
    "schools = ['Alki', 'Arbor Heights', 'Bailey Gatzert', 'Bryant', 'Cascadia', 'Cedar Park', 'Daniel Bagley', \\\n",
    "           'Dunlap', 'Emerson', 'Fairmount Park', 'Gatewood', 'Genesee Hill', 'Graham Hill', 'Green Lake', \\\n",
    "           'Greenwood', 'Hawthorne', 'Highland Park', 'James Baldwin', 'John Hay', 'John Muir', 'Lafayette', \\\n",
    "           'Laurelhurst', 'Lawton', 'Leschi', 'Lowell', 'Loyal Heights', 'Madrona', 'Magnolia', 'Maple', \\\n",
    "           'McGilvra', 'North Beach', 'Olympic Hills', 'Olympic View', 'Rainier View', 'Sacajawea', 'Sand Point', \\\n",
    "            'Sanislo', 'Stevens', 'Thornton Creek', 'Thurgood Marshall', 'View Ridge', 'Viewlands', \\\n",
    "            'Wedgwood', 'West Woodland', 'Whittier', 'Wing Luke']\n",
    "\n",
    "for i in schools:\n",
    "    my_list = df_seattle[df_seattle['school_building'] == i]['school_building']\n",
    "    my_list = my_list+ \" Elementary\"\n",
    "    df_seattle['school_building'] = df_seattle['school_building'].replace([i], [my_list])"
   ]
  },
  {
   "cell_type": "code",
   "execution_count": 53,
   "id": "8f9c1255",
   "metadata": {},
   "outputs": [],
   "source": [
    "# Seattle Public Schools omits the words 'Middle School' at the end of school names in this list. Add this.\n",
    "schools = ['Aki Kurose', 'Jane Addams', 'Denny International', 'Eckstein', 'McClure', 'Meany', 'Washington']\n",
    "\n",
    "for i in schools:\n",
    "    my_list = df_seattle[df_seattle['school_building'] == i]['school_building']\n",
    "    my_list = my_list+ \" Middle School\"\n",
    "    df_seattle['school_building'] = df_seattle['school_building'].replace([i], [my_list])"
   ]
  },
  {
   "cell_type": "code",
   "execution_count": 54,
   "id": "24c97749",
   "metadata": {},
   "outputs": [],
   "source": [
    "# Seattle Public Schools omits the words 'High School' at the end of school names in this list. Add this.\n",
    "schools = ['Ballard', 'Franklin', 'Garfield', 'Nathan Hale', 'Ingraham', 'Lincoln', 'Rainier Beach', 'Roosevelt']\n",
    "\n",
    "for i in schools:\n",
    "    my_list = df_seattle[df_seattle['school_building'] == i]['school_building']\n",
    "    my_list = my_list+ \" High School\"\n",
    "    df_seattle['school_building'] = df_seattle['school_building'].replace([i], [my_list])"
   ]
  },
  {
   "cell_type": "code",
   "execution_count": 55,
   "id": "f17cd106",
   "metadata": {},
   "outputs": [],
   "source": [
    "# Adjusting school names for matching with ICOS, based on school names listed by Seattle Public Schools online.\n",
    "df_seattle['school_building'] = df_seattle['school_building'].replace(['John Adams'], 'Adams Elementary')\n",
    "df_seattle['school_building'] = df_seattle['school_building'].replace(['African American Academy (Rising Star)'], \\\n",
    "                                                                      'Rising Star Elementary')\n",
    "df_seattle['school_building'] = df_seattle['school_building'].replace(['Beacon Hill Int’l'], \\\n",
    "                                                                      'Beacon Hill International Elementary')\n",
    "df_seattle['school_building'] = df_seattle['school_building'].replace(['Catharine Blaine'], 'Catharine Blaine K-8')\n",
    "df_seattle['school_building'] = df_seattle['school_building'].replace(['Boren, Louisa STEM K-8'], \\\n",
    "                                                                      'Louisa Boren STEM K-8')\n",
    "df_seattle['school_building'] = df_seattle['school_building'].replace(['Broadview-Thomson'], \\\n",
    "                                                                      'Broadview-Thomson K-8')\n",
    "df_seattle['school_building'] = df_seattle['school_building'].replace(['Chief Sealth'], \\\n",
    "                                                                      'Chief Sealth International High School')\n",
    "df_seattle['school_building'] = df_seattle['school_building'].replace(['Cleveland STEM'], 'Cleveland High School')\n",
    "df_seattle['school_building'] = df_seattle['school_building'].replace(['Frantz Coe'], 'Coe Elementary')\n",
    "df_seattle['school_building'] = df_seattle['school_building'].replace(['Columbia'], 'Columbia School')\n",
    "df_seattle['school_building'] = df_seattle['school_building'].replace(['Concord'], \\\n",
    "                                                                      'Concord International Elementary')\n",
    "df_seattle['school_building'] = df_seattle['school_building'].replace(['Cooper, Frank B. (Pathfinder)'], \n",
    "                                                                      'Pathfinder K-8')\n",
    "df_seattle['school_building'] = df_seattle['school_building'].replace(['B.F. Day'], \\\n",
    "                                                                      'B.F. Day Elementary')\n",
    "df_seattle['school_building'] = df_seattle['school_building'].replace(['Dearborn Park'], \\\n",
    "                                                                      'Dearborn Park International Elementary')\n",
    "df_seattle['school_building'] = df_seattle['school_building'].replace(['Stephen Decatur'], 'Decatur Elementary')\n",
    "df_seattle['school_building'] = df_seattle['school_building'].replace(['Eagle Staff, Robert'], \\\n",
    "                                                                      'Robert Eagle Staff Middle School')\n",
    "df_seattle['school_building'] = df_seattle['school_building'].replace(['Hamilton'], \\\n",
    "                                                                      'Hamilton International Middle School')\n",
    "df_seattle['school_building'] = df_seattle['school_building'].replace(['Hay (Queen Anne)'], 'Queen Anne Elementary')\n",
    "df_seattle['school_building'] = df_seattle['school_building'].replace(['Hughes, E.C. (Roxhill)'], \\\n",
    "                                                                      'Roxhill Elementary (at former Hughes ES)')\n",
    "df_seattle['school_building'] = df_seattle['school_building'].replace(['John Marshall (Interim site)'], \\\n",
    "                                                                      'John Marshall (Interim Site)')\n",
    "df_seattle['school_building'] = df_seattle['school_building'].replace(['Kimball, Captain George W.'], \\\n",
    "                                                                      'Kimball Elementary')\n",
    "df_seattle['school_building'] = df_seattle['school_building'].replace(['King, Jr., Martin Luther'], \\\n",
    "                                                                      'Martin Luther King, Jr. Elementary')\n",
    "df_seattle['school_building'] = df_seattle['school_building'].replace(['Latona (John Stanford)'], \\\n",
    "                                                                      'John Stanford International Elementary')\n",
    "df_seattle['school_building'] = df_seattle['school_building'].replace(['McDonald'], \\\n",
    "                                                                      'McDonald International Elementary')\n",
    "df_seattle['school_building'] = df_seattle['school_building'].replace(['Sugiyama, Alan T.'], \\\n",
    "                                                                      'Alan T. Sugiyama High School')\n",
    "df_seattle['school_building'] = df_seattle['school_building'].replace(['Mann, Horace (Nova)'], 'Nova High School')\n",
    "df_seattle['school_building'] = df_seattle['school_building'].replace(['James Madison'], 'Madison Middle School')\n",
    "df_seattle['school_building'] = df_seattle['school_building'].replace(['Whitman, Marcus'], 'Whitman Middle School')\n",
    "df_seattle['school_building'] = df_seattle['school_building'].replace(['Pinehurst (Hazel Wolf K-8)'], \\\n",
    "                                                                      'Hazel Wolf K-8')\n",
    "df_seattle['school_building'] = df_seattle['school_building'].replace(['Whitman, Marcus'], 'Whitman Middle School')\n",
    "df_seattle['school_building'] = df_seattle['school_building'].replace(['Rogers, John'], \\\n",
    "                                                                      'John Rogers Elementary')\n",
    "df_seattle['school_building'] = df_seattle['school_building'].replace(['Monroe (Salmon Bay K-8)'], \\\n",
    "                                                                      'Salmon Bay K-8')\n",
    "df_seattle['school_building'] = df_seattle['school_building'].replace(['Montlake'], \\\n",
    "                                                                      'Montlake Elementary (old building)')\n",
    "df_seattle['school_building'] = df_seattle['school_building'].replace\\\n",
    "                         (['North Queen Anne School (Cascade Parent Partnership)'], 'Cascade Parent Partnership')\n",
    "df_seattle['school_building'] = df_seattle['school_building'].replace(['Queen Anne Gymnasium'], \\\n",
    "                                                                      'Queen Anne Gymnasium (Interagency)')\n",
    "df_seattle['school_building'] = df_seattle['school_building'].replace(['Roxhill (building)'], \\\n",
    "                                                                      'SW Interagency Academy (at former Roxhill ES)')\n",
    "df_seattle['school_building'] = df_seattle['school_building'].replace(['Minor, T.T.'], \\\n",
    "                                                                      'Seattle World School (@T.T. Minor)')\n",
    "df_seattle['school_building'] = df_seattle['school_building'].replace(['Schmitz Park (Interim site)'], \\\n",
    "                                                                      'Schmitz Park (Interim Site)')\n",
    "df_seattle['school_building'] = df_seattle['school_building'].replace(['Seward (TOPS)'], 'Seward (TOPS K-8)')\n",
    "df_seattle['school_building'] = df_seattle['school_building'].replace(['South Shore'], 'South Shore PK-8')\n",
    "df_seattle['school_building'] = df_seattle['school_building'].replace(['Van Asselt (Interim site)'], \\\n",
    "                                                                      'Van Asselt (Interim Site)')\n",
    "df_seattle['school_building'] = df_seattle['school_building'].replace(['Whitman, Marcus'], 'Whitman Middle School')"
   ]
  },
  {
   "cell_type": "code",
   "execution_count": 56,
   "id": "bf4950f3",
   "metadata": {},
   "outputs": [],
   "source": [
    "df_seattle = df_seattle.rename(columns={'school_building': 'Site'})"
   ]
  },
  {
   "cell_type": "code",
   "execution_count": 57,
   "id": "fc6e6536",
   "metadata": {},
   "outputs": [],
   "source": [
    "#df_seattle['Site'] # check that the renaming worked"
   ]
  },
  {
   "cell_type": "code",
   "execution_count": 58,
   "id": "4e695fb8",
   "metadata": {},
   "outputs": [
    {
     "data": {
      "text/plain": [
       "(107, 9)"
      ]
     },
     "execution_count": 58,
     "metadata": {},
     "output_type": "execute_result"
    }
   ],
   "source": [
    "df_seattle.shape"
   ]
  },
  {
   "cell_type": "code",
   "execution_count": 59,
   "id": "7c8edb60",
   "metadata": {},
   "outputs": [
    {
     "data": {
      "text/plain": [
       "(332, 32)"
      ]
     },
     "execution_count": 59,
     "metadata": {},
     "output_type": "execute_result"
    }
   ],
   "source": [
    "df_icos_seattle.shape"
   ]
  },
  {
   "cell_type": "code",
   "execution_count": 60,
   "id": "a9357242",
   "metadata": {},
   "outputs": [
    {
     "data": {
      "text/plain": [
       "104"
      ]
     },
     "execution_count": 60,
     "metadata": {},
     "output_type": "execute_result"
    }
   ],
   "source": [
    "df_icos_seattle['Site'].nunique()"
   ]
  },
  {
   "cell_type": "code",
   "execution_count": 61,
   "id": "fe18cb0d",
   "metadata": {},
   "outputs": [],
   "source": [
    "# Merge Seattle ICOS and district data\n",
    "df_merged_seattle = df_seattle.merge(df_icos_seattle, how = 'left', on = ['Site'])"
   ]
  },
  {
   "cell_type": "code",
   "execution_count": 62,
   "id": "b79550e3",
   "metadata": {},
   "outputs": [],
   "source": [
    "df_merged_seattle[['sps_urms_note_2024', 'sps_urms_note_2019']] = \\\n",
    "     df_merged_seattle[['sps_urms_note_2024', 'sps_urms_note_2019']].fillna(value='n/a')"
   ]
  },
  {
   "cell_type": "code",
   "execution_count": 63,
   "id": "d634fdf8",
   "metadata": {},
   "outputs": [
    {
     "data": {
      "text/plain": [
       "(335, 40)"
      ]
     },
     "execution_count": 63,
     "metadata": {},
     "output_type": "execute_result"
    }
   ],
   "source": [
    "df_merged_seattle.shape"
   ]
  },
  {
   "cell_type": "code",
   "execution_count": 64,
   "id": "511a667b",
   "metadata": {},
   "outputs": [
    {
     "data": {
      "text/html": [
       "<div>\n",
       "<style scoped>\n",
       "    .dataframe tbody tr th:only-of-type {\n",
       "        vertical-align: middle;\n",
       "    }\n",
       "\n",
       "    .dataframe tbody tr th {\n",
       "        vertical-align: top;\n",
       "    }\n",
       "\n",
       "    .dataframe thead th {\n",
       "        text-align: right;\n",
       "    }\n",
       "</style>\n",
       "<table border=\"1\" class=\"dataframe\">\n",
       "  <thead>\n",
       "    <tr style=\"text-align: right;\">\n",
       "      <th></th>\n",
       "      <th>Site</th>\n",
       "      <th>sps_upgrade_year</th>\n",
       "      <th>sps_upgrade_notes</th>\n",
       "    </tr>\n",
       "  </thead>\n",
       "  <tbody>\n",
       "    <tr>\n",
       "      <th>218</th>\n",
       "      <td>Asa Mercer</td>\n",
       "      <td>1989</td>\n",
       "      <td>(replacement under construction)</td>\n",
       "    </tr>\n",
       "    <tr>\n",
       "      <th>279</th>\n",
       "      <td>Stanford Center (JSCEE)</td>\n",
       "      <td>2001</td>\n",
       "      <td>none</td>\n",
       "    </tr>\n",
       "    <tr>\n",
       "      <th>306</th>\n",
       "      <td>Webster</td>\n",
       "      <td>2020</td>\n",
       "      <td>major renovation</td>\n",
       "    </tr>\n",
       "  </tbody>\n",
       "</table>\n",
       "</div>"
      ],
      "text/plain": [
       "                        Site sps_upgrade_year  \\\n",
       "218               Asa Mercer             1989   \n",
       "279  Stanford Center (JSCEE)             2001   \n",
       "306                  Webster             2020   \n",
       "\n",
       "                    sps_upgrade_notes  \n",
       "218  (replacement under construction)  \n",
       "279                              none  \n",
       "306                  major renovation  "
      ]
     },
     "execution_count": 64,
     "metadata": {},
     "output_type": "execute_result"
    }
   ],
   "source": [
    "out = df_merged_seattle[~df_merged_seattle['Site'].isin(df_icos_seattle['Site'])]\n",
    "out[['Site', 'sps_upgrade_year', 'sps_upgrade_notes']] \n",
    "# there rows did not merge because the sites are not in ICOS"
   ]
  },
  {
   "cell_type": "code",
   "execution_count": 65,
   "id": "dc8f7c2c",
   "metadata": {},
   "outputs": [
    {
     "data": {
      "text/plain": [
       "107"
      ]
     },
     "execution_count": 65,
     "metadata": {},
     "output_type": "execute_result"
    }
   ],
   "source": [
    "df_merged_seattle['Site'].nunique()"
   ]
  },
  {
   "cell_type": "code",
   "execution_count": 66,
   "id": "949f7d1c",
   "metadata": {},
   "outputs": [
    {
     "data": {
      "text/plain": [
       "(335, 40)"
      ]
     },
     "execution_count": 66,
     "metadata": {},
     "output_type": "execute_result"
    }
   ],
   "source": [
    "df_merged_seattle.shape"
   ]
  },
  {
   "cell_type": "code",
   "execution_count": null,
   "id": "45392396",
   "metadata": {},
   "outputs": [],
   "source": []
  },
  {
   "cell_type": "code",
   "execution_count": 67,
   "id": "f6cc3e59",
   "metadata": {},
   "outputs": [],
   "source": [
    "# ANALYSIS: CONSTRUCTION TYPE (UNREINFORCED MASONRY)"
   ]
  },
  {
   "cell_type": "code",
   "execution_count": 68,
   "id": "82eac3c8",
   "metadata": {},
   "outputs": [],
   "source": [
    "df_merged_seattle_small = df_merged_seattle[['Site', 'sps_upgrade_year', 'sps_upgrade_notes', \\\n",
    "                  'Site_EQRiskLevel', 'Site_Enrollment', 'Building', 'Building_YearBuilt', \\\n",
    "                  'Building_HasEvaluation', 'BuildingArea_Name', 'BuildingArea_YearBuilt', \\\n",
    "                  'BuildingArea_CodeYear', 'unreinforced_masonry_list', 'BuildingArea_ConstructionType', \\\n",
    "                  'BuildingArea_ExistingRisk', 'BuildingArea_HasRetrofit', \\\n",
    "                  'BuildingArea_RetrofitRisk']].drop_duplicates()"
   ]
  },
  {
   "cell_type": "code",
   "execution_count": 69,
   "id": "44ac60e9",
   "metadata": {},
   "outputs": [],
   "source": [
    "df_merged_seattle_urms = df_merged_seattle[['Site', 'unreinforced_masonry_list', 'BuildingArea_ConstructionType']]\\\n",
    "                       .drop_duplicates()"
   ]
  },
  {
   "cell_type": "code",
   "execution_count": 70,
   "id": "d3d9b326",
   "metadata": {},
   "outputs": [],
   "source": [
    "# Find any schools on the URM list that do not have a URM construction type for any rows in ICOS\n",
    "mask = (df_merged_seattle_urms['unreinforced_masonry_list'] == 'yes')\n",
    "df_merged_seattle_urms_2 = df_merged_seattle_urms[mask]"
   ]
  },
  {
   "cell_type": "code",
   "execution_count": 71,
   "id": "faec444e",
   "metadata": {},
   "outputs": [
    {
     "data": {
      "text/plain": [
       "array(['Daniel Bagley Elementary', 'Concord International Elementary',\n",
       "       'B.F. Day Elementary', 'Dunlap Elementary', 'Emerson Elementary',\n",
       "       'Franklin High School', 'Gatewood Elementary',\n",
       "       'Greenwood Elementary', 'Queen Anne Elementary',\n",
       "       'Roxhill Elementary (at former Hughes ES)',\n",
       "       'Laurelhurst Elementary', 'Lincoln High School',\n",
       "       'Lowell Elementary', 'Magnolia Elementary', 'Nova High School',\n",
       "       'John Marshall (Interim Site)',\n",
       "       'McDonald International Elementary', 'McGilvra Elementary',\n",
       "       'Salmon Bay K-8', 'Cascade Parent Partnership',\n",
       "       'Seward (TOPS K-8)', 'View Ridge Elementary', 'Webster',\n",
       "       'West Seattle High School'], dtype=object)"
      ]
     },
     "execution_count": 71,
     "metadata": {},
     "output_type": "execute_result"
    }
   ],
   "source": [
    "# These are all the schools on the district URM list\n",
    "df_merged_seattle_urms_2['Site'].unique()"
   ]
  },
  {
   "cell_type": "code",
   "execution_count": 72,
   "id": "dadb7c0d",
   "metadata": {},
   "outputs": [
    {
     "data": {
      "text/plain": [
       "24"
      ]
     },
     "execution_count": 72,
     "metadata": {},
     "output_type": "execute_result"
    }
   ],
   "source": [
    "df_merged_seattle_urms_2['Site'].nunique()"
   ]
  },
  {
   "cell_type": "code",
   "execution_count": 73,
   "id": "3546a83a",
   "metadata": {},
   "outputs": [],
   "source": [
    "# Which schools from the list above of those on the district URM list also have a URM in ICOS?\n",
    "mask = (df_merged_seattle_urms_2['BuildingArea_ConstructionType'] == 'Unreinforced Masonry Bearing Walls') | \\\n",
    "(df_merged_seattle_urms_2['BuildingArea_ConstructionType'] == 'Concrete Frame Buildings with URM Infill Walls') | \\\n",
    "(df_merged_seattle_urms_2['BuildingArea_ConstructionType'] == 'Unreinforced Masonry Bearing Walls')\n",
    "df_merged_seattle_urms_3 = df_merged_seattle_urms_2[mask]"
   ]
  },
  {
   "cell_type": "code",
   "execution_count": 74,
   "id": "2c578119",
   "metadata": {},
   "outputs": [
    {
     "data": {
      "text/plain": [
       "array(['B.F. Day Elementary', 'Dunlap Elementary', 'Emerson Elementary',\n",
       "       'Franklin High School', 'Gatewood Elementary',\n",
       "       'Roxhill Elementary (at former Hughes ES)', 'Lowell Elementary',\n",
       "       'Nova High School', 'John Marshall (Interim Site)',\n",
       "       'McDonald International Elementary', 'McGilvra Elementary',\n",
       "       'Salmon Bay K-8', 'Seward (TOPS K-8)', 'View Ridge Elementary'],\n",
       "      dtype=object)"
      ]
     },
     "execution_count": 74,
     "metadata": {},
     "output_type": "execute_result"
    }
   ],
   "source": [
    "# These are all the schools on the district URM list that also have URM construction in ICOS\n",
    "df_merged_seattle_urms_3['Site'].unique()"
   ]
  },
  {
   "cell_type": "code",
   "execution_count": 75,
   "id": "f40db4a1",
   "metadata": {},
   "outputs": [
    {
     "data": {
      "text/plain": [
       "(14,)"
      ]
     },
     "execution_count": 75,
     "metadata": {},
     "output_type": "execute_result"
    }
   ],
   "source": [
    "# 14 out of 24 schools on the district URM list have a URM construction type in the ICOS data.\n",
    "# Make a list of the opposite from above, the schools from the district list do not have URM construction in ICOS\n",
    "df_merged_seattle_urms_3_schools = df_merged_seattle_urms_3['Site']\n",
    "df_merged_seattle_urms_3_schools.shape"
   ]
  },
  {
   "cell_type": "code",
   "execution_count": 76,
   "id": "1fc49be3",
   "metadata": {},
   "outputs": [],
   "source": [
    "df_merged_seattle_urms_missing = df_merged_seattle_urms_2[~df_merged_seattle_urms_2['Site'].isin\\\n",
    "                                                                 (df_merged_seattle_urms_3_schools)]"
   ]
  },
  {
   "cell_type": "code",
   "execution_count": 77,
   "id": "114eac85",
   "metadata": {},
   "outputs": [
    {
     "data": {
      "text/plain": [
       "10"
      ]
     },
     "execution_count": 77,
     "metadata": {},
     "output_type": "execute_result"
    }
   ],
   "source": [
    "df_merged_seattle_urms_missing['Site'].nunique()"
   ]
  },
  {
   "cell_type": "code",
   "execution_count": 78,
   "id": "41f9bc12",
   "metadata": {},
   "outputs": [
    {
     "data": {
      "text/plain": [
       "array(['Daniel Bagley Elementary', 'Concord International Elementary',\n",
       "       'Greenwood Elementary', 'Queen Anne Elementary',\n",
       "       'Laurelhurst Elementary', 'Lincoln High School',\n",
       "       'Magnolia Elementary', 'Cascade Parent Partnership', 'Webster',\n",
       "       'West Seattle High School'], dtype=object)"
      ]
     },
     "execution_count": 78,
     "metadata": {},
     "output_type": "execute_result"
    }
   ],
   "source": [
    "# These 10 schools are on the district URM list but do not have URM construction in ICOS\n",
    "df_merged_seattle_urms_missing['Site'].unique()"
   ]
  },
  {
   "cell_type": "code",
   "execution_count": 79,
   "id": "53385ddf",
   "metadata": {},
   "outputs": [
    {
     "data": {
      "text/html": [
       "<div>\n",
       "<style scoped>\n",
       "    .dataframe tbody tr th:only-of-type {\n",
       "        vertical-align: middle;\n",
       "    }\n",
       "\n",
       "    .dataframe tbody tr th {\n",
       "        vertical-align: top;\n",
       "    }\n",
       "\n",
       "    .dataframe thead th {\n",
       "        text-align: right;\n",
       "    }\n",
       "</style>\n",
       "<table border=\"1\" class=\"dataframe\">\n",
       "  <thead>\n",
       "    <tr style=\"text-align: right;\">\n",
       "      <th></th>\n",
       "      <th>Site</th>\n",
       "      <th>unreinforced_masonry_list</th>\n",
       "      <th>BuildingArea_ConstructionType</th>\n",
       "    </tr>\n",
       "  </thead>\n",
       "  <tbody>\n",
       "    <tr>\n",
       "      <th>15</th>\n",
       "      <td>Daniel Bagley Elementary</td>\n",
       "      <td>yes</td>\n",
       "      <td>Concrete Shear Walls</td>\n",
       "    </tr>\n",
       "    <tr>\n",
       "      <th>17</th>\n",
       "      <td>Daniel Bagley Elementary</td>\n",
       "      <td>yes</td>\n",
       "      <td>Steel Braced Frame</td>\n",
       "    </tr>\n",
       "    <tr>\n",
       "      <th>18</th>\n",
       "      <td>Daniel Bagley Elementary</td>\n",
       "      <td>yes</td>\n",
       "      <td>Precast Concrete Tilt-Up Walls</td>\n",
       "    </tr>\n",
       "    <tr>\n",
       "      <th>54</th>\n",
       "      <td>Concord International Elementary</td>\n",
       "      <td>yes</td>\n",
       "      <td>Concrete Shear Walls</td>\n",
       "    </tr>\n",
       "    <tr>\n",
       "      <th>55</th>\n",
       "      <td>Concord International Elementary</td>\n",
       "      <td>yes</td>\n",
       "      <td>Reinforced Masonry Bearing Walls with Wood or Metal Diaphragm Decks</td>\n",
       "    </tr>\n",
       "    <tr>\n",
       "      <th>106</th>\n",
       "      <td>Greenwood Elementary</td>\n",
       "      <td>yes</td>\n",
       "      <td>Concrete Shear Walls</td>\n",
       "    </tr>\n",
       "    <tr>\n",
       "      <th>107</th>\n",
       "      <td>Greenwood Elementary</td>\n",
       "      <td>yes</td>\n",
       "      <td>Reinforced Masonry Bearing Walls with Wood or Metal Diaphragm Decks</td>\n",
       "    </tr>\n",
       "    <tr>\n",
       "      <th>119</th>\n",
       "      <td>Queen Anne Elementary</td>\n",
       "      <td>yes</td>\n",
       "      <td>Wood, Commercial and Industrial (&gt;5,000 square feet)</td>\n",
       "    </tr>\n",
       "    <tr>\n",
       "      <th>120</th>\n",
       "      <td>Queen Anne Elementary</td>\n",
       "      <td>yes</td>\n",
       "      <td>Reinforced Masonry Bearing Walls with Wood or Metal Diaphragm Decks</td>\n",
       "    </tr>\n",
       "    <tr>\n",
       "      <th>151</th>\n",
       "      <td>Laurelhurst Elementary</td>\n",
       "      <td>yes</td>\n",
       "      <td>Steel Braced Frame</td>\n",
       "    </tr>\n",
       "    <tr>\n",
       "      <th>152</th>\n",
       "      <td>Laurelhurst Elementary</td>\n",
       "      <td>yes</td>\n",
       "      <td>Concrete Shear Walls</td>\n",
       "    </tr>\n",
       "    <tr>\n",
       "      <th>164</th>\n",
       "      <td>Lincoln High School</td>\n",
       "      <td>yes</td>\n",
       "      <td>Concrete Shear Walls</td>\n",
       "    </tr>\n",
       "    <tr>\n",
       "      <th>165</th>\n",
       "      <td>Lincoln High School</td>\n",
       "      <td>yes</td>\n",
       "      <td>Reinforced Masonry Bearing Walls with Wood or Metal Diaphragm Decks</td>\n",
       "    </tr>\n",
       "    <tr>\n",
       "      <th>187</th>\n",
       "      <td>Magnolia Elementary</td>\n",
       "      <td>yes</td>\n",
       "      <td>Concrete Shear Walls</td>\n",
       "    </tr>\n",
       "    <tr>\n",
       "      <th>190</th>\n",
       "      <td>Magnolia Elementary</td>\n",
       "      <td>yes</td>\n",
       "      <td>Steel Braced Frame</td>\n",
       "    </tr>\n",
       "    <tr>\n",
       "      <th>235</th>\n",
       "      <td>Cascade Parent Partnership</td>\n",
       "      <td>yes</td>\n",
       "      <td>Concrete Shear Walls</td>\n",
       "    </tr>\n",
       "    <tr>\n",
       "      <th>236</th>\n",
       "      <td>Cascade Parent Partnership</td>\n",
       "      <td>yes</td>\n",
       "      <td>Wood, Commercial and Industrial (&gt;5,000 square feet)</td>\n",
       "    </tr>\n",
       "    <tr>\n",
       "      <th>306</th>\n",
       "      <td>Webster</td>\n",
       "      <td>yes</td>\n",
       "      <td>NaN</td>\n",
       "    </tr>\n",
       "    <tr>\n",
       "      <th>313</th>\n",
       "      <td>West Seattle High School</td>\n",
       "      <td>yes</td>\n",
       "      <td>Concrete Shear Walls</td>\n",
       "    </tr>\n",
       "    <tr>\n",
       "      <th>314</th>\n",
       "      <td>West Seattle High School</td>\n",
       "      <td>yes</td>\n",
       "      <td>Steel Braced Frame</td>\n",
       "    </tr>\n",
       "  </tbody>\n",
       "</table>\n",
       "</div>"
      ],
      "text/plain": [
       "                                 Site unreinforced_masonry_list  \\\n",
       "15           Daniel Bagley Elementary                       yes   \n",
       "17           Daniel Bagley Elementary                       yes   \n",
       "18           Daniel Bagley Elementary                       yes   \n",
       "54   Concord International Elementary                       yes   \n",
       "55   Concord International Elementary                       yes   \n",
       "106              Greenwood Elementary                       yes   \n",
       "107              Greenwood Elementary                       yes   \n",
       "119             Queen Anne Elementary                       yes   \n",
       "120             Queen Anne Elementary                       yes   \n",
       "151            Laurelhurst Elementary                       yes   \n",
       "152            Laurelhurst Elementary                       yes   \n",
       "164               Lincoln High School                       yes   \n",
       "165               Lincoln High School                       yes   \n",
       "187               Magnolia Elementary                       yes   \n",
       "190               Magnolia Elementary                       yes   \n",
       "235        Cascade Parent Partnership                       yes   \n",
       "236        Cascade Parent Partnership                       yes   \n",
       "306                           Webster                       yes   \n",
       "313          West Seattle High School                       yes   \n",
       "314          West Seattle High School                       yes   \n",
       "\n",
       "                                           BuildingArea_ConstructionType  \n",
       "15                                                  Concrete Shear Walls  \n",
       "17                                                    Steel Braced Frame  \n",
       "18                                        Precast Concrete Tilt-Up Walls  \n",
       "54                                                  Concrete Shear Walls  \n",
       "55   Reinforced Masonry Bearing Walls with Wood or Metal Diaphragm Decks  \n",
       "106                                                 Concrete Shear Walls  \n",
       "107  Reinforced Masonry Bearing Walls with Wood or Metal Diaphragm Decks  \n",
       "119                 Wood, Commercial and Industrial (>5,000 square feet)  \n",
       "120  Reinforced Masonry Bearing Walls with Wood or Metal Diaphragm Decks  \n",
       "151                                                   Steel Braced Frame  \n",
       "152                                                 Concrete Shear Walls  \n",
       "164                                                 Concrete Shear Walls  \n",
       "165  Reinforced Masonry Bearing Walls with Wood or Metal Diaphragm Decks  \n",
       "187                                                 Concrete Shear Walls  \n",
       "190                                                   Steel Braced Frame  \n",
       "235                                                 Concrete Shear Walls  \n",
       "236                 Wood, Commercial and Industrial (>5,000 square feet)  \n",
       "306                                                                  NaN  \n",
       "313                                                 Concrete Shear Walls  \n",
       "314                                                   Steel Braced Frame  "
      ]
     },
     "execution_count": 79,
     "metadata": {},
     "output_type": "execute_result"
    }
   ],
   "source": [
    "# These are the construction types listed for the above 10 schools\n",
    "df_merged_seattle_urms_missing[['Site', 'unreinforced_masonry_list', 'BuildingArea_ConstructionType']]"
   ]
  },
  {
   "cell_type": "code",
   "execution_count": 80,
   "id": "cde327fd",
   "metadata": {},
   "outputs": [],
   "source": [
    "# Now find the group of schools that have the opposite of above, that are URMs in ICOS but not in the district list"
   ]
  },
  {
   "cell_type": "code",
   "execution_count": 81,
   "id": "974028e3",
   "metadata": {},
   "outputs": [],
   "source": [
    "# Which schools have URM construction types in ICOS?\n",
    "mask = (df_merged_seattle_urms['BuildingArea_ConstructionType'] == 'Unreinforced Masonry Bearing Walls') | \\\n",
    "(df_merged_seattle_urms['BuildingArea_ConstructionType'] == 'Concrete Frame Buildings with URM Infill Walls') | \\\n",
    "(df_merged_seattle_urms['BuildingArea_ConstructionType'] == 'Unreinforced Masonry Bearing Walls')\n",
    "df_merged_seattle_urms_4 = df_merged_seattle_urms[mask]"
   ]
  },
  {
   "cell_type": "code",
   "execution_count": 82,
   "id": "faed2391",
   "metadata": {},
   "outputs": [
    {
     "data": {
      "text/plain": [
       "(20, 3)"
      ]
     },
     "execution_count": 82,
     "metadata": {},
     "output_type": "execute_result"
    }
   ],
   "source": [
    "df_merged_seattle_urms_4.shape"
   ]
  },
  {
   "cell_type": "code",
   "execution_count": 83,
   "id": "2b03836b",
   "metadata": {},
   "outputs": [
    {
     "data": {
      "text/plain": [
       "unreinforced_masonry_list\n",
       "yes    14\n",
       "no      6\n",
       "Name: count, dtype: int64"
      ]
     },
     "execution_count": 83,
     "metadata": {},
     "output_type": "execute_result"
    }
   ],
   "source": [
    "df_merged_seattle_urms_4['unreinforced_masonry_list'].value_counts()"
   ]
  },
  {
   "cell_type": "code",
   "execution_count": 84,
   "id": "b845134a",
   "metadata": {},
   "outputs": [],
   "source": [
    "# Which of those 14 schools are no on the district URM list?\n",
    "mask = (df_merged_seattle_urms_4['unreinforced_masonry_list'] == 'no')\n",
    "df_merged_seattle_urms_missing_2 = df_merged_seattle_urms_4[mask]"
   ]
  },
  {
   "cell_type": "code",
   "execution_count": 85,
   "id": "6b3b7fa6",
   "metadata": {},
   "outputs": [
    {
     "data": {
      "text/plain": [
       "(6, 3)"
      ]
     },
     "execution_count": 85,
     "metadata": {},
     "output_type": "execute_result"
    }
   ],
   "source": [
    "df_merged_seattle_urms_missing_2.shape"
   ]
  },
  {
   "cell_type": "code",
   "execution_count": 88,
   "id": "e44e4e8b",
   "metadata": {},
   "outputs": [
    {
     "data": {
      "text/plain": [
       "array(['Daniel Bagley Elementary', 'Concord International Elementary',\n",
       "       'B.F. Day Elementary', 'Dunlap Elementary', 'Emerson Elementary',\n",
       "       'Franklin High School', 'Gatewood Elementary',\n",
       "       'Greenwood Elementary', 'Queen Anne Elementary',\n",
       "       'Roxhill Elementary (at former Hughes ES)',\n",
       "       'Laurelhurst Elementary', 'Lincoln High School',\n",
       "       'Lowell Elementary', 'Magnolia Elementary', 'Nova High School',\n",
       "       'John Marshall (Interim Site)',\n",
       "       'McDonald International Elementary', 'McGilvra Elementary',\n",
       "       'Salmon Bay K-8', 'Cascade Parent Partnership',\n",
       "       'Seward (TOPS K-8)', 'View Ridge Elementary', 'Webster',\n",
       "       'West Seattle High School'], dtype=object)"
      ]
     },
     "execution_count": 88,
     "metadata": {},
     "output_type": "execute_result"
    }
   ],
   "source": [
    "df_merged_seattle_urms_2['Site'].unique()"
   ]
  },
  {
   "cell_type": "code",
   "execution_count": 89,
   "id": "371c1e07",
   "metadata": {},
   "outputs": [
    {
     "data": {
      "text/html": [
       "<div>\n",
       "<style scoped>\n",
       "    .dataframe tbody tr th:only-of-type {\n",
       "        vertical-align: middle;\n",
       "    }\n",
       "\n",
       "    .dataframe tbody tr th {\n",
       "        vertical-align: top;\n",
       "    }\n",
       "\n",
       "    .dataframe thead th {\n",
       "        text-align: right;\n",
       "    }\n",
       "</style>\n",
       "<table border=\"1\" class=\"dataframe\">\n",
       "  <thead>\n",
       "    <tr style=\"text-align: right;\">\n",
       "      <th></th>\n",
       "      <th>Site</th>\n",
       "      <th>unreinforced_masonry_list</th>\n",
       "      <th>BuildingArea_ConstructionType</th>\n",
       "    </tr>\n",
       "  </thead>\n",
       "  <tbody>\n",
       "    <tr>\n",
       "      <th>11</th>\n",
       "      <td>Alki Elementary</td>\n",
       "      <td>no</td>\n",
       "      <td>Concrete Frame Buildings with URM Infill Walls</td>\n",
       "    </tr>\n",
       "    <tr>\n",
       "      <th>12</th>\n",
       "      <td>Alki Elementary</td>\n",
       "      <td>no</td>\n",
       "      <td>Unreinforced Masonry Bearing Walls</td>\n",
       "    </tr>\n",
       "    <tr>\n",
       "      <th>39</th>\n",
       "      <td>Bryant Elementary</td>\n",
       "      <td>no</td>\n",
       "      <td>Unreinforced Masonry Bearing Walls</td>\n",
       "    </tr>\n",
       "    <tr>\n",
       "      <th>102</th>\n",
       "      <td>Graham Hill Elementary</td>\n",
       "      <td>no</td>\n",
       "      <td>Unreinforced Masonry Bearing Walls</td>\n",
       "    </tr>\n",
       "    <tr>\n",
       "      <th>161</th>\n",
       "      <td>Leschi Elementary</td>\n",
       "      <td>no</td>\n",
       "      <td>Unreinforced Masonry Bearing Walls</td>\n",
       "    </tr>\n",
       "    <tr>\n",
       "      <th>219</th>\n",
       "      <td>Seattle World School (@T.T. Minor)</td>\n",
       "      <td>no</td>\n",
       "      <td>Concrete Frame Buildings with URM Infill Walls</td>\n",
       "    </tr>\n",
       "  </tbody>\n",
       "</table>\n",
       "</div>"
      ],
      "text/plain": [
       "                                   Site unreinforced_masonry_list  \\\n",
       "11                      Alki Elementary                        no   \n",
       "12                      Alki Elementary                        no   \n",
       "39                    Bryant Elementary                        no   \n",
       "102              Graham Hill Elementary                        no   \n",
       "161                   Leschi Elementary                        no   \n",
       "219  Seattle World School (@T.T. Minor)                        no   \n",
       "\n",
       "                      BuildingArea_ConstructionType  \n",
       "11   Concrete Frame Buildings with URM Infill Walls  \n",
       "12               Unreinforced Masonry Bearing Walls  \n",
       "39               Unreinforced Masonry Bearing Walls  \n",
       "102              Unreinforced Masonry Bearing Walls  \n",
       "161              Unreinforced Masonry Bearing Walls  \n",
       "219  Concrete Frame Buildings with URM Infill Walls  "
      ]
     },
     "execution_count": 89,
     "metadata": {},
     "output_type": "execute_result"
    }
   ],
   "source": [
    "# These are the schools with URM construction in ICOS that are not on the district URM list\n",
    "df_merged_seattle_urms_missing_2[['Site', 'unreinforced_masonry_list', 'BuildingArea_ConstructionType']]"
   ]
  },
  {
   "cell_type": "code",
   "execution_count": null,
   "id": "6748cc8c",
   "metadata": {},
   "outputs": [],
   "source": []
  },
  {
   "cell_type": "code",
   "execution_count": 90,
   "id": "ca6c8ecc",
   "metadata": {},
   "outputs": [],
   "source": [
    "# ANALYSIS: RETROFITS\n",
    "# Which schools are listed as retrofitted on the district list versus in ICOS?"
   ]
  },
  {
   "cell_type": "code",
   "execution_count": 91,
   "id": "c243a68a",
   "metadata": {},
   "outputs": [],
   "source": [
    "mask = (df_icos_seattle['BuildingArea_HasRetrofit'] == 'Structural')\n",
    "df_icos_seattle_structural = df_icos_seattle[mask]"
   ]
  },
  {
   "cell_type": "code",
   "execution_count": 92,
   "id": "e7e1f7c4",
   "metadata": {},
   "outputs": [
    {
     "data": {
      "text/plain": [
       "BuildingArea_HasRetrofit\n",
       "Structural    171\n",
       "No            160\n",
       "Name: count, dtype: int64"
      ]
     },
     "execution_count": 92,
     "metadata": {},
     "output_type": "execute_result"
    }
   ],
   "source": [
    "df_merged_seattle['BuildingArea_HasRetrofit'].value_counts()"
   ]
  },
  {
   "cell_type": "code",
   "execution_count": 93,
   "id": "9f4f7e9e",
   "metadata": {},
   "outputs": [],
   "source": [
    "# Make a list of all Sites with one or more structural retrofits. Then get the list of the opposite, \n",
    "# the remaining Sites, those with no retrofits for the entire schools."
   ]
  },
  {
   "cell_type": "code",
   "execution_count": 94,
   "id": "b6a072f3",
   "metadata": {},
   "outputs": [],
   "source": [
    "retrofit_value = ['Structural']\n",
    "\n",
    "mask = df_merged_seattle['BuildingArea_HasRetrofit'].isin(retrofit_value)\n",
    "df_merged_seattle_retrofit = df_merged_seattle[mask] # ~mask for the opposite"
   ]
  },
  {
   "cell_type": "code",
   "execution_count": 95,
   "id": "a362a2f7",
   "metadata": {},
   "outputs": [
    {
     "data": {
      "text/plain": [
       "(171, 40)"
      ]
     },
     "execution_count": 95,
     "metadata": {},
     "output_type": "execute_result"
    }
   ],
   "source": [
    "df_merged_seattle_retrofit.shape"
   ]
  },
  {
   "cell_type": "code",
   "execution_count": 96,
   "id": "8bfd96e3",
   "metadata": {},
   "outputs": [
    {
     "data": {
      "text/plain": [
       "BuildingArea_HasRetrofit\n",
       "Structural    171\n",
       "Name: count, dtype: int64"
      ]
     },
     "execution_count": 96,
     "metadata": {},
     "output_type": "execute_result"
    }
   ],
   "source": [
    "df_merged_seattle_retrofit['BuildingArea_HasRetrofit'].value_counts()"
   ]
  },
  {
   "cell_type": "code",
   "execution_count": 97,
   "id": "d26a7b24",
   "metadata": {},
   "outputs": [
    {
     "data": {
      "text/plain": [
       "59"
      ]
     },
     "execution_count": 97,
     "metadata": {},
     "output_type": "execute_result"
    }
   ],
   "source": [
    "df_merged_seattle_retrofit['Site'].nunique() # there are 59 schools with one or more retrofit"
   ]
  },
  {
   "cell_type": "code",
   "execution_count": 98,
   "id": "e00261dd",
   "metadata": {},
   "outputs": [],
   "source": [
    "# Make a one-column list of the schools with one or more Structural retrofits. Then make an inverse list of the\n",
    "# remaining schools, which have no retrofits for any roww.\n",
    "\n",
    "# Create a one-column list of the schools with one or more Structural retrofit values.\n",
    "df_merged_seattle_retrofit2 = df_merged_seattle_retrofit['Site']\n",
    "df_merged_seattle_retrofit2 = df_merged_seattle_retrofit2.drop_duplicates()\n",
    "\n",
    "# Columns became a list of schools; reset the index to restore the dataframe to two columns.\n",
    "df_merged_seattle_retrofit2 = df_merged_seattle_retrofit2.reset_index() \n",
    "\n",
    "# Capture only the Site column. This variable can be used to complete the next step.\n",
    "df_merged_seattle_retrofit2 = df_merged_seattle_retrofit2['Site']"
   ]
  },
  {
   "cell_type": "code",
   "execution_count": 99,
   "id": "02cc177c",
   "metadata": {},
   "outputs": [
    {
     "data": {
      "text/plain": [
       "(59,)"
      ]
     },
     "execution_count": 99,
     "metadata": {},
     "output_type": "execute_result"
    }
   ],
   "source": [
    "df_merged_seattle_retrofit2.shape "
   ]
  },
  {
   "cell_type": "code",
   "execution_count": 100,
   "id": "8b06a996",
   "metadata": {},
   "outputs": [],
   "source": [
    "# Create a df of all rows for the 59 schools identified above.\n",
    "df_merged_seattle_retrofit3 = df_merged_seattle[df_merged_seattle['Site'].isin\\\n",
    "                                                                 (df_merged_seattle_retrofit2)]"
   ]
  },
  {
   "cell_type": "code",
   "execution_count": 101,
   "id": "15a103f4",
   "metadata": {},
   "outputs": [
    {
     "data": {
      "text/plain": [
       "(217, 40)"
      ]
     },
     "execution_count": 101,
     "metadata": {},
     "output_type": "execute_result"
    }
   ],
   "source": [
    "df_merged_seattle_retrofit3.shape"
   ]
  },
  {
   "cell_type": "code",
   "execution_count": 102,
   "id": "f165108b",
   "metadata": {},
   "outputs": [
    {
     "data": {
      "text/plain": [
       "BuildingArea_HasRetrofit\n",
       "Structural    171\n",
       "No             46\n",
       "Name: count, dtype: int64"
      ]
     },
     "execution_count": 102,
     "metadata": {},
     "output_type": "execute_result"
    }
   ],
   "source": [
    "df_merged_seattle_retrofit3['BuildingArea_HasRetrofit'].value_counts() # this pulls all rows for schools\n",
    "# with one or more structural retrofits, including the 'no' retrofit rows for those schools"
   ]
  },
  {
   "cell_type": "code",
   "execution_count": 103,
   "id": "375452fc",
   "metadata": {},
   "outputs": [],
   "source": [
    "# Find the inverse list - schools with all No retrofit values (opposite of those with any Structural retrofits)\n",
    "df_merged_seattle_no_retrofit = df_merged_seattle[~df_merged_seattle['Site'].isin\\\n",
    "                                                                 (df_merged_seattle_retrofit2)]"
   ]
  },
  {
   "cell_type": "code",
   "execution_count": 104,
   "id": "657a29c2",
   "metadata": {},
   "outputs": [
    {
     "data": {
      "text/plain": [
       "(118, 40)"
      ]
     },
     "execution_count": 104,
     "metadata": {},
     "output_type": "execute_result"
    }
   ],
   "source": [
    "df_merged_seattle_no_retrofit.shape # 117+217=334, so yes all rows are accounted for."
   ]
  },
  {
   "cell_type": "code",
   "execution_count": 105,
   "id": "6a423113",
   "metadata": {},
   "outputs": [
    {
     "data": {
      "text/plain": [
       "48"
      ]
     },
     "execution_count": 105,
     "metadata": {},
     "output_type": "execute_result"
    }
   ],
   "source": [
    "df_merged_seattle_no_retrofit['Site'].nunique() # 47+59=106 so there are 47 schools with no retrofits in ICOS"
   ]
  },
  {
   "cell_type": "code",
   "execution_count": 106,
   "id": "0c584e34",
   "metadata": {},
   "outputs": [
    {
     "data": {
      "text/plain": [
       "BuildingArea_HasRetrofit\n",
       "No    114\n",
       "Name: count, dtype: int64"
      ]
     },
     "execution_count": 106,
     "metadata": {},
     "output_type": "execute_result"
    }
   ],
   "source": [
    "df_merged_seattle_no_retrofit['BuildingArea_HasRetrofit'].value_counts()\n",
    "# there is a difference of 3 because of listings in the district data that are not in ICOS"
   ]
  },
  {
   "cell_type": "code",
   "execution_count": 107,
   "id": "b1accdf1",
   "metadata": {},
   "outputs": [],
   "source": [
    "df_merged_seattle_no_retrofit2 = df_merged_seattle_no_retrofit[['Site', 'BuildingArea_HasRetrofit', \\\n",
    "                   'sps_upgrade_year', 'sps_upgrade_notes']].drop_duplicates().sort_values('sps_upgrade_year')"
   ]
  },
  {
   "cell_type": "code",
   "execution_count": 108,
   "id": "a8bbb725",
   "metadata": {},
   "outputs": [
    {
     "data": {
      "text/plain": [
       "(48, 4)"
      ]
     },
     "execution_count": 108,
     "metadata": {},
     "output_type": "execute_result"
    }
   ],
   "source": [
    "df_merged_seattle_no_retrofit2.shape"
   ]
  },
  {
   "cell_type": "code",
   "execution_count": 109,
   "id": "b98d837d",
   "metadata": {},
   "outputs": [],
   "source": [
    "# df_merged_seattle_no_retrofit2.to_csv('df_merged_seattle_no_retrofit2.csv', sep=',', index=False, encoding='utf-8')"
   ]
  },
  {
   "cell_type": "code",
   "execution_count": 110,
   "id": "08ea1d91",
   "metadata": {},
   "outputs": [
    {
     "data": {
      "text/plain": [
       "sps_upgrade_notes\n",
       " new construction                        18\n",
       "none                                     17\n",
       " major renovation                         9\n",
       "(replacement under construction)          1\n",
       " new construction 2021  new addition      1\n",
       "(major renovation under construction)     1\n",
       "new construction                          1\n",
       "Name: count, dtype: int64"
      ]
     },
     "execution_count": 110,
     "metadata": {},
     "output_type": "execute_result"
    }
   ],
   "source": [
    "df_merged_seattle_no_retrofit2['sps_upgrade_notes'].value_counts()"
   ]
  },
  {
   "cell_type": "code",
   "execution_count": 111,
   "id": "6e967f82",
   "metadata": {},
   "outputs": [
    {
     "data": {
      "text/html": [
       "<div>\n",
       "<style scoped>\n",
       "    .dataframe tbody tr th:only-of-type {\n",
       "        vertical-align: middle;\n",
       "    }\n",
       "\n",
       "    .dataframe tbody tr th {\n",
       "        vertical-align: top;\n",
       "    }\n",
       "\n",
       "    .dataframe thead th {\n",
       "        text-align: right;\n",
       "    }\n",
       "</style>\n",
       "<table border=\"1\" class=\"dataframe\">\n",
       "  <thead>\n",
       "    <tr style=\"text-align: right;\">\n",
       "      <th></th>\n",
       "      <th>Site</th>\n",
       "      <th>BuildingArea_HasRetrofit</th>\n",
       "      <th>sps_upgrade_year</th>\n",
       "      <th>sps_upgrade_notes</th>\n",
       "    </tr>\n",
       "  </thead>\n",
       "  <tbody>\n",
       "    <tr>\n",
       "      <th>37</th>\n",
       "      <td>Bryant Elementary</td>\n",
       "      <td>No</td>\n",
       "      <td>2001</td>\n",
       "      <td>major renovation</td>\n",
       "    </tr>\n",
       "    <tr>\n",
       "      <th>306</th>\n",
       "      <td>Webster</td>\n",
       "      <td>NaN</td>\n",
       "      <td>2020</td>\n",
       "      <td>major renovation</td>\n",
       "    </tr>\n",
       "    <tr>\n",
       "      <th>82</th>\n",
       "      <td>Emerson Elementary</td>\n",
       "      <td>No</td>\n",
       "      <td>2001</td>\n",
       "      <td>major renovation</td>\n",
       "    </tr>\n",
       "    <tr>\n",
       "      <th>15</th>\n",
       "      <td>Daniel Bagley Elementary</td>\n",
       "      <td>No</td>\n",
       "      <td>2020</td>\n",
       "      <td>major renovation</td>\n",
       "    </tr>\n",
       "    <tr>\n",
       "      <th>47</th>\n",
       "      <td>Cleveland High School</td>\n",
       "      <td>No</td>\n",
       "      <td>2007</td>\n",
       "      <td>major renovation</td>\n",
       "    </tr>\n",
       "    <tr>\n",
       "      <th>148</th>\n",
       "      <td>John Stanford International Elementary</td>\n",
       "      <td>No</td>\n",
       "      <td>2000</td>\n",
       "      <td>major renovation</td>\n",
       "    </tr>\n",
       "    <tr>\n",
       "      <th>93</th>\n",
       "      <td>Garfield High School</td>\n",
       "      <td>No</td>\n",
       "      <td>2006</td>\n",
       "      <td>major renovation</td>\n",
       "    </tr>\n",
       "    <tr>\n",
       "      <th>44</th>\n",
       "      <td>Cedar Park Elementary</td>\n",
       "      <td>No</td>\n",
       "      <td>2015</td>\n",
       "      <td>major renovation</td>\n",
       "    </tr>\n",
       "    <tr>\n",
       "      <th>45</th>\n",
       "      <td>Chief Sealth International High School</td>\n",
       "      <td>No</td>\n",
       "      <td>2010</td>\n",
       "      <td>major renovation</td>\n",
       "    </tr>\n",
       "    <tr>\n",
       "      <th>275</th>\n",
       "      <td>South Shore PK-8</td>\n",
       "      <td>No</td>\n",
       "      <td>2009</td>\n",
       "      <td>new construction</td>\n",
       "    </tr>\n",
       "    <tr>\n",
       "      <th>19</th>\n",
       "      <td>James Baldwin Elementary</td>\n",
       "      <td>No</td>\n",
       "      <td>2023</td>\n",
       "      <td>new construction</td>\n",
       "    </tr>\n",
       "    <tr>\n",
       "      <th>237</th>\n",
       "      <td>Olympic Hills Elementary</td>\n",
       "      <td>No</td>\n",
       "      <td>2017</td>\n",
       "      <td>new construction</td>\n",
       "    </tr>\n",
       "    <tr>\n",
       "      <th>285</th>\n",
       "      <td>Thornton Creek Elementary</td>\n",
       "      <td>No</td>\n",
       "      <td>2016</td>\n",
       "      <td>new construction</td>\n",
       "    </tr>\n",
       "    <tr>\n",
       "      <th>76</th>\n",
       "      <td>Robert Eagle Staff Middle School</td>\n",
       "      <td>No</td>\n",
       "      <td>2017</td>\n",
       "      <td>new construction</td>\n",
       "    </tr>\n",
       "    <tr>\n",
       "      <th>242</th>\n",
       "      <td>Hazel Wolf K-8</td>\n",
       "      <td>No</td>\n",
       "      <td>2016</td>\n",
       "      <td>new construction</td>\n",
       "    </tr>\n",
       "    <tr>\n",
       "      <th>42</th>\n",
       "      <td>Cascadia Elementary</td>\n",
       "      <td>No</td>\n",
       "      <td>2017</td>\n",
       "      <td>new construction</td>\n",
       "    </tr>\n",
       "    <tr>\n",
       "      <th>69</th>\n",
       "      <td>Denny International Middle School</td>\n",
       "      <td>No</td>\n",
       "      <td>2011</td>\n",
       "      <td>new construction</td>\n",
       "    </tr>\n",
       "    <tr>\n",
       "      <th>100</th>\n",
       "      <td>Genesee Hill Elementary</td>\n",
       "      <td>No</td>\n",
       "      <td>2016</td>\n",
       "      <td>new construction</td>\n",
       "    </tr>\n",
       "    <tr>\n",
       "      <th>14</th>\n",
       "      <td>Arbor Heights Elementary</td>\n",
       "      <td>No</td>\n",
       "      <td>2016</td>\n",
       "      <td>new construction</td>\n",
       "    </tr>\n",
       "    <tr>\n",
       "      <th>331</th>\n",
       "      <td>Wing Luke Elementary</td>\n",
       "      <td>No</td>\n",
       "      <td>2021</td>\n",
       "      <td>new construction</td>\n",
       "    </tr>\n",
       "    <tr>\n",
       "      <th>57</th>\n",
       "      <td>Pathfinder K-8</td>\n",
       "      <td>No</td>\n",
       "      <td>2000</td>\n",
       "      <td>new construction</td>\n",
       "    </tr>\n",
       "    <tr>\n",
       "      <th>122</th>\n",
       "      <td>Highland Park Elementary</td>\n",
       "      <td>No</td>\n",
       "      <td>1999</td>\n",
       "      <td>new construction</td>\n",
       "    </tr>\n",
       "    <tr>\n",
       "      <th>325</th>\n",
       "      <td>Whittier Elementary</td>\n",
       "      <td>No</td>\n",
       "      <td>1999</td>\n",
       "      <td>new construction</td>\n",
       "    </tr>\n",
       "    <tr>\n",
       "      <th>22</th>\n",
       "      <td>Ballard High School</td>\n",
       "      <td>No</td>\n",
       "      <td>1999</td>\n",
       "      <td>new construction</td>\n",
       "    </tr>\n",
       "    <tr>\n",
       "      <th>136</th>\n",
       "      <td>Kimball Elementary</td>\n",
       "      <td>NaN</td>\n",
       "      <td>2023</td>\n",
       "      <td>new construction</td>\n",
       "    </tr>\n",
       "    <tr>\n",
       "      <th>298</th>\n",
       "      <td>Viewlands Elementary</td>\n",
       "      <td>No</td>\n",
       "      <td>2023</td>\n",
       "      <td>new construction</td>\n",
       "    </tr>\n",
       "    <tr>\n",
       "      <th>137</th>\n",
       "      <td>Martin Luther King, Jr. Elementary</td>\n",
       "      <td>No</td>\n",
       "      <td>2006</td>\n",
       "      <td>new construction</td>\n",
       "    </tr>\n",
       "    <tr>\n",
       "      <th>50</th>\n",
       "      <td>Coe Elementary</td>\n",
       "      <td>No</td>\n",
       "      <td>2003</td>\n",
       "      <td>new construction 2021  new addition</td>\n",
       "    </tr>\n",
       "    <tr>\n",
       "      <th>227</th>\n",
       "      <td>Montlake Elementary (old building)</td>\n",
       "      <td>No</td>\n",
       "      <td>2006</td>\n",
       "      <td>(major renovation under construction)</td>\n",
       "    </tr>\n",
       "    <tr>\n",
       "      <th>218</th>\n",
       "      <td>Asa Mercer</td>\n",
       "      <td>NaN</td>\n",
       "      <td>1989</td>\n",
       "      <td>(replacement under construction)</td>\n",
       "    </tr>\n",
       "    <tr>\n",
       "      <th>7</th>\n",
       "      <td>Rising Star Elementary</td>\n",
       "      <td>No</td>\n",
       "      <td>2020</td>\n",
       "      <td>new construction</td>\n",
       "    </tr>\n",
       "    <tr>\n",
       "      <th>201</th>\n",
       "      <td>Thurgood Marshall Elementary</td>\n",
       "      <td>No</td>\n",
       "      <td>2008</td>\n",
       "      <td>none</td>\n",
       "    </tr>\n",
       "    <tr>\n",
       "      <th>317</th>\n",
       "      <td>West Woodland Elementary</td>\n",
       "      <td>No</td>\n",
       "      <td>1991</td>\n",
       "      <td>none</td>\n",
       "    </tr>\n",
       "    <tr>\n",
       "      <th>263</th>\n",
       "      <td>Sanislo Elementary</td>\n",
       "      <td>No</td>\n",
       "      <td>1998</td>\n",
       "      <td>none</td>\n",
       "    </tr>\n",
       "    <tr>\n",
       "      <th>243</th>\n",
       "      <td>Queen Anne Gymnasium (Interagency)</td>\n",
       "      <td>No</td>\n",
       "      <td>2023</td>\n",
       "      <td>none</td>\n",
       "    </tr>\n",
       "    <tr>\n",
       "      <th>102</th>\n",
       "      <td>Graham Hill Elementary</td>\n",
       "      <td>No</td>\n",
       "      <td>2022</td>\n",
       "      <td>none</td>\n",
       "    </tr>\n",
       "    <tr>\n",
       "      <th>301</th>\n",
       "      <td>Washington Middle School</td>\n",
       "      <td>No</td>\n",
       "      <td>2022</td>\n",
       "      <td>none</td>\n",
       "    </tr>\n",
       "    <tr>\n",
       "      <th>279</th>\n",
       "      <td>Stanford Center (JSCEE)</td>\n",
       "      <td>NaN</td>\n",
       "      <td>2001</td>\n",
       "      <td>none</td>\n",
       "    </tr>\n",
       "    <tr>\n",
       "      <th>145</th>\n",
       "      <td>Lafayette Elementary</td>\n",
       "      <td>No</td>\n",
       "      <td>2021</td>\n",
       "      <td>none</td>\n",
       "    </tr>\n",
       "    <tr>\n",
       "      <th>258</th>\n",
       "      <td>SW Interagency Academy (at former Roxhill ES)</td>\n",
       "      <td>No</td>\n",
       "      <td>2021</td>\n",
       "      <td>none</td>\n",
       "    </tr>\n",
       "    <tr>\n",
       "      <th>104</th>\n",
       "      <td>Green Lake Elementary</td>\n",
       "      <td>No</td>\n",
       "      <td>2001</td>\n",
       "      <td>none</td>\n",
       "    </tr>\n",
       "    <tr>\n",
       "      <th>307</th>\n",
       "      <td>Wedgwood Elementary</td>\n",
       "      <td>No</td>\n",
       "      <td>2020</td>\n",
       "      <td>none</td>\n",
       "    </tr>\n",
       "    <tr>\n",
       "      <th>274</th>\n",
       "      <td>Alan T. Sugiyama High School</td>\n",
       "      <td>No</td>\n",
       "      <td>2004</td>\n",
       "      <td>none</td>\n",
       "    </tr>\n",
       "    <tr>\n",
       "      <th>239</th>\n",
       "      <td>Olympic View Elementary</td>\n",
       "      <td>No</td>\n",
       "      <td>2019</td>\n",
       "      <td>none</td>\n",
       "    </tr>\n",
       "    <tr>\n",
       "      <th>99</th>\n",
       "      <td>Bailey Gatzert Elementary</td>\n",
       "      <td>No</td>\n",
       "      <td>2008</td>\n",
       "      <td>none</td>\n",
       "    </tr>\n",
       "    <tr>\n",
       "      <th>157</th>\n",
       "      <td>Lawton Elementary</td>\n",
       "      <td>No</td>\n",
       "      <td>2008</td>\n",
       "      <td>none</td>\n",
       "    </tr>\n",
       "    <tr>\n",
       "      <th>116</th>\n",
       "      <td>Hawthorne Elementary</td>\n",
       "      <td>No</td>\n",
       "      <td>2011</td>\n",
       "      <td>none</td>\n",
       "    </tr>\n",
       "    <tr>\n",
       "      <th>267</th>\n",
       "      <td>Schmitz Park (Interim Site)</td>\n",
       "      <td>No</td>\n",
       "      <td>2023</td>\n",
       "      <td>none</td>\n",
       "    </tr>\n",
       "  </tbody>\n",
       "</table>\n",
       "</div>"
      ],
      "text/plain": [
       "                                              Site BuildingArea_HasRetrofit  \\\n",
       "37                               Bryant Elementary                       No   \n",
       "306                                        Webster                      NaN   \n",
       "82                              Emerson Elementary                       No   \n",
       "15                        Daniel Bagley Elementary                       No   \n",
       "47                           Cleveland High School                       No   \n",
       "148         John Stanford International Elementary                       No   \n",
       "93                            Garfield High School                       No   \n",
       "44                           Cedar Park Elementary                       No   \n",
       "45          Chief Sealth International High School                       No   \n",
       "275                               South Shore PK-8                       No   \n",
       "19                        James Baldwin Elementary                       No   \n",
       "237                       Olympic Hills Elementary                       No   \n",
       "285                      Thornton Creek Elementary                       No   \n",
       "76                Robert Eagle Staff Middle School                       No   \n",
       "242                                 Hazel Wolf K-8                       No   \n",
       "42                             Cascadia Elementary                       No   \n",
       "69               Denny International Middle School                       No   \n",
       "100                        Genesee Hill Elementary                       No   \n",
       "14                        Arbor Heights Elementary                       No   \n",
       "331                           Wing Luke Elementary                       No   \n",
       "57                                  Pathfinder K-8                       No   \n",
       "122                       Highland Park Elementary                       No   \n",
       "325                            Whittier Elementary                       No   \n",
       "22                             Ballard High School                       No   \n",
       "136                             Kimball Elementary                      NaN   \n",
       "298                           Viewlands Elementary                       No   \n",
       "137             Martin Luther King, Jr. Elementary                       No   \n",
       "50                                  Coe Elementary                       No   \n",
       "227             Montlake Elementary (old building)                       No   \n",
       "218                                     Asa Mercer                      NaN   \n",
       "7                           Rising Star Elementary                       No   \n",
       "201                   Thurgood Marshall Elementary                       No   \n",
       "317                       West Woodland Elementary                       No   \n",
       "263                             Sanislo Elementary                       No   \n",
       "243             Queen Anne Gymnasium (Interagency)                       No   \n",
       "102                         Graham Hill Elementary                       No   \n",
       "301                       Washington Middle School                       No   \n",
       "279                        Stanford Center (JSCEE)                      NaN   \n",
       "145                           Lafayette Elementary                       No   \n",
       "258  SW Interagency Academy (at former Roxhill ES)                       No   \n",
       "104                          Green Lake Elementary                       No   \n",
       "307                            Wedgwood Elementary                       No   \n",
       "274                   Alan T. Sugiyama High School                       No   \n",
       "239                        Olympic View Elementary                       No   \n",
       "99                       Bailey Gatzert Elementary                       No   \n",
       "157                              Lawton Elementary                       No   \n",
       "116                           Hawthorne Elementary                       No   \n",
       "267                    Schmitz Park (Interim Site)                       No   \n",
       "\n",
       "    sps_upgrade_year                      sps_upgrade_notes  \n",
       "37              2001                       major renovation  \n",
       "306             2020                       major renovation  \n",
       "82              2001                       major renovation  \n",
       "15              2020                       major renovation  \n",
       "47              2007                       major renovation  \n",
       "148             2000                       major renovation  \n",
       "93              2006                       major renovation  \n",
       "44              2015                       major renovation  \n",
       "45              2010                       major renovation  \n",
       "275             2009                       new construction  \n",
       "19              2023                       new construction  \n",
       "237             2017                       new construction  \n",
       "285             2016                       new construction  \n",
       "76              2017                       new construction  \n",
       "242             2016                       new construction  \n",
       "42              2017                       new construction  \n",
       "69              2011                       new construction  \n",
       "100             2016                       new construction  \n",
       "14              2016                       new construction  \n",
       "331             2021                       new construction  \n",
       "57              2000                       new construction  \n",
       "122             1999                       new construction  \n",
       "325             1999                       new construction  \n",
       "22              1999                       new construction  \n",
       "136             2023                       new construction  \n",
       "298             2023                       new construction  \n",
       "137             2006                       new construction  \n",
       "50              2003    new construction 2021  new addition  \n",
       "227             2006  (major renovation under construction)  \n",
       "218             1989       (replacement under construction)  \n",
       "7               2020                       new construction  \n",
       "201             2008                                   none  \n",
       "317             1991                                   none  \n",
       "263             1998                                   none  \n",
       "243             2023                                   none  \n",
       "102             2022                                   none  \n",
       "301             2022                                   none  \n",
       "279             2001                                   none  \n",
       "145             2021                                   none  \n",
       "258             2021                                   none  \n",
       "104             2001                                   none  \n",
       "307             2020                                   none  \n",
       "274             2004                                   none  \n",
       "239             2019                                   none  \n",
       "99              2008                                   none  \n",
       "157             2008                                   none  \n",
       "116             2011                                   none  \n",
       "267             2023                                   none  "
      ]
     },
     "execution_count": 111,
     "metadata": {},
     "output_type": "execute_result"
    }
   ],
   "source": [
    "df_merged_seattle_no_retrofit2.sort_values('sps_upgrade_notes')\n",
    "# Three facilities from the district list are not in ICOS, those show NaN for BuildingArea_HasRetrofit.\n",
    "# SPS says seismic upgrades that are part of major renovations may not be shown as retrofits. New buildings\n",
    "# are also not considered retrofitted. Excluding those, there are 14 schools with upgrades after 1998,\n",
    "# when seismic building codes were updated, that show seismic upgrades in the SPS list and no retrofits in ICOS."
   ]
  },
  {
   "cell_type": "code",
   "execution_count": 112,
   "id": "cf0db044",
   "metadata": {},
   "outputs": [
    {
     "data": {
      "text/plain": [
       "(48,)"
      ]
     },
     "execution_count": 112,
     "metadata": {},
     "output_type": "execute_result"
    }
   ],
   "source": [
    "# Create a list of just the school names from the merged set, to pull up all rows and columns for those schools\n",
    "df_merged_seattle_no_retrofit3 = df_merged_seattle_no_retrofit2['Site']\n",
    "df_merged_seattle_no_retrofit3 = df_merged_seattle_no_retrofit3.drop_duplicates()\n",
    "df_merged_seattle_no_retrofit3.shape"
   ]
  },
  {
   "cell_type": "code",
   "execution_count": 113,
   "id": "afe9ae07",
   "metadata": {},
   "outputs": [
    {
     "data": {
      "text/plain": [
       "(115, 32)"
      ]
     },
     "execution_count": 113,
     "metadata": {},
     "output_type": "execute_result"
    }
   ],
   "source": [
    "df_merged_seattle_no_retrofit4 = df_icos_seattle[df_icos_seattle['Site'].isin(df_merged_seattle_no_retrofit3)]\n",
    "df_merged_seattle_no_retrofit4.shape"
   ]
  },
  {
   "cell_type": "code",
   "execution_count": 114,
   "id": "6aecb910",
   "metadata": {},
   "outputs": [],
   "source": [
    "df_merged_seattle_no_retrofit5 = df_merged_seattle_no_retrofit4[['Site', 'Site_EQRiskLevel', 'Building', \\\n",
    "              'BuildingArea_Name', 'BuildingArea_ExistingRisk', 'BuildingArea_HasRetrofit', \\\n",
    "              'BuildingArea_RetrofitRisk']]"
   ]
  },
  {
   "cell_type": "code",
   "execution_count": 115,
   "id": "0cb5e425",
   "metadata": {},
   "outputs": [
    {
     "data": {
      "text/plain": [
       "BuildingArea_HasRetrofit\n",
       "No    114\n",
       "Name: count, dtype: int64"
      ]
     },
     "execution_count": 115,
     "metadata": {},
     "output_type": "execute_result"
    }
   ],
   "source": [
    "# Confirms that the list of schools in ICOS that say no retrofit applies to the entire school.\n",
    "df_merged_seattle_no_retrofit5['BuildingArea_HasRetrofit'].value_counts()"
   ]
  },
  {
   "cell_type": "code",
   "execution_count": null,
   "id": "0a2d5757",
   "metadata": {},
   "outputs": [],
   "source": []
  }
 ],
 "metadata": {
  "kernelspec": {
   "display_name": "Python 3 (ipykernel)",
   "language": "python",
   "name": "python3"
  },
  "language_info": {
   "codemirror_mode": {
    "name": "ipython",
    "version": 3
   },
   "file_extension": ".py",
   "mimetype": "text/x-python",
   "name": "python",
   "nbconvert_exporter": "python",
   "pygments_lexer": "ipython3",
   "version": "3.10.11"
  }
 },
 "nbformat": 4,
 "nbformat_minor": 5
}
