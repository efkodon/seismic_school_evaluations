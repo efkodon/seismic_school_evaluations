{
 "cells": [
  {
   "cell_type": "code",
   "execution_count": 8,
   "id": "6e28cc41",
   "metadata": {},
   "outputs": [],
   "source": [
    "import pandas as pd\n",
    "import seaborn as sns\n",
    "import numpy as np\n",
    "from numpy import nan"
   ]
  },
  {
   "cell_type": "code",
   "execution_count": 9,
   "id": "64c5743a",
   "metadata": {},
   "outputs": [],
   "source": [
    "import warnings\n",
    "warnings.filterwarnings(\"ignore\")"
   ]
  },
  {
   "cell_type": "code",
   "execution_count": 10,
   "id": "e3049c62",
   "metadata": {},
   "outputs": [],
   "source": [
    "pd.set_option('display.max_columns', None)\n",
    "pd.set_option('display.max_rows', None)\n",
    "pd.set_option('display.width', None)\n",
    "pd.set_option('display.max_colwidth', None)\n",
    "pd.set_option('max_seq_item', None)"
   ]
  },
  {
   "cell_type": "code",
   "execution_count": 11,
   "id": "286761a7",
   "metadata": {},
   "outputs": [],
   "source": [
    "# DATA SOURCE: INFORMATION AND CONDITION OF SCHOOLS (ICOS), Pre-Disaster Mitigation module\n",
    "# Data received from WA Office of Superintendent of Public Instruction (OSPI), 8/14/24, via public records request.\n",
    "# https://www.k12.wa.us/policy-funding/school-buildings-facilities/information-and-condition-schools-icos\n",
    "df_original=pd.read_csv(\"data/df_icos_clean_8.14.24.csv\")"
   ]
  },
  {
   "cell_type": "code",
   "execution_count": 12,
   "id": "84454d75",
   "metadata": {},
   "outputs": [],
   "source": [
    "# Copy the data and work with the copy.\n",
    "df = df_original"
   ]
  },
  {
   "cell_type": "code",
   "execution_count": 13,
   "id": "76c2cc79",
   "metadata": {},
   "outputs": [
    {
     "name": "stdout",
     "output_type": "stream",
     "text": [
      "<class 'pandas.core.frame.DataFrame'>\n",
      "RangeIndex: 6678 entries, 0 to 6677\n",
      "Data columns (total 32 columns):\n",
      " #   Column                               Non-Null Count  Dtype  \n",
      "---  ------                               --------------  -----  \n",
      " 0   Unique_Identifier                    6678 non-null   object \n",
      " 1   District                             6678 non-null   object \n",
      " 2   Site                                 6678 non-null   object \n",
      " 3   Site_Latitude                        6678 non-null   float64\n",
      " 4   Site_Longitude                       6678 non-null   float64\n",
      " 5   Site_Type                            6678 non-null   object \n",
      " 6   Site_EQHazardLevel                   6678 non-null   object \n",
      " 7   Site_EQRiskLevel                     2838 non-null   object \n",
      " 8   Site_Soil                            6638 non-null   object \n",
      " 9   Site_Liquefaction                    6638 non-null   object \n",
      " 10  Site_GroundMotionPercentile          6638 non-null   float64\n",
      " 11  Site_HasGeotechnicalStudy            6678 non-null   object \n",
      " 12  Site_ShearWaveVelocity               1196 non-null   float64\n",
      " 13  Site_EnrollmentSchoolYear            6678 non-null   object \n",
      " 14  Site_Enrollment                      6425 non-null   object \n",
      " 15  BuildingID                           6655 non-null   float64\n",
      " 16  Building                             6655 non-null   object \n",
      " 17  Building_Type                        6655 non-null   object \n",
      " 18  Building_HasEvaluation               6655 non-null   object \n",
      " 19  Building_YearBuilt                   6655 non-null   float64\n",
      " 20  Building_GrossSqFt                   6619 non-null   object \n",
      " 21  BuildingArea_Name                    6627 non-null   object \n",
      " 22  BuildingArea_YearBuilt               6627 non-null   float64\n",
      " 23  BuildingArea_CodeYear                6627 non-null   object \n",
      " 24  BuildingArea_NumberOfFloors          5421 non-null   float64\n",
      " 25  BuildingArea_ConstructionType        3577 non-null   object \n",
      " 26  BuildingArea_VerticalIrregularity    1027 non-null   object \n",
      " 27  BuildingArea_HorizontalIrregularity  1558 non-null   object \n",
      " 28  BuildingArea_ExistingRisk            3450 non-null   object \n",
      " 29  BuildingArea_HasRetrofit             6655 non-null   object \n",
      " 30  BuildingArea_RetrofitRisk            2441 non-null   object \n",
      " 31  BuildingArea_CodeRisk                2441 non-null   object \n",
      "dtypes: float64(8), object(24)\n",
      "memory usage: 1.6+ MB\n"
     ]
    }
   ],
   "source": [
    "df.info()"
   ]
  },
  {
   "cell_type": "code",
   "execution_count": 14,
   "id": "1a44bcf9",
   "metadata": {},
   "outputs": [],
   "source": [
    "df['Building_YearBuilt']=df['Building_YearBuilt'].astype('Int64')"
   ]
  },
  {
   "cell_type": "code",
   "execution_count": 15,
   "id": "35200a28",
   "metadata": {},
   "outputs": [
    {
     "data": {
      "text/plain": [
       "(5148, 32)"
      ]
     },
     "execution_count": 15,
     "metadata": {},
     "output_type": "execute_result"
    }
   ],
   "source": [
    "mask = (df['Building_YearBuilt'] < 1998)\n",
    "df_old = df[mask]\n",
    "df_old.shape"
   ]
  },
  {
   "cell_type": "code",
   "execution_count": 16,
   "id": "9ee4ecd7",
   "metadata": {},
   "outputs": [
    {
     "data": {
      "text/plain": [
       "1458"
      ]
     },
     "execution_count": 16,
     "metadata": {},
     "output_type": "execute_result"
    }
   ],
   "source": [
    "df_old['Unique_Identifier'].nunique()"
   ]
  },
  {
   "cell_type": "code",
   "execution_count": 17,
   "id": "e86bf554",
   "metadata": {},
   "outputs": [
    {
     "data": {
      "text/plain": [
       "Site_EQRiskLevel\n",
       "NaN          2837\n",
       "Very High    1224\n",
       "Low           496\n",
       "Moderate      310\n",
       "High          281\n",
       "Name: count, dtype: int64"
      ]
     },
     "execution_count": 17,
     "metadata": {},
     "output_type": "execute_result"
    }
   ],
   "source": [
    "df_old['Site_EQRiskLevel'].value_counts(dropna=False)"
   ]
  },
  {
   "cell_type": "code",
   "execution_count": 18,
   "id": "1edcea3b",
   "metadata": {},
   "outputs": [],
   "source": [
    "df_old = df_old[['Unique_Identifier', 'District', 'Site', 'Site_Latitude', 'Site_Longitude', 'Site_EQRiskLevel', \\\n",
    "                 'BuildingArea_ExistingRisk']]"
   ]
  },
  {
   "cell_type": "code",
   "execution_count": 19,
   "id": "02e5aecd",
   "metadata": {},
   "outputs": [],
   "source": [
    "df_old['Site_EQRiskLevel'] = df_old['Site_EQRiskLevel'].map({'Very High': 'complete', \\\n",
    "       'High': 'complete', 'Moderate': 'complete', 'Low': 'complete'})"
   ]
  },
  {
   "cell_type": "code",
   "execution_count": 20,
   "id": "2ec0e49e",
   "metadata": {},
   "outputs": [
    {
     "data": {
      "text/plain": [
       "Site_EQRiskLevel\n",
       "NaN         2837\n",
       "complete    2311\n",
       "Name: count, dtype: int64"
      ]
     },
     "execution_count": 20,
     "metadata": {},
     "output_type": "execute_result"
    }
   ],
   "source": [
    "df_old['Site_EQRiskLevel'].value_counts(dropna=False)"
   ]
  },
  {
   "cell_type": "code",
   "execution_count": 21,
   "id": "cea651f6",
   "metadata": {},
   "outputs": [
    {
     "data": {
      "text/plain": [
       "(2311, 7)"
      ]
     },
     "execution_count": 21,
     "metadata": {},
     "output_type": "execute_result"
    }
   ],
   "source": [
    "mask = (df_old['Site_EQRiskLevel'] == 'complete')\n",
    "df_old_site = df_old[mask]\n",
    "df_old_site.shape"
   ]
  },
  {
   "cell_type": "code",
   "execution_count": 22,
   "id": "2c666455",
   "metadata": {},
   "outputs": [
    {
     "data": {
      "text/plain": [
       "621"
      ]
     },
     "execution_count": 22,
     "metadata": {},
     "output_type": "execute_result"
    }
   ],
   "source": [
    "df_old_site['Unique_Identifier'].nunique() # 621 schools with pre 1998 buildings have a site risk assessment"
   ]
  },
  {
   "cell_type": "code",
   "execution_count": 23,
   "id": "0796d83c",
   "metadata": {},
   "outputs": [
    {
     "data": {
      "text/plain": [
       "(2837, 7)"
      ]
     },
     "execution_count": 23,
     "metadata": {},
     "output_type": "execute_result"
    }
   ],
   "source": [
    "mask = (df_old['Site_EQRiskLevel'] == 'complete')\n",
    "df_old_area = df_old[~mask]\n",
    "df_old_area.shape"
   ]
  },
  {
   "cell_type": "code",
   "execution_count": 24,
   "id": "11c76cae",
   "metadata": {},
   "outputs": [
    {
     "data": {
      "text/plain": [
       "837"
      ]
     },
     "execution_count": 24,
     "metadata": {},
     "output_type": "execute_result"
    }
   ],
   "source": [
    "df_old_area['Unique_Identifier'].nunique() # 837 schools with pre 1998 buildings have no site risk assessment"
   ]
  },
  {
   "cell_type": "code",
   "execution_count": 25,
   "id": "14d8986f",
   "metadata": {},
   "outputs": [
    {
     "data": {
      "text/plain": [
       "BuildingArea_ExistingRisk\n",
       "NaN          2231\n",
       "Low           252\n",
       "Moderate      169\n",
       "High          119\n",
       "Very High      66\n",
       "Name: count, dtype: int64"
      ]
     },
     "execution_count": 25,
     "metadata": {},
     "output_type": "execute_result"
    }
   ],
   "source": [
    "df_old_area['BuildingArea_ExistingRisk'].value_counts(dropna=False)"
   ]
  },
  {
   "cell_type": "code",
   "execution_count": 26,
   "id": "8541bdb0",
   "metadata": {},
   "outputs": [],
   "source": [
    "df_old_area['BuildingArea_ExistingRisk'] = df_old_area['BuildingArea_ExistingRisk'].map\\\n",
    "            ({'Very High': 'partial', 'High': 'partial', 'Moderate': 'partial', \\\n",
    "            'Low': 'partial'})"
   ]
  },
  {
   "cell_type": "code",
   "execution_count": 27,
   "id": "9392fdc0",
   "metadata": {},
   "outputs": [
    {
     "data": {
      "text/plain": [
       "BuildingArea_ExistingRisk\n",
       "NaN        2231\n",
       "partial     606\n",
       "Name: count, dtype: int64"
      ]
     },
     "execution_count": 27,
     "metadata": {},
     "output_type": "execute_result"
    }
   ],
   "source": [
    "df_old_area['BuildingArea_ExistingRisk'].value_counts(dropna=False)"
   ]
  },
  {
   "cell_type": "code",
   "execution_count": 28,
   "id": "465361a1",
   "metadata": {},
   "outputs": [
    {
     "data": {
      "text/plain": [
       "(606, 7)"
      ]
     },
     "execution_count": 28,
     "metadata": {},
     "output_type": "execute_result"
    }
   ],
   "source": [
    "mask = (df_old_area['BuildingArea_ExistingRisk'] == 'partial')\n",
    "df_old_area_partial = df_old_area[mask]\n",
    "df_old_area_partial.shape"
   ]
  },
  {
   "cell_type": "code",
   "execution_count": 29,
   "id": "97167099",
   "metadata": {},
   "outputs": [
    {
     "data": {
      "text/plain": [
       "261"
      ]
     },
     "execution_count": 29,
     "metadata": {},
     "output_type": "execute_result"
    }
   ],
   "source": [
    "df_old_area_partial['Unique_Identifier'].nunique() # 261 schools have partial assessments"
   ]
  },
  {
   "cell_type": "code",
   "execution_count": 30,
   "id": "3d08638b",
   "metadata": {},
   "outputs": [
    {
     "data": {
      "text/plain": [
       "(261,)"
      ]
     },
     "execution_count": 30,
     "metadata": {},
     "output_type": "execute_result"
    }
   ],
   "source": [
    "df_old_area_partial_ids = df_old_area_partial['Unique_Identifier'].drop_duplicates()\n",
    "df_old_area_partial_ids.shape"
   ]
  },
  {
   "cell_type": "code",
   "execution_count": 31,
   "id": "72a2a6b7",
   "metadata": {},
   "outputs": [
    {
     "data": {
      "text/plain": [
       "(1888, 7)"
      ]
     },
     "execution_count": 31,
     "metadata": {},
     "output_type": "execute_result"
    }
   ],
   "source": [
    "# find the schools opposite the 261\n",
    "df_old_area_none = df_old_area[~df_old_area['Unique_Identifier'].isin(df_old_area_partial_ids)]\n",
    "df_old_area_none.shape"
   ]
  },
  {
   "cell_type": "code",
   "execution_count": 32,
   "id": "f4c362c9",
   "metadata": {},
   "outputs": [
    {
     "data": {
      "text/plain": [
       "576"
      ]
     },
     "execution_count": 32,
     "metadata": {},
     "output_type": "execute_result"
    }
   ],
   "source": [
    "df_old_area_none['Unique_Identifier'].nunique() # 576 schools have no partial or full assessments"
   ]
  },
  {
   "cell_type": "code",
   "execution_count": 33,
   "id": "ddbd8943",
   "metadata": {},
   "outputs": [],
   "source": [
    "# For 1,458 schools with one or more pre-1998 buildings, 621 schools have site assessments, and 837 schools\n",
    "# do not have a site assessment. Out of the 837, there are 261 schools with partial assessments."
   ]
  },
  {
   "cell_type": "code",
   "execution_count": 34,
   "id": "448ed464",
   "metadata": {},
   "outputs": [],
   "source": [
    "df_old_site_small = df_old_site[['Unique_Identifier', 'District', 'Site', 'Site_EQRiskLevel', 'Site_Latitude', \\\n",
    "                                       'Site_Longitude']].drop_duplicates()"
   ]
  },
  {
   "cell_type": "code",
   "execution_count": 35,
   "id": "04fc9b3e",
   "metadata": {},
   "outputs": [
    {
     "data": {
      "text/plain": [
       "621"
      ]
     },
     "execution_count": 35,
     "metadata": {},
     "output_type": "execute_result"
    }
   ],
   "source": [
    "df_old_site_small['Unique_Identifier'].nunique()"
   ]
  },
  {
   "cell_type": "code",
   "execution_count": 36,
   "id": "c47d2c85",
   "metadata": {},
   "outputs": [
    {
     "name": "stdout",
     "output_type": "stream",
     "text": [
      "<class 'pandas.core.frame.DataFrame'>\n",
      "Index: 621 entries, 0 to 6676\n",
      "Data columns (total 6 columns):\n",
      " #   Column             Non-Null Count  Dtype  \n",
      "---  ------             --------------  -----  \n",
      " 0   Unique_Identifier  621 non-null    object \n",
      " 1   District           621 non-null    object \n",
      " 2   Site               621 non-null    object \n",
      " 3   Site_EQRiskLevel   621 non-null    object \n",
      " 4   Site_Latitude      621 non-null    float64\n",
      " 5   Site_Longitude     621 non-null    float64\n",
      "dtypes: float64(2), object(4)\n",
      "memory usage: 34.0+ KB\n"
     ]
    }
   ],
   "source": [
    "df_old_site_small.info()"
   ]
  },
  {
   "cell_type": "code",
   "execution_count": 37,
   "id": "d49ce537",
   "metadata": {},
   "outputs": [
    {
     "name": "stdout",
     "output_type": "stream",
     "text": [
      "<class 'pandas.core.frame.DataFrame'>\n",
      "Index: 606 entries, 12 to 6669\n",
      "Data columns (total 7 columns):\n",
      " #   Column                     Non-Null Count  Dtype  \n",
      "---  ------                     --------------  -----  \n",
      " 0   Unique_Identifier          606 non-null    object \n",
      " 1   District                   606 non-null    object \n",
      " 2   Site                       606 non-null    object \n",
      " 3   Site_Latitude              606 non-null    float64\n",
      " 4   Site_Longitude             606 non-null    float64\n",
      " 5   Site_EQRiskLevel           0 non-null      object \n",
      " 6   BuildingArea_ExistingRisk  606 non-null    object \n",
      "dtypes: float64(2), object(5)\n",
      "memory usage: 37.9+ KB\n"
     ]
    }
   ],
   "source": [
    "df_old_area_partial.info()"
   ]
  },
  {
   "cell_type": "code",
   "execution_count": 38,
   "id": "3aab3da3",
   "metadata": {},
   "outputs": [],
   "source": [
    "df_old_area_partial_small = df_old_area_partial[['Unique_Identifier', 'District', 'Site', \\\n",
    "                            'BuildingArea_ExistingRisk', 'Site_Latitude', 'Site_Longitude']].drop_duplicates()"
   ]
  },
  {
   "cell_type": "code",
   "execution_count": 39,
   "id": "7da12146",
   "metadata": {},
   "outputs": [
    {
     "name": "stdout",
     "output_type": "stream",
     "text": [
      "<class 'pandas.core.frame.DataFrame'>\n",
      "Index: 261 entries, 12 to 6667\n",
      "Data columns (total 6 columns):\n",
      " #   Column                     Non-Null Count  Dtype  \n",
      "---  ------                     --------------  -----  \n",
      " 0   Unique_Identifier          261 non-null    object \n",
      " 1   District                   261 non-null    object \n",
      " 2   Site                       261 non-null    object \n",
      " 3   BuildingArea_ExistingRisk  261 non-null    object \n",
      " 4   Site_Latitude              261 non-null    float64\n",
      " 5   Site_Longitude             261 non-null    float64\n",
      "dtypes: float64(2), object(4)\n",
      "memory usage: 14.3+ KB\n"
     ]
    }
   ],
   "source": [
    "df_old_area_partial_small.info()"
   ]
  },
  {
   "cell_type": "code",
   "execution_count": 40,
   "id": "2740de06",
   "metadata": {},
   "outputs": [],
   "source": [
    "df_old_area_none_small = df_old_area_none[['Unique_Identifier', 'District', 'Site', 'BuildingArea_ExistingRisk', \\\n",
    "                         'Site_Latitude', 'Site_Longitude']].drop_duplicates()"
   ]
  },
  {
   "cell_type": "code",
   "execution_count": 41,
   "id": "af7b54d6",
   "metadata": {},
   "outputs": [
    {
     "name": "stdout",
     "output_type": "stream",
     "text": [
      "<class 'pandas.core.frame.DataFrame'>\n",
      "Index: 576 entries, 13 to 6568\n",
      "Data columns (total 6 columns):\n",
      " #   Column                     Non-Null Count  Dtype  \n",
      "---  ------                     --------------  -----  \n",
      " 0   Unique_Identifier          576 non-null    object \n",
      " 1   District                   576 non-null    object \n",
      " 2   Site                       576 non-null    object \n",
      " 3   BuildingArea_ExistingRisk  0 non-null      object \n",
      " 4   Site_Latitude              576 non-null    float64\n",
      " 5   Site_Longitude             576 non-null    float64\n",
      "dtypes: float64(2), object(4)\n",
      "memory usage: 31.5+ KB\n"
     ]
    }
   ],
   "source": [
    "df_old_area_none_small.info()"
   ]
  },
  {
   "cell_type": "code",
   "execution_count": 42,
   "id": "44c541a4",
   "metadata": {},
   "outputs": [],
   "source": [
    "df_old_site_small = df_old_site_small.rename(columns={'Site_EQRiskLevel': 'assessment status'})"
   ]
  },
  {
   "cell_type": "code",
   "execution_count": 43,
   "id": "8632fb7a",
   "metadata": {},
   "outputs": [],
   "source": [
    "df_old_area_partial_small = df_old_area_partial_small.rename(columns={'BuildingArea_ExistingRisk': 'assessment status'})"
   ]
  },
  {
   "cell_type": "code",
   "execution_count": 44,
   "id": "aea9965f",
   "metadata": {},
   "outputs": [],
   "source": [
    "df_old_area_none_small = df_old_area_none_small.rename(columns={'BuildingArea_ExistingRisk': 'assessment status'})"
   ]
  },
  {
   "cell_type": "code",
   "execution_count": 45,
   "id": "2833b0c5",
   "metadata": {},
   "outputs": [],
   "source": [
    "df_icos_assessments = pd.concat([df_old_site_small, df_old_area_partial_small, df_old_area_none_small])"
   ]
  },
  {
   "cell_type": "code",
   "execution_count": 46,
   "id": "145fa705",
   "metadata": {},
   "outputs": [],
   "source": [
    "df_icos_assessments['assessment status'] = df_icos_assessments['assessment status'].fillna('none')"
   ]
  },
  {
   "cell_type": "code",
   "execution_count": 47,
   "id": "f429e865",
   "metadata": {},
   "outputs": [
    {
     "name": "stdout",
     "output_type": "stream",
     "text": [
      "<class 'pandas.core.frame.DataFrame'>\n",
      "Index: 1458 entries, 0 to 6568\n",
      "Data columns (total 6 columns):\n",
      " #   Column             Non-Null Count  Dtype  \n",
      "---  ------             --------------  -----  \n",
      " 0   Unique_Identifier  1458 non-null   object \n",
      " 1   District           1458 non-null   object \n",
      " 2   Site               1458 non-null   object \n",
      " 3   assessment status  1458 non-null   object \n",
      " 4   Site_Latitude      1458 non-null   float64\n",
      " 5   Site_Longitude     1458 non-null   float64\n",
      "dtypes: float64(2), object(4)\n",
      "memory usage: 79.7+ KB\n"
     ]
    }
   ],
   "source": [
    "df_icos_assessments.info()"
   ]
  },
  {
   "cell_type": "code",
   "execution_count": 48,
   "id": "2cfc26ce",
   "metadata": {},
   "outputs": [
    {
     "data": {
      "text/plain": [
       "assessment status\n",
       "complete    621\n",
       "none        576\n",
       "partial     261\n",
       "Name: count, dtype: int64"
      ]
     },
     "execution_count": 48,
     "metadata": {},
     "output_type": "execute_result"
    }
   ],
   "source": [
    "df_icos_assessments['assessment status'].value_counts()"
   ]
  },
  {
   "cell_type": "code",
   "execution_count": 49,
   "id": "ea1731bc",
   "metadata": {},
   "outputs": [
    {
     "data": {
      "text/plain": [
       "assessment status\n",
       "complete    42.6%\n",
       "none        39.5%\n",
       "partial     17.9%\n",
       "Name: proportion, dtype: object"
      ]
     },
     "execution_count": 49,
     "metadata": {},
     "output_type": "execute_result"
    }
   ],
   "source": [
    "df_icos_assessments['assessment status'].value_counts(normalize=True).mul(100).round(1).astype(str) + '%'"
   ]
  },
  {
   "cell_type": "code",
   "execution_count": 50,
   "id": "7767aa61",
   "metadata": {},
   "outputs": [],
   "source": [
    "df_icos_assessments_small = df_icos_assessments[['assessment status', 'Site_Latitude', 'Site_Longitude']]"
   ]
  },
  {
   "cell_type": "code",
   "execution_count": 52,
   "id": "f3352e32",
   "metadata": {},
   "outputs": [],
   "source": [
    "df_icos_assessments_small.to_csv('data/df_icos_assessments.csv', sep=',', index=False, encoding='utf-8')"
   ]
  },
  {
   "cell_type": "code",
   "execution_count": null,
   "id": "87bec3e6",
   "metadata": {},
   "outputs": [],
   "source": [
    "# The resulting map is published here: https://datawrapper.dwcdn.net/kkORl/1/"
   ]
  }
 ],
 "metadata": {
  "kernelspec": {
   "display_name": "Python 3 (ipykernel)",
   "language": "python",
   "name": "python3"
  },
  "language_info": {
   "codemirror_mode": {
    "name": "ipython",
    "version": 3
   },
   "file_extension": ".py",
   "mimetype": "text/x-python",
   "name": "python",
   "nbconvert_exporter": "python",
   "pygments_lexer": "ipython3",
   "version": "3.10.11"
  }
 },
 "nbformat": 4,
 "nbformat_minor": 5
}
