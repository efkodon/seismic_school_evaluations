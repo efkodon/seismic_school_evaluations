{
 "cells": [
  {
   "cell_type": "code",
   "execution_count": 33,
   "id": "71b9cbd5",
   "metadata": {},
   "outputs": [],
   "source": [
    "import pandas as pd\n",
    "import seaborn as sns\n",
    "import numpy as np\n",
    "from numpy import nan"
   ]
  },
  {
   "cell_type": "code",
   "execution_count": 34,
   "id": "8ae68451",
   "metadata": {},
   "outputs": [],
   "source": [
    "pd.set_option('display.max_columns', None)\n",
    "pd.set_option('display.max_rows', None)\n",
    "pd.set_option('display.width', None)\n",
    "pd.set_option('display.max_colwidth', None)\n",
    "pd.set_option('max_seq_item', None)"
   ]
  },
  {
   "cell_type": "code",
   "execution_count": 39,
   "id": "94c98e93",
   "metadata": {},
   "outputs": [],
   "source": [
    "# DATA SOURCE: INFORMATION AND CONDITION OF SCHOOLS (ICOS), Pre-Disaster Mitigation module\n",
    "# Data received from WA Office of Superintendent of Public Instruction (OSPI), 8/14/24, via public records request.\n",
    "# https://www.k12.wa.us/policy-funding/school-buildings-facilities/information-and-condition-schools-icos\n",
    "df_original=pd.read_csv(\"data/df_icos_clean_8.14.24.csv\")"
   ]
  },
  {
   "cell_type": "code",
   "execution_count": 40,
   "id": "602ec364",
   "metadata": {},
   "outputs": [],
   "source": [
    "df=df_original"
   ]
  },
  {
   "cell_type": "code",
   "execution_count": 41,
   "id": "141aa9e5",
   "metadata": {},
   "outputs": [
    {
     "name": "stdout",
     "output_type": "stream",
     "text": [
      "<class 'pandas.core.frame.DataFrame'>\n",
      "RangeIndex: 6678 entries, 0 to 6677\n",
      "Data columns (total 32 columns):\n",
      " #   Column                               Non-Null Count  Dtype  \n",
      "---  ------                               --------------  -----  \n",
      " 0   Unique_Identifier                    6678 non-null   object \n",
      " 1   District                             6678 non-null   object \n",
      " 2   Site                                 6678 non-null   object \n",
      " 3   Site_Latitude                        6678 non-null   float64\n",
      " 4   Site_Longitude                       6678 non-null   float64\n",
      " 5   Site_Type                            6678 non-null   object \n",
      " 6   Site_EQHazardLevel                   6678 non-null   object \n",
      " 7   Site_EQRiskLevel                     6678 non-null   object \n",
      " 8   Site_Soil                            6638 non-null   object \n",
      " 9   Site_Liquefaction                    6638 non-null   object \n",
      " 10  Site_GroundMotionPercentile          6638 non-null   float64\n",
      " 11  Site_HasGeotechnicalStudy            6678 non-null   object \n",
      " 12  Site_ShearWaveVelocity               1196 non-null   float64\n",
      " 13  Site_EnrollmentSchoolYear            6678 non-null   object \n",
      " 14  Site_Enrollment                      6678 non-null   object \n",
      " 15  BuildingID                           6655 non-null   float64\n",
      " 16  Building                             6655 non-null   object \n",
      " 17  Building_Type                        6655 non-null   object \n",
      " 18  Building_HasEvaluation               6678 non-null   object \n",
      " 19  Building_YearBuilt                   6655 non-null   float64\n",
      " 20  Building_GrossSqFt                   6619 non-null   object \n",
      " 21  BuildingArea_Name                    6627 non-null   object \n",
      " 22  BuildingArea_YearBuilt               6627 non-null   float64\n",
      " 23  BuildingArea_CodeYear                6627 non-null   object \n",
      " 24  BuildingArea_NumberOfFloors          5421 non-null   float64\n",
      " 25  BuildingArea_ConstructionType        6678 non-null   object \n",
      " 26  BuildingArea_VerticalIrregularity    1027 non-null   object \n",
      " 27  BuildingArea_HorizontalIrregularity  1558 non-null   object \n",
      " 28  BuildingArea_ExistingRisk            6678 non-null   object \n",
      " 29  BuildingArea_HasRetrofit             6655 non-null   object \n",
      " 30  BuildingArea_RetrofitRisk            6678 non-null   object \n",
      " 31  BuildingArea_CodeRisk                2441 non-null   object \n",
      "dtypes: float64(8), object(24)\n",
      "memory usage: 1.6+ MB\n"
     ]
    }
   ],
   "source": [
    "df.info()"
   ]
  },
  {
   "cell_type": "code",
   "execution_count": 42,
   "id": "be8b2687",
   "metadata": {},
   "outputs": [],
   "source": [
    "# Convert the data type to numbers for selected columns in order to use them for calculations.\n",
    "df['Building_YearBuilt']=df['Building_YearBuilt'].astype('Int64')\n",
    "df['BuildingArea_YearBuilt']=df['BuildingArea_YearBuilt'].astype('Int64')\n",
    "df['Site_Enrollment']=df['Site_Enrollment'].str.replace(',','') # remove commas from the numbers\n",
    "df['Site_Enrollment']=df['Site_Enrollment'].astype('Int64')"
   ]
  },
  {
   "cell_type": "code",
   "execution_count": null,
   "id": "1feb3eaa",
   "metadata": {},
   "outputs": [],
   "source": []
  },
  {
   "cell_type": "code",
   "execution_count": 43,
   "id": "591647f2",
   "metadata": {},
   "outputs": [],
   "source": [
    "# How many students attended K-12 public schools with no evaluations and no retrofits in the 2023-'24 school year?"
   ]
  },
  {
   "cell_type": "code",
   "execution_count": 44,
   "id": "04bc6ec2",
   "metadata": {},
   "outputs": [],
   "source": [
    "# Find the number of pre-1998 buildings have no evaluations or retrofits.\n",
    "mask = (df['Building_YearBuilt'] < 1998)\n",
    "df_old = df[mask]"
   ]
  },
  {
   "cell_type": "code",
   "execution_count": 45,
   "id": "c6cc08a7",
   "metadata": {},
   "outputs": [],
   "source": [
    "df_old = df_old[['Unique_Identifier', 'Site_Enrollment', 'Building', 'Building_HasEvaluation', \\\n",
    "                      'BuildingArea_HasRetrofit']].drop_duplicates()"
   ]
  },
  {
   "cell_type": "code",
   "execution_count": 46,
   "id": "087b52cb",
   "metadata": {},
   "outputs": [],
   "source": [
    "mask = (df_old['Building_HasEvaluation'] == 'No')\n",
    "df_old_evals_no = df_old[mask]"
   ]
  },
  {
   "cell_type": "code",
   "execution_count": 47,
   "id": "1899c8f4",
   "metadata": {},
   "outputs": [
    {
     "data": {
      "text/plain": [
       "(805, 2)"
      ]
     },
     "execution_count": 47,
     "metadata": {},
     "output_type": "execute_result"
    }
   ],
   "source": [
    "# There are 805 schools with one or more buildings that is built before 1998 and has no seismic evaluations.\n",
    "df_old_evals_no_2 = df_old_evals_no[['Unique_Identifier', 'Site_Enrollment']].drop_duplicates()\n",
    "df_old_evals_no_2.shape"
   ]
  },
  {
   "cell_type": "code",
   "execution_count": 48,
   "id": "0bfb98f3",
   "metadata": {},
   "outputs": [
    {
     "data": {
      "text/plain": [
       "(805, 1)"
      ]
     },
     "execution_count": 48,
     "metadata": {},
     "output_type": "execute_result"
    }
   ],
   "source": [
    "df_old_evals_no_ids = df_old_evals_no[['Unique_Identifier']].drop_duplicates()\n",
    "df_old_evals_no_ids.shape"
   ]
  },
  {
   "cell_type": "code",
   "execution_count": 49,
   "id": "ffcf0edb",
   "metadata": {},
   "outputs": [
    {
     "data": {
      "text/plain": [
       "(805,)"
      ]
     },
     "execution_count": 49,
     "metadata": {},
     "output_type": "execute_result"
    }
   ],
   "source": [
    "df_old_evals_no_ids = df_old_evals_no_ids['Unique_Identifier'].drop_duplicates()\n",
    "df_old_evals_no_ids.shape"
   ]
  },
  {
   "cell_type": "code",
   "execution_count": 50,
   "id": "f19c14cb",
   "metadata": {},
   "outputs": [
    {
     "data": {
      "text/plain": [
       "(3085, 32)"
      ]
     },
     "execution_count": 50,
     "metadata": {},
     "output_type": "execute_result"
    }
   ],
   "source": [
    "# There are 3,085 rows of data for these 805 schools.\n",
    "df_test = df[df['Unique_Identifier'].isin(df_old_evals_no_ids)]\n",
    "df_test.shape"
   ]
  },
  {
   "cell_type": "code",
   "execution_count": 51,
   "id": "0c0f1411",
   "metadata": {},
   "outputs": [],
   "source": [
    "mask = (df_test['BuildingArea_HasRetrofit'] == 'Structural')  | \\\n",
    "(df_test['BuildingArea_HasRetrofit'] == 'Non-Structural')\n",
    "df_test2 = df_test[mask]"
   ]
  },
  {
   "cell_type": "code",
   "execution_count": 52,
   "id": "17d532c9",
   "metadata": {},
   "outputs": [
    {
     "data": {
      "text/plain": [
       "(35, 2)"
      ]
     },
     "execution_count": 52,
     "metadata": {},
     "output_type": "execute_result"
    }
   ],
   "source": [
    "df_test3 = df_test2[['Unique_Identifier', 'Building']].drop_duplicates()\n",
    "df_test3.shape # 35 buildings in these schools have retrofits. "
   ]
  },
  {
   "cell_type": "code",
   "execution_count": 53,
   "id": "c41662e5",
   "metadata": {},
   "outputs": [
    {
     "data": {
      "text/plain": [
       "(25, 2)"
      ]
     },
     "execution_count": 53,
     "metadata": {},
     "output_type": "execute_result"
    }
   ],
   "source": [
    "enrollment_test = df_test2[['Unique_Identifier', 'Site_Enrollment']].drop_duplicates()\n",
    "enrollment_test.shape # These 35 buildings are at 25 schools."
   ]
  },
  {
   "cell_type": "code",
   "execution_count": 54,
   "id": "af2fba01",
   "metadata": {},
   "outputs": [
    {
     "data": {
      "text/plain": [
       "(25,)"
      ]
     },
     "execution_count": 54,
     "metadata": {},
     "output_type": "execute_result"
    }
   ],
   "source": [
    "enrollment_test_ids = enrollment_test['Unique_Identifier']\n",
    "enrollment_test_ids.shape"
   ]
  },
  {
   "cell_type": "code",
   "execution_count": 55,
   "id": "9b05f00d",
   "metadata": {},
   "outputs": [],
   "source": [
    "enrollment_test_3 = df_old_evals_no[~df_old_evals_no['Unique_Identifier'].isin\\\n",
    "                                      (enrollment_test_ids)]"
   ]
  },
  {
   "cell_type": "code",
   "execution_count": 56,
   "id": "c83c5770",
   "metadata": {},
   "outputs": [
    {
     "data": {
      "text/plain": [
       "(780, 2)"
      ]
     },
     "execution_count": 56,
     "metadata": {},
     "output_type": "execute_result"
    }
   ],
   "source": [
    "enrollment_test_4 = enrollment_test_3[['Unique_Identifier', 'Site_Enrollment']].drop_duplicates()\n",
    "enrollment_test_4.shape\n",
    "# There are 780 schools with pre-1998 buildings that have no evaluations or retrofits. 780 + 25 = 805"
   ]
  },
  {
   "cell_type": "code",
   "execution_count": 57,
   "id": "46e6b642",
   "metadata": {},
   "outputs": [
    {
     "name": "stdout",
     "output_type": "stream",
     "text": [
      "There are 378,590 students who attended schools with one or more pre-1998 buildings that have no evaluations and no retrofits in the '23-'24 school year.\n"
     ]
    }
   ],
   "source": [
    "p = enrollment_test_4['Site_Enrollment'].sum()\n",
    "print(\"There are\", \"{:,}\".format(p), \"students who attended schools with one or more pre-1998 \\\n",
    "buildings that have no evaluations and no retrofits in the '23-'24 school year.\")\n",
    "# There are 378,590 students who attended school last year at schools with one or more pre-1998 buildings that \n",
    "# have no evaluations and no retrofits."
   ]
  },
  {
   "cell_type": "code",
   "execution_count": null,
   "id": "9ce5803f",
   "metadata": {},
   "outputs": [],
   "source": []
  },
  {
   "cell_type": "code",
   "execution_count": 58,
   "id": "9eca28b1",
   "metadata": {},
   "outputs": [],
   "source": [
    "# How many students attended schools with \"high\" or \"very high\" site risks in the '23-'24 school year?"
   ]
  },
  {
   "cell_type": "code",
   "execution_count": 59,
   "id": "08261da7",
   "metadata": {},
   "outputs": [],
   "source": [
    "df_risk = df[['Unique_Identifier', 'Site_EQRiskLevel', 'Site_Enrollment']].drop_duplicates()"
   ]
  },
  {
   "cell_type": "code",
   "execution_count": 60,
   "id": "4428052b",
   "metadata": {},
   "outputs": [
    {
     "data": {
      "text/plain": [
       "Site_EQRiskLevel\n",
       "no value     1201\n",
       "Low           375\n",
       "Very High     242\n",
       "Moderate      121\n",
       "High           84\n",
       "Name: count, dtype: int64"
      ]
     },
     "execution_count": 60,
     "metadata": {},
     "output_type": "execute_result"
    }
   ],
   "source": [
    "df_risk['Site_EQRiskLevel'].value_counts()"
   ]
  },
  {
   "cell_type": "code",
   "execution_count": 61,
   "id": "350350f3",
   "metadata": {},
   "outputs": [],
   "source": [
    "mask = (df_risk['Site_EQRiskLevel'] == \"High\") | \\\n",
    "(df_risk['Site_EQRiskLevel'] == \"Very High\")\n",
    "df_high_risk = df_risk[mask]\n",
    "m = df_high_risk.shape[0]"
   ]
  },
  {
   "cell_type": "code",
   "execution_count": 62,
   "id": "0d6a6c99",
   "metadata": {},
   "outputs": [
    {
     "name": "stdout",
     "output_type": "stream",
     "text": [
      "There are 167,114 students who attended 326 schools with high or very high site risks in the '23-'24 school year.\n"
     ]
    }
   ],
   "source": [
    "x = df_high_risk['Site_Enrollment'].sum()\n",
    "print(\"There are\", \"{:,}\".format(x), \"students who attended\", m, \"schools with high or very high site risks in \\\n",
    "the '23-'24 school year.\")"
   ]
  },
  {
   "cell_type": "code",
   "execution_count": null,
   "id": "ff87bccb",
   "metadata": {},
   "outputs": [],
   "source": []
  },
  {
   "cell_type": "code",
   "execution_count": null,
   "id": "c690136b",
   "metadata": {},
   "outputs": [],
   "source": [
    "# Note from OSPI: \"Enrollment figures are from the October 1st Report Card snapshot; enrollment figures may differ \n",
    "# from Report Card, since the latter is updated closer to the end of the year to account for students that move \n",
    "# between schools/grade levels. Enrollment is captured at the school-level that are tied to a site.\"\""
   ]
  }
 ],
 "metadata": {
  "kernelspec": {
   "display_name": "Python 3 (ipykernel)",
   "language": "python",
   "name": "python3"
  },
  "language_info": {
   "codemirror_mode": {
    "name": "ipython",
    "version": 3
   },
   "file_extension": ".py",
   "mimetype": "text/x-python",
   "name": "python",
   "nbconvert_exporter": "python",
   "pygments_lexer": "ipython3",
   "version": "3.10.11"
  }
 },
 "nbformat": 4,
 "nbformat_minor": 5
}
