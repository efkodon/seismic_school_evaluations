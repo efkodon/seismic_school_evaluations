{
 "cells": [
  {
   "cell_type": "code",
   "execution_count": 38,
   "id": "71b9cbd5",
   "metadata": {},
   "outputs": [],
   "source": [
    "import pandas as pd\n",
    "import seaborn as sns\n",
    "import numpy as np\n",
    "from numpy import nan"
   ]
  },
  {
   "cell_type": "code",
   "execution_count": 39,
   "id": "8ae68451",
   "metadata": {},
   "outputs": [],
   "source": [
    "pd.set_option('display.max_columns', None)\n",
    "pd.set_option('display.max_rows', None)\n",
    "pd.set_option('display.width', None)\n",
    "pd.set_option('display.max_colwidth', None)\n",
    "pd.set_option('max_seq_item', None)"
   ]
  },
  {
   "cell_type": "code",
   "execution_count": 40,
   "id": "94c98e93",
   "metadata": {},
   "outputs": [],
   "source": [
    "# Data received from Office of Superintendent of Public Instruction, Aug. 14, 2024, via public records request\n",
    "# from the Information and Condition of Schools (ICOS) database, Pre-Disaster Mitigation module.\n",
    "# https://www.k12.wa.us/policy-funding/school-buildings-facilities/information-and-condition-schools-icos\n",
    "df_original=pd.read_csv(\"data/df_icos_clean_8.14.24.csv\")"
   ]
  },
  {
   "cell_type": "code",
   "execution_count": 41,
   "id": "602ec364",
   "metadata": {},
   "outputs": [],
   "source": [
    "df=df_original"
   ]
  },
  {
   "cell_type": "code",
   "execution_count": 42,
   "id": "d6c9e279",
   "metadata": {},
   "outputs": [
    {
     "name": "stdout",
     "output_type": "stream",
     "text": [
      "<class 'pandas.core.frame.DataFrame'>\n",
      "RangeIndex: 6678 entries, 0 to 6677\n",
      "Data columns (total 32 columns):\n",
      " #   Column                               Non-Null Count  Dtype  \n",
      "---  ------                               --------------  -----  \n",
      " 0   Unique_Identifier                    6678 non-null   object \n",
      " 1   District                             6678 non-null   object \n",
      " 2   Site                                 6678 non-null   object \n",
      " 3   Site_Latitude                        6678 non-null   float64\n",
      " 4   Site_Longitude                       6678 non-null   float64\n",
      " 5   Site_Type                            6678 non-null   object \n",
      " 6   Site_EQHazardLevel                   6678 non-null   object \n",
      " 7   Site_EQRiskLevel                     6678 non-null   object \n",
      " 8   Site_Soil                            6638 non-null   object \n",
      " 9   Site_Liquefaction                    6638 non-null   object \n",
      " 10  Site_GroundMotionPercentile          6638 non-null   float64\n",
      " 11  Site_HasGeotechnicalStudy            6678 non-null   object \n",
      " 12  Site_ShearWaveVelocity               1196 non-null   float64\n",
      " 13  Site_EnrollmentSchoolYear            6678 non-null   object \n",
      " 14  Site_Enrollment                      6678 non-null   object \n",
      " 15  BuildingID                           6655 non-null   float64\n",
      " 16  Building                             6655 non-null   object \n",
      " 17  Building_Type                        6655 non-null   object \n",
      " 18  Building_HasEvaluation               6678 non-null   object \n",
      " 19  Building_YearBuilt                   6655 non-null   float64\n",
      " 20  Building_GrossSqFt                   6619 non-null   object \n",
      " 21  BuildingArea_Name                    6627 non-null   object \n",
      " 22  BuildingArea_YearBuilt               6627 non-null   float64\n",
      " 23  BuildingArea_CodeYear                6627 non-null   object \n",
      " 24  BuildingArea_NumberOfFloors          5421 non-null   float64\n",
      " 25  BuildingArea_ConstructionType        6678 non-null   object \n",
      " 26  BuildingArea_VerticalIrregularity    1027 non-null   object \n",
      " 27  BuildingArea_HorizontalIrregularity  1558 non-null   object \n",
      " 28  BuildingArea_ExistingRisk            6678 non-null   object \n",
      " 29  BuildingArea_HasRetrofit             6655 non-null   object \n",
      " 30  BuildingArea_RetrofitRisk            6678 non-null   object \n",
      " 31  BuildingArea_CodeRisk                2441 non-null   object \n",
      "dtypes: float64(8), object(24)\n",
      "memory usage: 1.6+ MB\n"
     ]
    }
   ],
   "source": [
    "df.info()"
   ]
  },
  {
   "cell_type": "code",
   "execution_count": 32,
   "id": "be8b2687",
   "metadata": {},
   "outputs": [],
   "source": [
    "# Convert the data type to numbers for selected columns in order to use them for calculations.\n",
    "df['Building_YearBuilt']=df['Building_YearBuilt'].astype('Int64')\n",
    "df['BuildingArea_YearBuilt']=df['BuildingArea_YearBuilt'].astype('Int64')"
   ]
  },
  {
   "cell_type": "code",
   "execution_count": null,
   "id": "d5375377",
   "metadata": {},
   "outputs": [],
   "source": []
  },
  {
   "cell_type": "code",
   "execution_count": 33,
   "id": "9020b813",
   "metadata": {},
   "outputs": [],
   "source": [
    "# How many buildings that were built prior to 1958, when unreinforced masonry was common, have no construction\n",
    "# type identified? The year 1958 was chosen because the state Department of Commerce used this year as a cutoff \n",
    "# for including buildings in its 2018 URM dashboard."
   ]
  },
  {
   "cell_type": "code",
   "execution_count": 34,
   "id": "fb569a8a",
   "metadata": {},
   "outputs": [],
   "source": [
    "df_small = df[['Unique_Identifier', 'Building', 'Building_YearBuilt', 'BuildingArea_ConstructionType']]\\\n",
    "                          .drop_duplicates()"
   ]
  },
  {
   "cell_type": "code",
   "execution_count": 35,
   "id": "f0b2280f",
   "metadata": {},
   "outputs": [],
   "source": [
    "mask = (df_small['Building_YearBuilt'] < 1958)\n",
    "df_pre_1958 = df_small[mask]"
   ]
  },
  {
   "cell_type": "code",
   "execution_count": 36,
   "id": "e20128f9",
   "metadata": {},
   "outputs": [],
   "source": [
    "# Construction type is provided for building areas, which are portions of total buildings.\n",
    "# Some buildings have a construction value for some areas but not all.\n",
    "# Find the total number of buildings in this group and subtract those with a construction type listed for one\n",
    "# or more building area rows. "
   ]
  },
  {
   "cell_type": "code",
   "execution_count": 37,
   "id": "4db473e0",
   "metadata": {},
   "outputs": [
    {
     "data": {
      "text/plain": [
       "741"
      ]
     },
     "execution_count": 37,
     "metadata": {},
     "output_type": "execute_result"
    }
   ],
   "source": [
    "# There are 741 buildings that were built before 1958.\n",
    "df_pre_1958_buildings = df_pre_1958[['Unique_Identifier', 'Building']].drop_duplicates()\n",
    "buildings_all = df_pre_1958_buildings.shape[0]\n",
    "buildings_all"
   ]
  },
  {
   "cell_type": "code",
   "execution_count": 20,
   "id": "bf223de8",
   "metadata": {},
   "outputs": [],
   "source": [
    "# How many pre-1958 buildings have one or more building areas with a construction type listed for any row?\n",
    "mask = (df_pre_1958['BuildingArea_ConstructionType'] != 'no value')\n",
    "df_pre_1958_known = df_pre_1958[mask]"
   ]
  },
  {
   "cell_type": "code",
   "execution_count": 21,
   "id": "939bb160",
   "metadata": {},
   "outputs": [
    {
     "data": {
      "text/plain": [
       "476"
      ]
     },
     "execution_count": 21,
     "metadata": {},
     "output_type": "execute_result"
    }
   ],
   "source": [
    "# There are 476 pre-1958 buildings that have a construction type listed for one or more rows.\n",
    "df_pre_1958_known_buildings = df_pre_1958_known[['Unique_Identifier', 'Building']].drop_duplicates()\n",
    "buildings_info = df_pre_1958_known_buildings.shape[0]\n",
    "buildings_info"
   ]
  },
  {
   "cell_type": "code",
   "execution_count": 25,
   "id": "7d8d5e08",
   "metadata": {},
   "outputs": [],
   "source": [
    "# The remaining buildings have no construction type listed for any rows.\n",
    "no_construction_type = buildings_all - buildings_info"
   ]
  },
  {
   "cell_type": "code",
   "execution_count": 26,
   "id": "f320d6b9",
   "metadata": {},
   "outputs": [
    {
     "name": "stdout",
     "output_type": "stream",
     "text": [
      "There are 265 buildings that were built before 1958 and have no construction type listed for any rows.\n"
     ]
    }
   ],
   "source": [
    "print(\"There are\", no_construction_type, \"buildings that were built before 1958 and have no construction type \\\n",
    "listed for any rows.\")"
   ]
  }
 ],
 "metadata": {
  "kernelspec": {
   "display_name": "Python 3 (ipykernel)",
   "language": "python",
   "name": "python3"
  },
  "language_info": {
   "codemirror_mode": {
    "name": "ipython",
    "version": 3
   },
   "file_extension": ".py",
   "mimetype": "text/x-python",
   "name": "python",
   "nbconvert_exporter": "python",
   "pygments_lexer": "ipython3",
   "version": "3.10.11"
  }
 },
 "nbformat": 4,
 "nbformat_minor": 5
}
