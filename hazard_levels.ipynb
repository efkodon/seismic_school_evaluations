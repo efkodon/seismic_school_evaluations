{
 "cells": [
  {
   "cell_type": "code",
   "execution_count": 1,
   "id": "7864e310",
   "metadata": {},
   "outputs": [],
   "source": [
    "import pandas as pd\n",
    "import seaborn as sns\n",
    "import numpy as np\n",
    "from numpy import nan"
   ]
  },
  {
   "cell_type": "code",
   "execution_count": 2,
   "id": "05411d51",
   "metadata": {},
   "outputs": [],
   "source": [
    "pd.set_option('display.max_columns', None)\n",
    "pd.set_option('display.max_rows', None)\n",
    "pd.set_option('display.width', None)\n",
    "pd.set_option('display.max_colwidth', None)\n",
    "pd.set_option('max_seq_item', None)"
   ]
  },
  {
   "cell_type": "code",
   "execution_count": 3,
   "id": "174d5b5d",
   "metadata": {},
   "outputs": [],
   "source": [
    "# DATA SOURCE 1:\n",
    "# Data received from Office of Superintendent of Public Instruction, Aug. 14, 2024, via public records request\n",
    "# from the Information and Condition of Schools (ICOS) database, Pre-Disaster Mitigation module.\n",
    "# https://www.k12.wa.us/policy-funding/school-buildings-facilities/information-and-condition-schools-icos\n",
    "df_icos_original=pd.read_csv(\"data/df_icos_clean_8.14.24.csv\")"
   ]
  },
  {
   "cell_type": "code",
   "execution_count": 4,
   "id": "0fac4801",
   "metadata": {},
   "outputs": [],
   "source": [
    "# Copy the data and work with the copy.\n",
    "df_icos = df_icos_original"
   ]
  },
  {
   "cell_type": "code",
   "execution_count": 5,
   "id": "02288e2f",
   "metadata": {},
   "outputs": [
    {
     "name": "stdout",
     "output_type": "stream",
     "text": [
      "<class 'pandas.core.frame.DataFrame'>\n",
      "RangeIndex: 6678 entries, 0 to 6677\n",
      "Data columns (total 32 columns):\n",
      " #   Column                               Non-Null Count  Dtype  \n",
      "---  ------                               --------------  -----  \n",
      " 0   Unique_Identifier                    6678 non-null   object \n",
      " 1   District                             6678 non-null   object \n",
      " 2   Site                                 6678 non-null   object \n",
      " 3   Site_Latitude                        6678 non-null   float64\n",
      " 4   Site_Longitude                       6678 non-null   float64\n",
      " 5   Site_Type                            6678 non-null   object \n",
      " 6   Site_EQHazardLevel                   6678 non-null   object \n",
      " 7   Site_EQRiskLevel                     2838 non-null   object \n",
      " 8   Site_Soil                            6638 non-null   object \n",
      " 9   Site_Liquefaction                    6638 non-null   object \n",
      " 10  Site_GroundMotionPercentile          6638 non-null   float64\n",
      " 11  Site_HasGeotechnicalStudy            6678 non-null   object \n",
      " 12  Site_ShearWaveVelocity               1196 non-null   float64\n",
      " 13  Site_EnrollmentSchoolYear            6678 non-null   object \n",
      " 14  Site_Enrollment                      6425 non-null   object \n",
      " 15  BuildingID                           6655 non-null   float64\n",
      " 16  Building                             6655 non-null   object \n",
      " 17  Building_Type                        6655 non-null   object \n",
      " 18  Building_HasEvaluation               6655 non-null   object \n",
      " 19  Building_YearBuilt                   6655 non-null   float64\n",
      " 20  Building_GrossSqFt                   6619 non-null   object \n",
      " 21  BuildingArea_Name                    6627 non-null   object \n",
      " 22  BuildingArea_YearBuilt               6627 non-null   float64\n",
      " 23  BuildingArea_CodeYear                6627 non-null   object \n",
      " 24  BuildingArea_NumberOfFloors          5421 non-null   float64\n",
      " 25  BuildingArea_ConstructionType        3577 non-null   object \n",
      " 26  BuildingArea_VerticalIrregularity    1027 non-null   object \n",
      " 27  BuildingArea_HorizontalIrregularity  1558 non-null   object \n",
      " 28  BuildingArea_ExistingRisk            3450 non-null   object \n",
      " 29  BuildingArea_HasRetrofit             6655 non-null   object \n",
      " 30  BuildingArea_RetrofitRisk            2441 non-null   object \n",
      " 31  BuildingArea_CodeRisk                2441 non-null   object \n",
      "dtypes: float64(8), object(24)\n",
      "memory usage: 1.6+ MB\n"
     ]
    }
   ],
   "source": [
    "df_icos.info()"
   ]
  },
  {
   "cell_type": "code",
   "execution_count": null,
   "id": "14502123",
   "metadata": {},
   "outputs": [],
   "source": []
  },
  {
   "cell_type": "code",
   "execution_count": 7,
   "id": "0f7985d2",
   "metadata": {},
   "outputs": [
    {
     "data": {
      "text/plain": [
       "Site_EQHazardLevel\n",
       "Moderate     46.2%\n",
       "High         27.0%\n",
       "Low          25.1%\n",
       "Very High     1.3%\n",
       "no value      0.4%\n",
       "Name: proportion, dtype: object"
      ]
     },
     "execution_count": 7,
     "metadata": {},
     "output_type": "execute_result"
    }
   ],
   "source": [
    "# How many schools are located in \"high\" or \"very high\" seismic hazard areas?\n",
    "df_hazard = df_icos[['Unique_Identifier', 'Site_EQHazardLevel']].drop_duplicates()\n",
    "df_hazard['Site_EQHazardLevel'].value_counts(normalize=True).mul(100).round(1).astype(str) + '%'\n",
    "# According to ICOS, 28.3% of schools have \"high\" or \"very high\" earthquake hazard levels."
   ]
  },
  {
   "cell_type": "code",
   "execution_count": null,
   "id": "fa28212b",
   "metadata": {},
   "outputs": [],
   "source": []
  },
  {
   "cell_type": "code",
   "execution_count": 9,
   "id": "64779465",
   "metadata": {},
   "outputs": [],
   "source": [
    "# Compare hazard data from the ICOS dataset to hazard data found in district-level reports also derived from ICOS."
   ]
  },
  {
   "cell_type": "code",
   "execution_count": 10,
   "id": "750cf51e",
   "metadata": {},
   "outputs": [],
   "source": [
    "# The ICOS dataset contains one hazard level field called \"Site_EQHazardLevel\".\n",
    "# This field is defined in the ICOS glossary as:\n",
    "# \"The highest calculated building area earthquake hazard at the site. A qualitative measure based on the \n",
    "# earthquake ground motion percentile. Earthquake hazard is a measure of the frequency and severity of \n",
    "# earthquake expected for this site. This is not a measure of earthquake risk. A building built to recent or \n",
    "# current building codes in a high earthquake hazard location may have low risk because the building is well \n",
    "# designed to resist earthquake forces. Conversely, a building built before earthquake codes were adopted or \n",
    "# decades ago when the earthquake provisions were lower than now in a low earthquake hazard location may have \n",
    "# relatively high risk because the building may suffer high levels of damage at relatively low levels of \n",
    "# earthquake ground shaking.\" \n",
    "\n",
    "# But a \"hazards\" tab in the dataset documentation shows calculations in which hazard levels are lowered when a \n",
    "# school campus has low estimated levels of liquefaction, a soil condition that exacerbates earthquake shaking.\n",
    "\n",
    "# See the ICOS dataset documentation here:\n",
    "# https://github.com/efkodon/seismic_school_evaluations/blob/main/icos_documentation.ipynb"
   ]
  },
  {
   "cell_type": "code",
   "execution_count": 12,
   "id": "1f6529c1",
   "metadata": {},
   "outputs": [],
   "source": [
    "# District-level reports generated from ICOS were obtained for Seattle Public Schools and the Shoreline School \n",
    "# District. These reports are called \"Building Earthquake EPAT Summary.\" The reports show two hazard levels: \n",
    "# \"Earthquake Ground Shaking Hazard Level\"; and \"Combined Earthquake Hazard Level,\" which is defined as \n",
    "# \"Earthquake ground shaking and liquefaction potential.\"\n",
    "\n",
    "# The \"Site_EQHazardLevel\" in the statewide dataset corresponds to the combined hazard level in the EPAT reports, \n",
    "# which is lower than the earthquake hazard level in most cases within this sample. \n",
    "\n",
    "# EPAT is the state's Earthquake Performance Assessment Tool.\n",
    "# https://www.eeri.org/images/sesi/EPATGuidance-8-10-2017.pdf"
   ]
  },
  {
   "cell_type": "code",
   "execution_count": 14,
   "id": "1431fc76",
   "metadata": {},
   "outputs": [],
   "source": [
    "mask = (df_icos['District'] == 'Seattle') | \\\n",
    "(df_icos['District'] == 'Shoreline')\n",
    "df_icos_seattle_shoreline = df_icos[mask]"
   ]
  },
  {
   "cell_type": "code",
   "execution_count": 15,
   "id": "1f7ae91b",
   "metadata": {},
   "outputs": [],
   "source": [
    "df_icos_seattle_shoreline = df_icos_seattle_shoreline[['Unique_Identifier', 'Site_EQHazardLevel', \\\n",
    "                                                      'Site_Liquefaction']].drop_duplicates()"
   ]
  },
  {
   "cell_type": "code",
   "execution_count": 16,
   "id": "b8eb7677",
   "metadata": {},
   "outputs": [],
   "source": [
    "# There is one school in ICOS that is not listed in the Seattle Public Schools data. Remove this school\n",
    "# from the Seattle ICOS list to merge only those that appear in both datasets for comparison.\n",
    "mask = (df_icos_seattle_shoreline['Unique_Identifier'] != 'Seattle_Kimball Elementary School (New)')\n",
    "df_icos_seattle_shoreline = df_icos_seattle_shoreline[mask]"
   ]
  },
  {
   "cell_type": "code",
   "execution_count": 17,
   "id": "51bd50fe",
   "metadata": {},
   "outputs": [
    {
     "data": {
      "text/plain": [
       "(119, 3)"
      ]
     },
     "execution_count": 17,
     "metadata": {},
     "output_type": "execute_result"
    }
   ],
   "source": [
    "df_icos_seattle_shoreline.shape"
   ]
  },
  {
   "cell_type": "code",
   "execution_count": 20,
   "id": "80278dfe",
   "metadata": {},
   "outputs": [],
   "source": [
    "# This data was compiled from EPAT reports provided by Seattle Public Schools.\n",
    "df_seattle=pd.read_csv(\"data/hazard_levels_seattle_7.15.24.csv\")"
   ]
  },
  {
   "cell_type": "code",
   "execution_count": 21,
   "id": "95d8d6c0",
   "metadata": {},
   "outputs": [
    {
     "data": {
      "text/plain": [
       "(103, 3)"
      ]
     },
     "execution_count": 21,
     "metadata": {},
     "output_type": "execute_result"
    }
   ],
   "source": [
    "df_seattle.shape"
   ]
  },
  {
   "cell_type": "code",
   "execution_count": 22,
   "id": "02fb7752",
   "metadata": {},
   "outputs": [
    {
     "data": {
      "text/plain": [
       "EPAT_earthquake_hazard_level  EPAT_combined_hazard_level\n",
       "High                          Moderate                      57\n",
       "Very High                     High                          43\n",
       "                              Very High                      2\n",
       "High                          High                           1\n",
       "Name: count, dtype: int64"
      ]
     },
     "execution_count": 22,
     "metadata": {},
     "output_type": "execute_result"
    }
   ],
   "source": [
    "# For Seattle, 100 out of 103 schools had a lower risk result for the combined hazard level than in the \n",
    "# earthquake hazard level. The combined level corresponds to the \"Site_EQHazardLevel\" in the statewide data.\n",
    "df_seattle[['EPAT_earthquake_hazard_level', 'EPAT_combined_hazard_level']].value_counts()"
   ]
  },
  {
   "cell_type": "code",
   "execution_count": 23,
   "id": "33a992ce",
   "metadata": {},
   "outputs": [],
   "source": [
    "# This data was compiled from EPAT reports received from OSPI for the Shoreline School District.\n",
    "df_shoreline=pd.read_csv(\"data/hazard_levels_shoreline_5.8.24.csv\")"
   ]
  },
  {
   "cell_type": "code",
   "execution_count": 24,
   "id": "3806979b",
   "metadata": {},
   "outputs": [
    {
     "data": {
      "text/plain": [
       "EPAT_earthquake_hazard_level  EPAT_combined_hazard_level\n",
       "High                          Moderate                      15\n",
       "                              High                           1\n",
       "Name: count, dtype: int64"
      ]
     },
     "execution_count": 24,
     "metadata": {},
     "output_type": "execute_result"
    }
   ],
   "source": [
    "# For Shoreline, 15 out of 16 schools had a lower risk result for the combined hazard level than for the \n",
    "# earthquake hazard level. The combined level corresponds to the \"Site_EQHazardLevel\" in the statewide data.\n",
    "df_shoreline[['EPAT_earthquake_hazard_level', 'EPAT_combined_hazard_level']].value_counts()"
   ]
  },
  {
   "cell_type": "code",
   "execution_count": 25,
   "id": "49f12c93",
   "metadata": {},
   "outputs": [],
   "source": [
    "df_seattle_shoreline = pd.concat([df_shoreline, df_seattle], axis=0)"
   ]
  },
  {
   "cell_type": "code",
   "execution_count": 26,
   "id": "4139e30a",
   "metadata": {},
   "outputs": [],
   "source": [
    "df_merged_seattle_shoreline = df_icos_seattle_shoreline.merge(df_seattle_shoreline, how = 'left', on = \\\n",
    "                                                              ['Unique_Identifier'])"
   ]
  },
  {
   "cell_type": "code",
   "execution_count": 27,
   "id": "2114bae5",
   "metadata": {},
   "outputs": [],
   "source": [
    "# rename ICOS column to make the comparison more clear\n",
    "df_merged_seattle_shoreline = df_merged_seattle_shoreline.rename(columns={'Site_EQHazardLevel': \\\n",
    "                                  'ICOS_hazard_level'})"
   ]
  },
  {
   "cell_type": "code",
   "execution_count": 28,
   "id": "5fbc5c28",
   "metadata": {},
   "outputs": [],
   "source": [
    "# reorder columns for easier comparison\n",
    "df_merged_seattle_shoreline = df_merged_seattle_shoreline[['Unique_Identifier', 'ICOS_hazard_level', \\\n",
    "                    'EPAT_combined_hazard_level', 'EPAT_earthquake_hazard_level', 'Site_Liquefaction']]"
   ]
  },
  {
   "cell_type": "code",
   "execution_count": 29,
   "id": "b48fa04e",
   "metadata": {},
   "outputs": [
    {
     "data": {
      "text/plain": [
       "ICOS_hazard_level  EPAT_earthquake_hazard_level\n",
       "Moderate           High                            70\n",
       "High               Very High                       43\n",
       "                   High                             2\n",
       "Very High          Very High                        2\n",
       "Name: count, dtype: int64"
      ]
     },
     "execution_count": 29,
     "metadata": {},
     "output_type": "execute_result"
    }
   ],
   "source": [
    "df_merged_seattle_shoreline[['ICOS_hazard_level', 'EPAT_earthquake_hazard_level']].value_counts()"
   ]
  },
  {
   "cell_type": "code",
   "execution_count": 30,
   "id": "6a4da501",
   "metadata": {},
   "outputs": [],
   "source": [
    "# create a column to see if the earthquake hazard levels match between the data received via public records\n",
    "# request from OSPI, and the data received from Seattle and Shoreline\n",
    "df_merged_seattle_shoreline['hazard_level_match'] = df_merged_seattle_shoreline.apply(lambda x: 'Yes' if\\\n",
    "                x['ICOS_hazard_level'] == x['EPAT_earthquake_hazard_level'] else 'No',axis=1)"
   ]
  },
  {
   "cell_type": "code",
   "execution_count": 31,
   "id": "4030d26c",
   "metadata": {},
   "outputs": [
    {
     "data": {
      "text/plain": [
       "hazard_level_match\n",
       "No     115\n",
       "Yes      4\n",
       "Name: count, dtype: int64"
      ]
     },
     "execution_count": 31,
     "metadata": {},
     "output_type": "execute_result"
    }
   ],
   "source": [
    "df_merged_seattle_shoreline['hazard_level_match'].value_counts()"
   ]
  },
  {
   "cell_type": "code",
   "execution_count": 32,
   "id": "a81285df",
   "metadata": {},
   "outputs": [],
   "source": [
    "mask = (df_merged_seattle_shoreline['hazard_level_match'] == 'No')\n",
    "df_merged_seattle_shoreline_unmatched_hazard = df_merged_seattle_shoreline[mask]"
   ]
  },
  {
   "cell_type": "code",
   "execution_count": 33,
   "id": "8ad8017a",
   "metadata": {},
   "outputs": [],
   "source": [
    "# Create a column to see if the earthquake hazard levels in the OSPI public records data match the \n",
    "# EPAT_combined_hazard_level.\n",
    "df_merged_seattle_shoreline['combined_hazard_level_match'] = df_merged_seattle_shoreline.apply(lambda x: 'Yes' if\\\n",
    "                x['ICOS_hazard_level'] == x['EPAT_combined_hazard_level'] else 'No',axis=1)"
   ]
  },
  {
   "cell_type": "code",
   "execution_count": 34,
   "id": "3f936ea8",
   "metadata": {},
   "outputs": [
    {
     "data": {
      "text/plain": [
       "combined_hazard_level_match\n",
       "Yes    117\n",
       "No       2\n",
       "Name: count, dtype: int64"
      ]
     },
     "execution_count": 34,
     "metadata": {},
     "output_type": "execute_result"
    }
   ],
   "source": [
    "# Yes, the hazard level given in the public records data from ICOS matches the EPAT_combined_hazard_level\n",
    "# in the SPS data, which matches the the earthquake hazard level in the SPS data only some of the time.\n",
    "df_merged_seattle_shoreline['combined_hazard_level_match'].value_counts()"
   ]
  },
  {
   "cell_type": "code",
   "execution_count": null,
   "id": "3e59806b",
   "metadata": {},
   "outputs": [],
   "source": []
  },
  {
   "cell_type": "code",
   "execution_count": 35,
   "id": "a5f1d42e",
   "metadata": {},
   "outputs": [],
   "source": [
    "# What is the liquefaction level for the hazard levels that do match? Is there a pattern?\n",
    "mask = (df_merged_seattle_shoreline['hazard_level_match'] == 'Yes')\n",
    "df_merged_seattle_shoreline_matched_hazard = df_merged_seattle_shoreline[mask]"
   ]
  },
  {
   "cell_type": "code",
   "execution_count": 36,
   "id": "f7482a61",
   "metadata": {},
   "outputs": [
    {
     "data": {
      "text/plain": [
       "Site_Liquefaction\n",
       "Moderate to High    4\n",
       "Name: count, dtype: int64"
      ]
     },
     "execution_count": 36,
     "metadata": {},
     "output_type": "execute_result"
    }
   ],
   "source": [
    "# Show liquefaction levels for the hazard levels that matched\n",
    "df_merged_seattle_shoreline_matched_hazard['Site_Liquefaction'].value_counts()"
   ]
  },
  {
   "cell_type": "code",
   "execution_count": 37,
   "id": "8416dcc3",
   "metadata": {},
   "outputs": [
    {
     "data": {
      "text/plain": [
       "Site_Liquefaction\n",
       "Very Low           107\n",
       "Low to Moderate      4\n",
       "Very Low to Low      3\n",
       "Low                  1\n",
       "Name: count, dtype: int64"
      ]
     },
     "execution_count": 37,
     "metadata": {},
     "output_type": "execute_result"
    }
   ],
   "source": [
    "# Show liquefaction levels for the hazard levels that did not match\n",
    "df_merged_seattle_shoreline_unmatched_hazard['Site_Liquefaction'].value_counts()"
   ]
  },
  {
   "cell_type": "code",
   "execution_count": 38,
   "id": "a818ddbc",
   "metadata": {},
   "outputs": [],
   "source": [
    "# The above confirms that when liquefaction is 'Moderate to High', the EPAT earthquake hazard level equals the EPAT\n",
    "# combined hazard level, in this sample. When liquefaction is lower, the hazard level is dropped one level."
   ]
  },
  {
   "cell_type": "code",
   "execution_count": null,
   "id": "943f4c24",
   "metadata": {},
   "outputs": [],
   "source": []
  },
  {
   "cell_type": "code",
   "execution_count": 39,
   "id": "09ee6487",
   "metadata": {},
   "outputs": [],
   "source": [
    "# Comparing hazard levels in the School Seismic Safety Project phase 1 to ICOS also shows the differences."
   ]
  },
  {
   "cell_type": "code",
   "execution_count": 40,
   "id": "08ac3027",
   "metadata": {},
   "outputs": [],
   "source": [
    "import warnings\n",
    "warnings.filterwarnings(\"ignore\")"
   ]
  },
  {
   "cell_type": "code",
   "execution_count": 41,
   "id": "485d0d2b",
   "metadata": {},
   "outputs": [],
   "source": [
    "# DATA SOURCE 2: \n",
    "# School Seismic Safety Project phase 1 engineering reports\n",
    "# https://fortress.wa.gov/dnr/geologydata/school_seismic_safety/SSSP_2019_Engineering_Vol1_Engineering_Report.pdf"
   ]
  },
  {
   "cell_type": "code",
   "execution_count": null,
   "id": "b928ff15",
   "metadata": {},
   "outputs": [],
   "source": [
    "# The SSSP published hazard levels in the phase 1 engineering reports but not in the corresponding tables\n",
    "# in the phase 2 engineering reports, so only phase 1 is included here."
   ]
  },
  {
   "cell_type": "code",
   "execution_count": 42,
   "id": "ef98b581",
   "metadata": {},
   "outputs": [],
   "source": [
    "df_sssp_phase1=pd.read_csv(\"data/sssp_2019_engineering_reports.csv\")"
   ]
  },
  {
   "cell_type": "code",
   "execution_count": 43,
   "id": "3026e2fe",
   "metadata": {},
   "outputs": [],
   "source": [
    "# Create a unique ID column because there are duplicate school names in different districts.\n",
    "df_sssp_phase1['Unique_Identifier'] = df_sssp_phase1['District Name'].\\\n",
    "       astype(str) +\"_\"+ df_sssp_phase1['Facility Name'].astype(str)"
   ]
  },
  {
   "cell_type": "code",
   "execution_count": 44,
   "id": "16dba13b",
   "metadata": {},
   "outputs": [],
   "source": [
    "# Move the unique ID to the first column\n",
    "df_sssp_phase1 = df_sssp_phase1[ ['Unique_Identifier'] + [ col for col in df_sssp_phase1.columns \\\n",
    "                                                          if col != 'Unique_Identifier' ] ]"
   ]
  },
  {
   "cell_type": "code",
   "execution_count": 45,
   "id": "becf07e0",
   "metadata": {},
   "outputs": [
    {
     "name": "stdout",
     "output_type": "stream",
     "text": [
      "<class 'pandas.core.frame.DataFrame'>\n",
      "RangeIndex: 222 entries, 0 to 221\n",
      "Data columns (total 28 columns):\n",
      " #   Column                                          Non-Null Count  Dtype  \n",
      "---  ------                                          --------------  -----  \n",
      " 0   Unique_Identifier                               222 non-null    object \n",
      " 1   District Name                                   222 non-null    object \n",
      " 2   ICOS Facility ID                                222 non-null    int64  \n",
      " 3   Facility Name                                   222 non-null    object \n",
      " 4   ICOS Building ID                                218 non-null    float64\n",
      " 5   Building Name                                   222 non-null    object \n",
      " 6   Enrollment                                      222 non-null    int64  \n",
      " 7   Latitude                                        222 non-null    float64\n",
      " 8   Longitude                                       222 non-null    float64\n",
      " 9   FEMA Construction Type                          222 non-null    object \n",
      " 10  Number of Floors                                221 non-null    float64\n",
      " 11  Gross Sq Ft                                     219 non-null    object \n",
      " 12  Year Built                                      221 non-null    float64\n",
      " 13  Last Major Renovation                           216 non-null    object \n",
      " 14  Did Renovation Include Seismic Upgrades? (Y/N)  124 non-null    object \n",
      " 15  Structural Drawings Available                   222 non-null    object \n",
      " 16  Original Bldg Code Year                         102 non-null    object \n",
      " 17  Original Building  Code                         98 non-null     object \n",
      " 18  PGA 2% in 50 Year (%g)                          214 non-null    object \n",
      " 19  Seismic PGA Class                               218 non-null    float64\n",
      " 20  Mapped Site Class                               214 non-null    object \n",
      " 21  VS30 Site Class                                 222 non-null    object \n",
      " 22  VS30 (m/s)                                      222 non-null    int64  \n",
      " 23  Urban Or Rural                                  219 non-null    object \n",
      " 24  Earthquake Hazard Level                         203 non-null    object \n",
      " 25  Liquefaction Potential                          222 non-null    object \n",
      " 26  Tsunami Risk                                    91 non-null     object \n",
      " 27  Known Or Possible URM                           31 non-null     object \n",
      "dtypes: float64(6), int64(3), object(19)\n",
      "memory usage: 48.7+ KB\n"
     ]
    }
   ],
   "source": [
    "df_sssp_phase1.info()"
   ]
  },
  {
   "cell_type": "code",
   "execution_count": 46,
   "id": "14b72e5c",
   "metadata": {},
   "outputs": [],
   "source": [
    "df_sssp_phase1['Year Built'] = df_sssp_phase1['Year Built'].astype('Int64')"
   ]
  },
  {
   "cell_type": "code",
   "execution_count": 47,
   "id": "e080bdc6",
   "metadata": {},
   "outputs": [],
   "source": [
    "# The following compares hazard levels from the SSSP phase 1 document to the ICOS dataset."
   ]
  },
  {
   "cell_type": "code",
   "execution_count": 48,
   "id": "fe01c6d5",
   "metadata": {},
   "outputs": [],
   "source": [
    "df_sssp_phase1['Earthquake Hazard Level'] = df_sssp_phase1['Earthquake Hazard Level'].fillna('none')"
   ]
  },
  {
   "cell_type": "code",
   "execution_count": 49,
   "id": "543275fb",
   "metadata": {},
   "outputs": [],
   "source": [
    "# Make a smaller dataframe of only school-wide hazard levels to compare with hazard levels in ICOS\n",
    "df_sssp_engineering_small = df_sssp_phase1[['Unique_Identifier', 'Earthquake Hazard Level']].\\\n",
    "         drop_duplicates()"
   ]
  },
  {
   "cell_type": "code",
   "execution_count": 50,
   "id": "59e1b79e",
   "metadata": {},
   "outputs": [],
   "source": [
    "# remove rows with no hazard level with which to compare to ICOS\n",
    "mask = (df_sssp_engineering_small['Earthquake Hazard Level'] != 'none')\n",
    "df_sssp_engineering_small=df_sssp_engineering_small[mask]"
   ]
  },
  {
   "cell_type": "code",
   "execution_count": 51,
   "id": "e1a194bd",
   "metadata": {},
   "outputs": [
    {
     "name": "stdout",
     "output_type": "stream",
     "text": [
      "<class 'pandas.core.frame.DataFrame'>\n",
      "Index: 102 entries, 0 to 217\n",
      "Data columns (total 2 columns):\n",
      " #   Column                   Non-Null Count  Dtype \n",
      "---  ------                   --------------  ----- \n",
      " 0   Unique_Identifier        102 non-null    object\n",
      " 1   Earthquake Hazard Level  102 non-null    object\n",
      "dtypes: object(2)\n",
      "memory usage: 2.4+ KB\n"
     ]
    }
   ],
   "source": [
    "df_sssp_engineering_small.info()"
   ]
  },
  {
   "cell_type": "code",
   "execution_count": 52,
   "id": "aff84cdd",
   "metadata": {},
   "outputs": [
    {
     "data": {
      "text/plain": [
       "(102,)"
      ]
     },
     "execution_count": 52,
     "metadata": {},
     "output_type": "execute_result"
    }
   ],
   "source": [
    "# Make a list of just the unique IDs to search for them in ICOS\n",
    "df_sssp_engineering_ids = df_sssp_engineering_small['Unique_Identifier']\n",
    "df_sssp_engineering_ids.shape"
   ]
  },
  {
   "cell_type": "code",
   "execution_count": 53,
   "id": "4e46cce6",
   "metadata": {},
   "outputs": [],
   "source": [
    "# exclude any schools with newer buildings"
   ]
  },
  {
   "cell_type": "code",
   "execution_count": 54,
   "id": "c35df0bf",
   "metadata": {},
   "outputs": [],
   "source": [
    "df_icos_age = df_icos[['Unique_Identifier', 'Building', 'Building_YearBuilt', 'BuildingArea_YearBuilt']].\\\n",
    "                     drop_duplicates()"
   ]
  },
  {
   "cell_type": "code",
   "execution_count": 55,
   "id": "e01c8329",
   "metadata": {},
   "outputs": [
    {
     "data": {
      "text/plain": [
       "(346, 4)"
      ]
     },
     "execution_count": 55,
     "metadata": {},
     "output_type": "execute_result"
    }
   ],
   "source": [
    "df_hazards_age = df_icos_age[df_icos_age['Unique_Identifier'].isin\\\n",
    "                (df_sssp_engineering_ids)]\n",
    "df_hazards_age.shape"
   ]
  },
  {
   "cell_type": "code",
   "execution_count": 56,
   "id": "4e62c91b",
   "metadata": {},
   "outputs": [
    {
     "data": {
      "text/html": [
       "<div>\n",
       "<style scoped>\n",
       "    .dataframe tbody tr th:only-of-type {\n",
       "        vertical-align: middle;\n",
       "    }\n",
       "\n",
       "    .dataframe tbody tr th {\n",
       "        vertical-align: top;\n",
       "    }\n",
       "\n",
       "    .dataframe thead th {\n",
       "        text-align: right;\n",
       "    }\n",
       "</style>\n",
       "<table border=\"1\" class=\"dataframe\">\n",
       "  <thead>\n",
       "    <tr style=\"text-align: right;\">\n",
       "      <th></th>\n",
       "      <th>Unique_Identifier</th>\n",
       "      <th>Building</th>\n",
       "      <th>Building_YearBuilt</th>\n",
       "      <th>BuildingArea_YearBuilt</th>\n",
       "    </tr>\n",
       "  </thead>\n",
       "  <tbody>\n",
       "    <tr>\n",
       "      <th>4186</th>\n",
       "      <td>Pateros_Pateros K-12 School</td>\n",
       "      <td>Covered Playshed</td>\n",
       "      <td>2021.0</td>\n",
       "      <td>2021.0</td>\n",
       "    </tr>\n",
       "    <tr>\n",
       "      <th>4190</th>\n",
       "      <td>Pateros_Pateros K-12 School</td>\n",
       "      <td>Main Building</td>\n",
       "      <td>1948.0</td>\n",
       "      <td>2022.0</td>\n",
       "    </tr>\n",
       "    <tr>\n",
       "      <th>4300</th>\n",
       "      <td>Port Townsend_Port Townsend High School</td>\n",
       "      <td>Main Building</td>\n",
       "      <td>1934.0</td>\n",
       "      <td>2019.0</td>\n",
       "    </tr>\n",
       "    <tr>\n",
       "      <th>4303</th>\n",
       "      <td>Port Townsend_Port Townsend High School</td>\n",
       "      <td>Math Science Annex</td>\n",
       "      <td>1928.0</td>\n",
       "      <td>2019.0</td>\n",
       "    </tr>\n",
       "    <tr>\n",
       "      <th>5992</th>\n",
       "      <td>Tonasket_Tonasket Elementary School</td>\n",
       "      <td>Tonasket Elementary</td>\n",
       "      <td>1995.0</td>\n",
       "      <td>2021.0</td>\n",
       "    </tr>\n",
       "    <tr>\n",
       "      <th>6065</th>\n",
       "      <td>Tumwater_Black Lake Elementary School</td>\n",
       "      <td>Building A</td>\n",
       "      <td>1982.0</td>\n",
       "      <td>2019.0</td>\n",
       "    </tr>\n",
       "    <tr>\n",
       "      <th>6518</th>\n",
       "      <td>White Salmon Valley_Columbia High School</td>\n",
       "      <td>Multi-purpose</td>\n",
       "      <td>2020.0</td>\n",
       "      <td>2020.0</td>\n",
       "    </tr>\n",
       "    <tr>\n",
       "      <th>6519</th>\n",
       "      <td>White Salmon Valley_Hulan L. Whitson Elementary School</td>\n",
       "      <td>Covered Play</td>\n",
       "      <td>2020.0</td>\n",
       "      <td>2020.0</td>\n",
       "    </tr>\n",
       "  </tbody>\n",
       "</table>\n",
       "</div>"
      ],
      "text/plain": [
       "                                           Unique_Identifier  \\\n",
       "4186                             Pateros_Pateros K-12 School   \n",
       "4190                             Pateros_Pateros K-12 School   \n",
       "4300                 Port Townsend_Port Townsend High School   \n",
       "4303                 Port Townsend_Port Townsend High School   \n",
       "5992                     Tonasket_Tonasket Elementary School   \n",
       "6065                   Tumwater_Black Lake Elementary School   \n",
       "6518                White Salmon Valley_Columbia High School   \n",
       "6519  White Salmon Valley_Hulan L. Whitson Elementary School   \n",
       "\n",
       "                 Building  Building_YearBuilt  BuildingArea_YearBuilt  \n",
       "4186     Covered Playshed              2021.0                  2021.0  \n",
       "4190        Main Building              1948.0                  2022.0  \n",
       "4300        Main Building              1934.0                  2019.0  \n",
       "4303   Math Science Annex              1928.0                  2019.0  \n",
       "5992  Tonasket Elementary              1995.0                  2021.0  \n",
       "6065           Building A              1982.0                  2019.0  \n",
       "6518        Multi-purpose              2020.0                  2020.0  \n",
       "6519         Covered Play              2020.0                  2020.0  "
      ]
     },
     "execution_count": 56,
     "metadata": {},
     "output_type": "execute_result"
    }
   ],
   "source": [
    "mask = (df_hazards_age['Building_YearBuilt'] > 2017) | \\\n",
    "(df_hazards_age['BuildingArea_YearBuilt'] > 2017)\n",
    "df_hazards_age_new = df_hazards_age[mask]\n",
    "df_hazards_age_new\n",
    "# Exclude these buildings in the comparison in case the new construction was in a different location than the\n",
    "# older buildings that were assessed in the SSSP, which could change their ground hazard level. \n",
    "# Some of these schools have other older buildings still in the data."
   ]
  },
  {
   "cell_type": "code",
   "execution_count": 57,
   "id": "ce154ae5",
   "metadata": {},
   "outputs": [],
   "source": [
    "# pull hazard levels from ICOS to compare with SSSP hazard levels\n",
    "df_icos_hazard = df_icos[['Unique_Identifier', 'Site_EQHazardLevel']].drop_duplicates()"
   ]
  },
  {
   "cell_type": "code",
   "execution_count": 58,
   "id": "2fccd3d7",
   "metadata": {},
   "outputs": [],
   "source": [
    "df_hazards = df_icos_hazard[df_icos_hazard['Unique_Identifier'].isin\\\n",
    "                (df_sssp_engineering_ids)]"
   ]
  },
  {
   "cell_type": "code",
   "execution_count": 59,
   "id": "915ead67",
   "metadata": {},
   "outputs": [],
   "source": [
    "df_merged_hazards = df_hazards.merge(df_sssp_engineering_small, how = 'left', on = ['Unique_Identifier'])"
   ]
  },
  {
   "cell_type": "code",
   "execution_count": 60,
   "id": "927455be",
   "metadata": {},
   "outputs": [
    {
     "name": "stdout",
     "output_type": "stream",
     "text": [
      "<class 'pandas.core.frame.DataFrame'>\n",
      "RangeIndex: 98 entries, 0 to 97\n",
      "Data columns (total 3 columns):\n",
      " #   Column                   Non-Null Count  Dtype \n",
      "---  ------                   --------------  ----- \n",
      " 0   Unique_Identifier        98 non-null     object\n",
      " 1   Site_EQHazardLevel       98 non-null     object\n",
      " 2   Earthquake Hazard Level  98 non-null     object\n",
      "dtypes: object(3)\n",
      "memory usage: 2.4+ KB\n"
     ]
    }
   ],
   "source": [
    "df_merged_hazards.info()"
   ]
  },
  {
   "cell_type": "code",
   "execution_count": 61,
   "id": "9bad7477",
   "metadata": {},
   "outputs": [],
   "source": [
    "df_merged_hazards.rename(columns={'Site_EQHazardLevel': 'ICOS hazard level', 'Earthquake Hazard Level': \\\n",
    "                                  'SSSP hazard level'}, inplace=True)"
   ]
  },
  {
   "cell_type": "code",
   "execution_count": 62,
   "id": "55fc9fdb",
   "metadata": {},
   "outputs": [
    {
     "data": {
      "text/plain": [
       "SSSP hazard level  ICOS hazard level\n",
       "Moderate           Low                  22\n",
       "Very High          High                 20\n",
       "High               Moderate             16\n",
       "                   High                 14\n",
       "Extremely High     Very High             8\n",
       "Moderate to High   Moderate              8\n",
       "                   High                  6\n",
       "Very High          Moderate              2\n",
       "Extremely High     High                  1\n",
       "Very High          Very High             1\n",
       "Name: count, dtype: int64"
      ]
     },
     "execution_count": 62,
     "metadata": {},
     "output_type": "execute_result"
    }
   ],
   "source": [
    "df_merged_hazards[['SSSP hazard level', 'ICOS hazard level']].value_counts()\n",
    "# Out of 98 schools with hazard levels listed in both the ICOS dataset and the School Seismic Safety Project,\n",
    "# ICOS has lower hazard levels than the SSSP for 69 schools. "
   ]
  }
 ],
 "metadata": {
  "kernelspec": {
   "display_name": "Python 3 (ipykernel)",
   "language": "python",
   "name": "python3"
  },
  "language_info": {
   "codemirror_mode": {
    "name": "ipython",
    "version": 3
   },
   "file_extension": ".py",
   "mimetype": "text/x-python",
   "name": "python",
   "nbconvert_exporter": "python",
   "pygments_lexer": "ipython3",
   "version": "3.10.11"
  }
 },
 "nbformat": 4,
 "nbformat_minor": 5
}
