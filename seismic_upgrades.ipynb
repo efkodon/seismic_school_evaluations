{
 "cells": [
  {
   "cell_type": "code",
   "execution_count": 1,
   "id": "9330de8e",
   "metadata": {},
   "outputs": [],
   "source": [
    "import pandas as pd\n",
    "import seaborn as sns\n",
    "import numpy as np\n",
    "from numpy import nan"
   ]
  },
  {
   "cell_type": "code",
   "execution_count": 2,
   "id": "72956191",
   "metadata": {},
   "outputs": [],
   "source": [
    "pd.set_option('display.max_columns', None)\n",
    "pd.set_option('display.max_rows', None)\n",
    "pd.set_option('display.width', None)\n",
    "pd.set_option('display.max_colwidth', None)\n",
    "pd.set_option('max_seq_item', None)"
   ]
  },
  {
   "cell_type": "code",
   "execution_count": 7,
   "id": "e37c9d97",
   "metadata": {},
   "outputs": [],
   "source": [
    "# DATA SOURCE: INFORMATION AND CONDITION OF SCHOOLS (ICOS), Pre-Disaster Mitigation module\n",
    "# Data received from WA Office of Superintendent of Public Instruction (OSPI), 8/14/24, via public records request.\n",
    "# https://www.k12.wa.us/policy-funding/school-buildings-facilities/information-and-condition-schools-icos\n",
    "df_icos_original=pd.read_csv(\"data/df_icos_clean_8.14.24.csv\")"
   ]
  },
  {
   "cell_type": "code",
   "execution_count": 8,
   "id": "dea6f7c8",
   "metadata": {},
   "outputs": [],
   "source": [
    "# Copy the data and work with the copy.\n",
    "df_icos = df_icos_original"
   ]
  },
  {
   "cell_type": "code",
   "execution_count": 9,
   "id": "4069226d",
   "metadata": {},
   "outputs": [],
   "source": [
    "df_icos['Building_YearBuilt'] = df_icos['Building_YearBuilt'].astype('Int64')\n",
    "df_icos['BuildingArea_YearBuilt'] = df_icos['BuildingArea_YearBuilt'].astype('Int64')"
   ]
  },
  {
   "cell_type": "code",
   "execution_count": 10,
   "id": "92073212",
   "metadata": {},
   "outputs": [],
   "source": [
    "df_icos_small = df_icos[['District', 'Site', 'Building', 'Building_YearBuilt', \\\n",
    "                         'BuildingArea_YearBuilt', 'BuildingArea_CodeYear', \\\n",
    "                         'BuildingArea_HasRetrofit']].drop_duplicates()"
   ]
  },
  {
   "cell_type": "code",
   "execution_count": 11,
   "id": "d8bce108",
   "metadata": {},
   "outputs": [
    {
     "data": {
      "text/plain": [
       "(6165, 7)"
      ]
     },
     "execution_count": 11,
     "metadata": {},
     "output_type": "execute_result"
    }
   ],
   "source": [
    "df_icos_small.shape"
   ]
  },
  {
   "cell_type": "code",
   "execution_count": null,
   "id": "fe8bd529",
   "metadata": {},
   "outputs": [],
   "source": []
  },
  {
   "cell_type": "code",
   "execution_count": 12,
   "id": "d3d3686f",
   "metadata": {},
   "outputs": [],
   "source": [
    "# Were seismic upgrades that were identified in the SSSP phase 1 incorporated into ICOS?"
   ]
  },
  {
   "cell_type": "code",
   "execution_count": 13,
   "id": "668af851",
   "metadata": {},
   "outputs": [],
   "source": [
    "# DATA SOURCE 2: SCHOOL SEISMIC SAFETY PROJECT phase 1 engineering reports\n",
    "# https://fortress.wa.gov/dnr/geologydata/school_seismic_safety/SSSP_2019_Engineering_Vol1_Engineering_Report.pdf"
   ]
  },
  {
   "cell_type": "code",
   "execution_count": 111,
   "id": "c7a271e7",
   "metadata": {},
   "outputs": [],
   "source": [
    "df_sssp_phase1=pd.read_csv(\"data/sssp_2019_engineering_reports.csv\")"
   ]
  },
  {
   "cell_type": "code",
   "execution_count": 112,
   "id": "c3da3054",
   "metadata": {},
   "outputs": [],
   "source": [
    "# Create a unique ID column because there are duplicate school names in different districts.\n",
    "df_sssp_phase1['Unique_Identifier'] = df_sssp_phase1['District Name'].\\\n",
    "       astype(str) +\"_\"+ df_sssp_phase1['Facility Name'].astype(str)"
   ]
  },
  {
   "cell_type": "code",
   "execution_count": 113,
   "id": "2fed6e4d",
   "metadata": {},
   "outputs": [],
   "source": [
    "# Move the unique ID to the first column\n",
    "df_sssp_phase1 = df_sssp_phase1[ ['Unique_Identifier'] + [ col for col in df_sssp_phase1.columns \\\n",
    "                                                          if col != 'Unique_Identifier' ] ]"
   ]
  },
  {
   "cell_type": "code",
   "execution_count": 114,
   "id": "26585859",
   "metadata": {},
   "outputs": [
    {
     "name": "stdout",
     "output_type": "stream",
     "text": [
      "<class 'pandas.core.frame.DataFrame'>\n",
      "RangeIndex: 222 entries, 0 to 221\n",
      "Data columns (total 28 columns):\n",
      " #   Column                                          Non-Null Count  Dtype  \n",
      "---  ------                                          --------------  -----  \n",
      " 0   Unique_Identifier                               222 non-null    object \n",
      " 1   District Name                                   222 non-null    object \n",
      " 2   ICOS Facility ID                                222 non-null    int64  \n",
      " 3   Facility Name                                   222 non-null    object \n",
      " 4   ICOS Building ID                                218 non-null    float64\n",
      " 5   Building Name                                   222 non-null    object \n",
      " 6   Enrollment                                      222 non-null    int64  \n",
      " 7   Latitude                                        222 non-null    float64\n",
      " 8   Longitude                                       222 non-null    float64\n",
      " 9   FEMA Construction Type                          222 non-null    object \n",
      " 10  Number of Floors                                221 non-null    float64\n",
      " 11  Gross Sq Ft                                     219 non-null    object \n",
      " 12  Year Built                                      221 non-null    float64\n",
      " 13  Last Major Renovation                           216 non-null    object \n",
      " 14  Did Renovation Include Seismic Upgrades? (Y/N)  124 non-null    object \n",
      " 15  Structural Drawings Available                   222 non-null    object \n",
      " 16  Original Bldg Code Year                         102 non-null    object \n",
      " 17  Original Building  Code                         98 non-null     object \n",
      " 18  PGA 2% in 50 Year (%g)                          214 non-null    object \n",
      " 19  Seismic PGA Class                               218 non-null    float64\n",
      " 20  Mapped Site Class                               214 non-null    object \n",
      " 21  VS30 Site Class                                 222 non-null    object \n",
      " 22  VS30 (m/s)                                      222 non-null    int64  \n",
      " 23  Urban Or Rural                                  219 non-null    object \n",
      " 24  Earthquake Hazard Level                         203 non-null    object \n",
      " 25  Liquefaction Potential                          222 non-null    object \n",
      " 26  Tsunami Risk                                    91 non-null     object \n",
      " 27  Known Or Possible URM                           31 non-null     object \n",
      "dtypes: float64(6), int64(3), object(19)\n",
      "memory usage: 48.7+ KB\n"
     ]
    }
   ],
   "source": [
    "df_sssp_phase1.info()"
   ]
  },
  {
   "cell_type": "code",
   "execution_count": 115,
   "id": "e5aaffe8",
   "metadata": {},
   "outputs": [],
   "source": [
    "df_sssp_phase1['Year Built'] = df_sssp_phase1['Year Built'].astype('Int64')"
   ]
  },
  {
   "cell_type": "code",
   "execution_count": 116,
   "id": "4457b312",
   "metadata": {},
   "outputs": [],
   "source": [
    "df_sssp_phase1_upgrade = df_sssp_phase1[['District Name', 'Facility Name', 'Building Name', \\\n",
    "             'Year Built', 'Last Major Renovation', 'Did Renovation Include Seismic Upgrades? (Y/N)']]"
   ]
  },
  {
   "cell_type": "code",
   "execution_count": 117,
   "id": "68e9b51a",
   "metadata": {},
   "outputs": [
    {
     "data": {
      "text/plain": [
       "Did Renovation Include Seismic Upgrades? (Y/N)\n",
       "No         79\n",
       "Yes        25\n",
       "Unknown    20\n",
       "Name: count, dtype: int64"
      ]
     },
     "execution_count": 117,
     "metadata": {},
     "output_type": "execute_result"
    }
   ],
   "source": [
    "df_sssp_phase1_upgrade['Did Renovation Include Seismic Upgrades? (Y/N)'].value_counts()"
   ]
  },
  {
   "cell_type": "code",
   "execution_count": 118,
   "id": "e4621fb3",
   "metadata": {},
   "outputs": [],
   "source": [
    "mask = (df_sssp_phase1_upgrade['Did Renovation Include Seismic Upgrades? (Y/N)'] == 'Yes')\n",
    "df_sssp_phase1_upgrade_2 = df_sssp_phase1_upgrade[mask]"
   ]
  },
  {
   "cell_type": "code",
   "execution_count": 119,
   "id": "78fb0ac4",
   "metadata": {},
   "outputs": [
    {
     "data": {
      "text/plain": [
       "Did Renovation Include Seismic Upgrades? (Y/N)\n",
       "Yes    25\n",
       "Name: count, dtype: int64"
      ]
     },
     "execution_count": 119,
     "metadata": {},
     "output_type": "execute_result"
    }
   ],
   "source": [
    "df_sssp_phase1_upgrade_2['Did Renovation Include Seismic Upgrades? (Y/N)'].value_counts()\n",
    "# Phase 1 evaluations in the SSSP identified 25 buildings with prior seismic upgrades"
   ]
  },
  {
   "cell_type": "code",
   "execution_count": 120,
   "id": "339eac17",
   "metadata": {},
   "outputs": [],
   "source": [
    "df_sssp_phase1_upgrade_2 = df_sssp_phase1_upgrade_2.rename(columns={'District Name': 'District', \\\n",
    "                          'Facility Name': 'Site', 'Building Name': 'Building'})"
   ]
  },
  {
   "cell_type": "code",
   "execution_count": 121,
   "id": "30997e39",
   "metadata": {},
   "outputs": [],
   "source": [
    "# Edit name variations in the SSSP list to match ICOS for merging\n",
    "df_sssp_phase1_upgrade_2['Site'] = df_sssp_phase1_upgrade_2['Site'].replace\\\n",
    "          ([\"Clallam Bay High and Elementary School\"], \"Clallam Bay K-12 School\")"
   ]
  },
  {
   "cell_type": "code",
   "execution_count": 122,
   "id": "09621539",
   "metadata": {},
   "outputs": [],
   "source": [
    "df_sssp_phase1_upgrade_2.drop([212], axis=0, inplace=True)\n",
    "#drop one row that has a blank for last renovation"
   ]
  },
  {
   "cell_type": "code",
   "execution_count": 123,
   "id": "9d59aa39",
   "metadata": {},
   "outputs": [
    {
     "data": {
      "text/plain": [
       "(24, 6)"
      ]
     },
     "execution_count": 123,
     "metadata": {},
     "output_type": "execute_result"
    }
   ],
   "source": [
    "df_sssp_phase1_upgrade_2.shape"
   ]
  },
  {
   "cell_type": "code",
   "execution_count": 124,
   "id": "29050988",
   "metadata": {},
   "outputs": [],
   "source": [
    "# create an ID for each building\n",
    "df_sssp_phase1_upgrade_2['building_id'] =  df_sssp_phase1_upgrade_2.groupby([\"District\", \"Site\", \\\n",
    "                                                                             \"Building\"]).ngroup()"
   ]
  },
  {
   "cell_type": "code",
   "execution_count": 125,
   "id": "d10db6f4",
   "metadata": {},
   "outputs": [],
   "source": [
    "# Move the building ID to the first column\n",
    "df_sssp_phase1_upgrade_2 = df_sssp_phase1_upgrade_2[ ['building_id'] + [ col for col in \\\n",
    "                                   df_sssp_phase1_upgrade_2.columns if col != 'building_id' ] ]"
   ]
  },
  {
   "cell_type": "code",
   "execution_count": 126,
   "id": "dcf81e00",
   "metadata": {},
   "outputs": [
    {
     "data": {
      "text/plain": [
       "24"
      ]
     },
     "execution_count": 126,
     "metadata": {},
     "output_type": "execute_result"
    }
   ],
   "source": [
    "df_sssp_phase1_upgrade_2['building_id'].nunique()"
   ]
  },
  {
   "cell_type": "code",
   "execution_count": 127,
   "id": "144e2ea2",
   "metadata": {},
   "outputs": [],
   "source": [
    "# Merge these rows with ICOS rows\n",
    "df_sssp_phase1_merge = df_sssp_phase1_upgrade_2.merge(df_icos_small, how = 'inner', on = \\\n",
    "                                                      ['District', 'Site', 'Building'])"
   ]
  },
  {
   "cell_type": "code",
   "execution_count": 128,
   "id": "c14c4ea5",
   "metadata": {},
   "outputs": [],
   "source": [
    "df_sssp_phase1_merge.rename(columns={'building_id': 'building_id', 'Year Built': 'Year Built (SSSP)', 'Last Major Renovation': \\\n",
    "                                  'Last Major Renovation (SSSP)', \\\n",
    "                                  'Did Renovation Include Seismic Upgrades? (Y/N)': \\\n",
    "                                  'Did Renovation Include Seismic Upgrades? (Y/N) (SSSP)', \\\n",
    "                                  'Building_YearBuilt': 'Building_YearBuilt (ICOS)', \\\n",
    "                                  'BuildingArea_YearBuilt': 'BuildingArea_YearBuilt (ICOS)', \\\n",
    "                                  'BuildingArea_CodeYear': 'BuildingArea_CodeYear (ICOS)', \\\n",
    "                                  'BuildingArea_HasRetrofit': 'BuildingArea_HasRetrofit (ICOS)'}, inplace=True)"
   ]
  },
  {
   "cell_type": "code",
   "execution_count": 129,
   "id": "e40442e6",
   "metadata": {},
   "outputs": [
    {
     "data": {
      "text/plain": [
       "(33, 11)"
      ]
     },
     "execution_count": 129,
     "metadata": {},
     "output_type": "execute_result"
    }
   ],
   "source": [
    "df_sssp_phase1_merge.shape # the 24 buildings in the SSSP matched to 33 rows in ICOS because some buildings\n",
    "# have more than one \"building area\" row."
   ]
  },
  {
   "cell_type": "code",
   "execution_count": 130,
   "id": "a77d4ae8",
   "metadata": {},
   "outputs": [],
   "source": [
    "df_sssp_phase1_merge['Last Major Renovation (SSSP)'] = df_sssp_phase1_merge['Last Major Renovation (SSSP)']\\\n",
    "              .astype('Int64')"
   ]
  },
  {
   "cell_type": "code",
   "execution_count": 131,
   "id": "c1770a71",
   "metadata": {},
   "outputs": [
    {
     "data": {
      "text/plain": [
       "Did Renovation Include Seismic Upgrades? (Y/N) (SSSP)\n",
       "Yes    33\n",
       "Name: count, dtype: int64"
      ]
     },
     "execution_count": 131,
     "metadata": {},
     "output_type": "execute_result"
    }
   ],
   "source": [
    "df_sssp_phase1_merge['Did Renovation Include Seismic Upgrades? (Y/N) (SSSP)'].value_counts()\n",
    "# All of these buildings have a seismic upgrade in the SSSP data"
   ]
  },
  {
   "cell_type": "code",
   "execution_count": 132,
   "id": "5f91ab28",
   "metadata": {},
   "outputs": [
    {
     "data": {
      "text/plain": [
       "BuildingArea_HasRetrofit (ICOS)\n",
       "No    33\n",
       "Name: count, dtype: int64"
      ]
     },
     "execution_count": 132,
     "metadata": {},
     "output_type": "execute_result"
    }
   ],
   "source": [
    "df_sssp_phase1_merge['BuildingArea_HasRetrofit (ICOS)'].value_counts()\n",
    "# But none of the building areas for the 24 buildings shows a retrofit in the ICOS data"
   ]
  },
  {
   "cell_type": "code",
   "execution_count": 140,
   "id": "9e841a6f",
   "metadata": {},
   "outputs": [
    {
     "data": {
      "text/html": [
       "<div>\n",
       "<style scoped>\n",
       "    .dataframe tbody tr th:only-of-type {\n",
       "        vertical-align: middle;\n",
       "    }\n",
       "\n",
       "    .dataframe tbody tr th {\n",
       "        vertical-align: top;\n",
       "    }\n",
       "\n",
       "    .dataframe thead th {\n",
       "        text-align: right;\n",
       "    }\n",
       "</style>\n",
       "<table border=\"1\" class=\"dataframe\">\n",
       "  <thead>\n",
       "    <tr style=\"text-align: right;\">\n",
       "      <th></th>\n",
       "      <th>building_id</th>\n",
       "      <th>District</th>\n",
       "      <th>Site</th>\n",
       "      <th>Building</th>\n",
       "      <th>Did Renovation Include Seismic Upgrades? (Y/N) (SSSP)</th>\n",
       "      <th>BuildingArea_HasRetrofit (ICOS)</th>\n",
       "    </tr>\n",
       "  </thead>\n",
       "  <tbody>\n",
       "    <tr>\n",
       "      <th>0</th>\n",
       "      <td>0</td>\n",
       "      <td>Cape Flattery</td>\n",
       "      <td>Clallam Bay K-12 School</td>\n",
       "      <td>Elementary Building</td>\n",
       "      <td>Yes</td>\n",
       "      <td>No</td>\n",
       "    </tr>\n",
       "    <tr>\n",
       "      <th>1</th>\n",
       "      <td>1</td>\n",
       "      <td>Creston</td>\n",
       "      <td>Creston Junior Senior High School</td>\n",
       "      <td>Creston K-12 School Building</td>\n",
       "      <td>Yes</td>\n",
       "      <td>No</td>\n",
       "    </tr>\n",
       "    <tr>\n",
       "      <th>3</th>\n",
       "      <td>2</td>\n",
       "      <td>Darrington</td>\n",
       "      <td>Darrington Senior High School</td>\n",
       "      <td>Darrington High School</td>\n",
       "      <td>Yes</td>\n",
       "      <td>No</td>\n",
       "    </tr>\n",
       "    <tr>\n",
       "      <th>5</th>\n",
       "      <td>3</td>\n",
       "      <td>Evaline</td>\n",
       "      <td>Evaline Elementary School</td>\n",
       "      <td>Main Building</td>\n",
       "      <td>Yes</td>\n",
       "      <td>No</td>\n",
       "    </tr>\n",
       "    <tr>\n",
       "      <th>7</th>\n",
       "      <td>4</td>\n",
       "      <td>Fife</td>\n",
       "      <td>Fife High School</td>\n",
       "      <td>Building IV 400 Library</td>\n",
       "      <td>Yes</td>\n",
       "      <td>No</td>\n",
       "    </tr>\n",
       "    <tr>\n",
       "      <th>8</th>\n",
       "      <td>5</td>\n",
       "      <td>Fife</td>\n",
       "      <td>Fife High School</td>\n",
       "      <td>Building IX 900 Science</td>\n",
       "      <td>Yes</td>\n",
       "      <td>No</td>\n",
       "    </tr>\n",
       "    <tr>\n",
       "      <th>9</th>\n",
       "      <td>6</td>\n",
       "      <td>Fife</td>\n",
       "      <td>Fife High School</td>\n",
       "      <td>Building V 500 Main</td>\n",
       "      <td>Yes</td>\n",
       "      <td>No</td>\n",
       "    </tr>\n",
       "    <tr>\n",
       "      <th>10</th>\n",
       "      <td>7</td>\n",
       "      <td>Fife</td>\n",
       "      <td>Fife High School</td>\n",
       "      <td>Building VI 600 Gyms</td>\n",
       "      <td>Yes</td>\n",
       "      <td>No</td>\n",
       "    </tr>\n",
       "    <tr>\n",
       "      <th>11</th>\n",
       "      <td>8</td>\n",
       "      <td>Fife</td>\n",
       "      <td>Fife High School</td>\n",
       "      <td>Building VII 700 Cafeteria</td>\n",
       "      <td>Yes</td>\n",
       "      <td>No</td>\n",
       "    </tr>\n",
       "    <tr>\n",
       "      <th>12</th>\n",
       "      <td>9</td>\n",
       "      <td>Fife</td>\n",
       "      <td>Fife High School</td>\n",
       "      <td>Building VIII 800 Shop</td>\n",
       "      <td>Yes</td>\n",
       "      <td>No</td>\n",
       "    </tr>\n",
       "    <tr>\n",
       "      <th>13</th>\n",
       "      <td>10</td>\n",
       "      <td>La Conner</td>\n",
       "      <td>La Conner High School</td>\n",
       "      <td>High School Auditorium</td>\n",
       "      <td>Yes</td>\n",
       "      <td>No</td>\n",
       "    </tr>\n",
       "    <tr>\n",
       "      <th>14</th>\n",
       "      <td>11</td>\n",
       "      <td>Ocean Beach</td>\n",
       "      <td>Ilwaco (Hilltop) Middle School</td>\n",
       "      <td>Auditorium</td>\n",
       "      <td>Yes</td>\n",
       "      <td>No</td>\n",
       "    </tr>\n",
       "    <tr>\n",
       "      <th>15</th>\n",
       "      <td>12</td>\n",
       "      <td>Ocean Beach</td>\n",
       "      <td>Ilwaco (Hilltop) Middle School</td>\n",
       "      <td>Main Building</td>\n",
       "      <td>Yes</td>\n",
       "      <td>No</td>\n",
       "    </tr>\n",
       "    <tr>\n",
       "      <th>18</th>\n",
       "      <td>13</td>\n",
       "      <td>Pasco</td>\n",
       "      <td>Edwin Markham Elementary School</td>\n",
       "      <td>Main Building</td>\n",
       "      <td>Yes</td>\n",
       "      <td>No</td>\n",
       "    </tr>\n",
       "    <tr>\n",
       "      <th>19</th>\n",
       "      <td>14</td>\n",
       "      <td>Paterson</td>\n",
       "      <td>Paterson Elementary School</td>\n",
       "      <td>Main Building</td>\n",
       "      <td>Yes</td>\n",
       "      <td>No</td>\n",
       "    </tr>\n",
       "    <tr>\n",
       "      <th>21</th>\n",
       "      <td>15</td>\n",
       "      <td>Puyallup</td>\n",
       "      <td>Maplewood Elementary School</td>\n",
       "      <td>Main Building</td>\n",
       "      <td>Yes</td>\n",
       "      <td>No</td>\n",
       "    </tr>\n",
       "    <tr>\n",
       "      <th>22</th>\n",
       "      <td>17</td>\n",
       "      <td>Puyallup</td>\n",
       "      <td>Puyallup High School</td>\n",
       "      <td>Library Science Building</td>\n",
       "      <td>Yes</td>\n",
       "      <td>No</td>\n",
       "    </tr>\n",
       "    <tr>\n",
       "      <th>23</th>\n",
       "      <td>18</td>\n",
       "      <td>Puyallup</td>\n",
       "      <td>Puyallup High School</td>\n",
       "      <td>Main Building</td>\n",
       "      <td>Yes</td>\n",
       "      <td>No</td>\n",
       "    </tr>\n",
       "    <tr>\n",
       "      <th>24</th>\n",
       "      <td>19</td>\n",
       "      <td>Puyallup</td>\n",
       "      <td>Spinning Elementary School</td>\n",
       "      <td>Main Building</td>\n",
       "      <td>Yes</td>\n",
       "      <td>No</td>\n",
       "    </tr>\n",
       "    <tr>\n",
       "      <th>25</th>\n",
       "      <td>20</td>\n",
       "      <td>South Bend</td>\n",
       "      <td>South Bend Jr/Sr High School</td>\n",
       "      <td>Koplitz Field House</td>\n",
       "      <td>Yes</td>\n",
       "      <td>No</td>\n",
       "    </tr>\n",
       "    <tr>\n",
       "      <th>27</th>\n",
       "      <td>21</td>\n",
       "      <td>Tacoma</td>\n",
       "      <td>Fern Hill Elementary School</td>\n",
       "      <td>Main Building</td>\n",
       "      <td>Yes</td>\n",
       "      <td>No</td>\n",
       "    </tr>\n",
       "    <tr>\n",
       "      <th>29</th>\n",
       "      <td>22</td>\n",
       "      <td>Washougal</td>\n",
       "      <td>Hathaway Elementary School</td>\n",
       "      <td>Main Building</td>\n",
       "      <td>Yes</td>\n",
       "      <td>No</td>\n",
       "    </tr>\n",
       "    <tr>\n",
       "      <th>31</th>\n",
       "      <td>23</td>\n",
       "      <td>White Pass</td>\n",
       "      <td>White Pass Elementary School</td>\n",
       "      <td>Main Building</td>\n",
       "      <td>Yes</td>\n",
       "      <td>No</td>\n",
       "    </tr>\n",
       "  </tbody>\n",
       "</table>\n",
       "</div>"
      ],
      "text/plain": [
       "    building_id       District                               Site  \\\n",
       "0             0  Cape Flattery            Clallam Bay K-12 School   \n",
       "1             1        Creston  Creston Junior Senior High School   \n",
       "3             2     Darrington      Darrington Senior High School   \n",
       "5             3        Evaline          Evaline Elementary School   \n",
       "7             4           Fife                   Fife High School   \n",
       "8             5           Fife                   Fife High School   \n",
       "9             6           Fife                   Fife High School   \n",
       "10            7           Fife                   Fife High School   \n",
       "11            8           Fife                   Fife High School   \n",
       "12            9           Fife                   Fife High School   \n",
       "13           10      La Conner              La Conner High School   \n",
       "14           11    Ocean Beach     Ilwaco (Hilltop) Middle School   \n",
       "15           12    Ocean Beach     Ilwaco (Hilltop) Middle School   \n",
       "18           13          Pasco    Edwin Markham Elementary School   \n",
       "19           14       Paterson         Paterson Elementary School   \n",
       "21           15       Puyallup        Maplewood Elementary School   \n",
       "22           17       Puyallup               Puyallup High School   \n",
       "23           18       Puyallup               Puyallup High School   \n",
       "24           19       Puyallup         Spinning Elementary School   \n",
       "25           20     South Bend       South Bend Jr/Sr High School   \n",
       "27           21         Tacoma        Fern Hill Elementary School   \n",
       "29           22      Washougal         Hathaway Elementary School   \n",
       "31           23     White Pass       White Pass Elementary School   \n",
       "\n",
       "                        Building  \\\n",
       "0            Elementary Building   \n",
       "1   Creston K-12 School Building   \n",
       "3         Darrington High School   \n",
       "5                  Main Building   \n",
       "7        Building IV 400 Library   \n",
       "8        Building IX 900 Science   \n",
       "9            Building V 500 Main   \n",
       "10          Building VI 600 Gyms   \n",
       "11    Building VII 700 Cafeteria   \n",
       "12        Building VIII 800 Shop   \n",
       "13        High School Auditorium   \n",
       "14                    Auditorium   \n",
       "15                 Main Building   \n",
       "18                 Main Building   \n",
       "19                 Main Building   \n",
       "21                 Main Building   \n",
       "22      Library Science Building   \n",
       "23                 Main Building   \n",
       "24                 Main Building   \n",
       "25           Koplitz Field House   \n",
       "27                 Main Building   \n",
       "29                 Main Building   \n",
       "31                 Main Building   \n",
       "\n",
       "   Did Renovation Include Seismic Upgrades? (Y/N) (SSSP)  \\\n",
       "0                                                    Yes   \n",
       "1                                                    Yes   \n",
       "3                                                    Yes   \n",
       "5                                                    Yes   \n",
       "7                                                    Yes   \n",
       "8                                                    Yes   \n",
       "9                                                    Yes   \n",
       "10                                                   Yes   \n",
       "11                                                   Yes   \n",
       "12                                                   Yes   \n",
       "13                                                   Yes   \n",
       "14                                                   Yes   \n",
       "15                                                   Yes   \n",
       "18                                                   Yes   \n",
       "19                                                   Yes   \n",
       "21                                                   Yes   \n",
       "22                                                   Yes   \n",
       "23                                                   Yes   \n",
       "24                                                   Yes   \n",
       "25                                                   Yes   \n",
       "27                                                   Yes   \n",
       "29                                                   Yes   \n",
       "31                                                   Yes   \n",
       "\n",
       "   BuildingArea_HasRetrofit (ICOS)  \n",
       "0                               No  \n",
       "1                               No  \n",
       "3                               No  \n",
       "5                               No  \n",
       "7                               No  \n",
       "8                               No  \n",
       "9                               No  \n",
       "10                              No  \n",
       "11                              No  \n",
       "12                              No  \n",
       "13                              No  \n",
       "14                              No  \n",
       "15                              No  \n",
       "18                              No  \n",
       "19                              No  \n",
       "21                              No  \n",
       "22                              No  \n",
       "23                              No  \n",
       "24                              No  \n",
       "25                              No  \n",
       "27                              No  \n",
       "29                              No  \n",
       "31                              No  "
      ]
     },
     "execution_count": 140,
     "metadata": {},
     "output_type": "execute_result"
    }
   ],
   "source": [
    "df_sssp_phase1_merge[['building_id', 'District', 'Site', 'Building', \\\n",
    "                      'Did Renovation Include Seismic Upgrades? (Y/N) (SSSP)', \\\n",
    "                      'BuildingArea_HasRetrofit (ICOS)']].drop_duplicates()"
   ]
  },
  {
   "cell_type": "code",
   "execution_count": 141,
   "id": "bf15dc83",
   "metadata": {},
   "outputs": [],
   "source": [
    "# Since the seismic upgrades were part of renovations, does ICOS show newer building areas for these buildings\n",
    "# that match the renovation year to reflect the renovation that way?\n",
    "df_sssp_phase1_merge['year_difference'] = df_sssp_phase1_merge['Last Major Renovation (SSSP)'] - \\\n",
    "             (df_sssp_phase1_merge['BuildingArea_YearBuilt (ICOS)'])"
   ]
  },
  {
   "cell_type": "code",
   "execution_count": null,
   "id": "15d6ef74",
   "metadata": {},
   "outputs": [],
   "source": [
    "# Does the renovation year in ICOS come around the same time as the renovation listed in the SSSP phase 1,\n",
    "# such as no more than 2-3 years apart?"
   ]
  },
  {
   "cell_type": "code",
   "execution_count": 142,
   "id": "b1112082",
   "metadata": {},
   "outputs": [],
   "source": [
    "df_sssp_phase1_merge.loc[df_sssp_phase1_merge['year_difference'] > 2, 'upgrade_recorded'] = \"no\" "
   ]
  },
  {
   "cell_type": "code",
   "execution_count": 143,
   "id": "4b822afa",
   "metadata": {},
   "outputs": [],
   "source": [
    "df_sssp_phase1_merge.loc[df_sssp_phase1_merge['year_difference'] < 3, 'upgrade_recorded'] = \"yes\" "
   ]
  },
  {
   "cell_type": "code",
   "execution_count": 144,
   "id": "1624278d",
   "metadata": {},
   "outputs": [],
   "source": [
    "df_sssp_phase1_merge = df_sssp_phase1_merge.reindex(['building_id', 'District', 'Site', 'Building', \\\n",
    "                       'upgrade_recorded', 'Year Built (SSSP)', 'Last Major Renovation (SSSP)', \\\n",
    "                       'Building_YearBuilt (ICOS)', 'BuildingArea_YearBuilt (ICOS)', \\\n",
    "                       'BuildingArea_CodeYear (ICOS)', 'BuildingArea_HasRetrofit (ICOS)', \\\n",
    "                       'year_difference'], axis=1)"
   ]
  },
  {
   "cell_type": "code",
   "execution_count": 145,
   "id": "7fbe5e1b",
   "metadata": {},
   "outputs": [],
   "source": [
    "# Remove any buildings with a recorded upgrade for any row\n",
    "mask = (df_sssp_phase1_merge['upgrade_recorded'] == 'yes')\n",
    "df_sssp_phase1_upgardes_recorded = df_sssp_phase1_merge[mask]"
   ]
  },
  {
   "cell_type": "code",
   "execution_count": 146,
   "id": "9858a47d",
   "metadata": {},
   "outputs": [],
   "source": [
    "df_sssp_phase1_upgrades_recorded_ids = df_sssp_phase1_upgrades_recorded['building_id']"
   ]
  },
  {
   "cell_type": "code",
   "execution_count": 147,
   "id": "ee15f629",
   "metadata": {},
   "outputs": [
    {
     "data": {
      "text/plain": [
       "(8,)"
      ]
     },
     "execution_count": 147,
     "metadata": {},
     "output_type": "execute_result"
    }
   ],
   "source": [
    "df_sssp_phase1_upgrades_recorded_ids.shape"
   ]
  },
  {
   "cell_type": "code",
   "execution_count": 148,
   "id": "585e7bb7",
   "metadata": {},
   "outputs": [],
   "source": [
    "df_sssp_phase1_upgrade_missing = df_sssp_phase1_merge[~df_sssp_phase1_merge['building_id'].isin\\\n",
    "                                                                 (df_sssp_phase1_upgrades_recorded_ids)]"
   ]
  },
  {
   "cell_type": "code",
   "execution_count": 149,
   "id": "aefd0ee1",
   "metadata": {},
   "outputs": [
    {
     "data": {
      "text/plain": [
       "15"
      ]
     },
     "execution_count": 149,
     "metadata": {},
     "output_type": "execute_result"
    }
   ],
   "source": [
    "df_sssp_phase1_upgrade_missing['building_id'].nunique()"
   ]
  },
  {
   "cell_type": "code",
   "execution_count": 150,
   "id": "8befe5d3",
   "metadata": {},
   "outputs": [
    {
     "data": {
      "text/html": [
       "<div>\n",
       "<style scoped>\n",
       "    .dataframe tbody tr th:only-of-type {\n",
       "        vertical-align: middle;\n",
       "    }\n",
       "\n",
       "    .dataframe tbody tr th {\n",
       "        vertical-align: top;\n",
       "    }\n",
       "\n",
       "    .dataframe thead th {\n",
       "        text-align: right;\n",
       "    }\n",
       "</style>\n",
       "<table border=\"1\" class=\"dataframe\">\n",
       "  <thead>\n",
       "    <tr style=\"text-align: right;\">\n",
       "      <th></th>\n",
       "      <th>building_id</th>\n",
       "      <th>District</th>\n",
       "      <th>Site</th>\n",
       "      <th>Building</th>\n",
       "      <th>upgrade_recorded</th>\n",
       "      <th>Year Built (SSSP)</th>\n",
       "      <th>Last Major Renovation (SSSP)</th>\n",
       "      <th>Building_YearBuilt (ICOS)</th>\n",
       "      <th>BuildingArea_YearBuilt (ICOS)</th>\n",
       "      <th>BuildingArea_CodeYear (ICOS)</th>\n",
       "      <th>BuildingArea_HasRetrofit (ICOS)</th>\n",
       "      <th>year_difference</th>\n",
       "    </tr>\n",
       "  </thead>\n",
       "  <tbody>\n",
       "    <tr>\n",
       "      <th>0</th>\n",
       "      <td>0</td>\n",
       "      <td>Cape Flattery</td>\n",
       "      <td>Clallam Bay K-12 School</td>\n",
       "      <td>Elementary Building</td>\n",
       "      <td>no</td>\n",
       "      <td>1962</td>\n",
       "      <td>2006</td>\n",
       "      <td>1962</td>\n",
       "      <td>1962</td>\n",
       "      <td>&lt;1973</td>\n",
       "      <td>No</td>\n",
       "      <td>44</td>\n",
       "    </tr>\n",
       "    <tr>\n",
       "      <th>7</th>\n",
       "      <td>4</td>\n",
       "      <td>Fife</td>\n",
       "      <td>Fife High School</td>\n",
       "      <td>Building IV 400 Library</td>\n",
       "      <td>no</td>\n",
       "      <td>1950</td>\n",
       "      <td>1975</td>\n",
       "      <td>1950</td>\n",
       "      <td>1950</td>\n",
       "      <td>&lt;1973</td>\n",
       "      <td>No</td>\n",
       "      <td>25</td>\n",
       "    </tr>\n",
       "    <tr>\n",
       "      <th>8</th>\n",
       "      <td>5</td>\n",
       "      <td>Fife</td>\n",
       "      <td>Fife High School</td>\n",
       "      <td>Building IX 900 Science</td>\n",
       "      <td>no</td>\n",
       "      <td>1970</td>\n",
       "      <td>1992</td>\n",
       "      <td>1970</td>\n",
       "      <td>1970</td>\n",
       "      <td>&lt;1973</td>\n",
       "      <td>No</td>\n",
       "      <td>22</td>\n",
       "    </tr>\n",
       "    <tr>\n",
       "      <th>9</th>\n",
       "      <td>6</td>\n",
       "      <td>Fife</td>\n",
       "      <td>Fife High School</td>\n",
       "      <td>Building V 500 Main</td>\n",
       "      <td>no</td>\n",
       "      <td>1950</td>\n",
       "      <td>1992</td>\n",
       "      <td>1950</td>\n",
       "      <td>1950</td>\n",
       "      <td>&lt;1973</td>\n",
       "      <td>No</td>\n",
       "      <td>42</td>\n",
       "    </tr>\n",
       "    <tr>\n",
       "      <th>10</th>\n",
       "      <td>7</td>\n",
       "      <td>Fife</td>\n",
       "      <td>Fife High School</td>\n",
       "      <td>Building VI 600 Gyms</td>\n",
       "      <td>no</td>\n",
       "      <td>1956</td>\n",
       "      <td>1992</td>\n",
       "      <td>1956</td>\n",
       "      <td>1956</td>\n",
       "      <td>&lt;1973</td>\n",
       "      <td>No</td>\n",
       "      <td>36</td>\n",
       "    </tr>\n",
       "    <tr>\n",
       "      <th>11</th>\n",
       "      <td>8</td>\n",
       "      <td>Fife</td>\n",
       "      <td>Fife High School</td>\n",
       "      <td>Building VII 700 Cafeteria</td>\n",
       "      <td>no</td>\n",
       "      <td>1963</td>\n",
       "      <td>1992</td>\n",
       "      <td>1963</td>\n",
       "      <td>1963</td>\n",
       "      <td>&lt;1973</td>\n",
       "      <td>No</td>\n",
       "      <td>29</td>\n",
       "    </tr>\n",
       "    <tr>\n",
       "      <th>12</th>\n",
       "      <td>9</td>\n",
       "      <td>Fife</td>\n",
       "      <td>Fife High School</td>\n",
       "      <td>Building VIII 800 Shop</td>\n",
       "      <td>no</td>\n",
       "      <td>1963</td>\n",
       "      <td>1992</td>\n",
       "      <td>1963</td>\n",
       "      <td>1963</td>\n",
       "      <td>&lt;1973</td>\n",
       "      <td>No</td>\n",
       "      <td>29</td>\n",
       "    </tr>\n",
       "    <tr>\n",
       "      <th>13</th>\n",
       "      <td>10</td>\n",
       "      <td>La Conner</td>\n",
       "      <td>La Conner High School</td>\n",
       "      <td>High School Auditorium</td>\n",
       "      <td>no</td>\n",
       "      <td>1921</td>\n",
       "      <td>2003</td>\n",
       "      <td>1921</td>\n",
       "      <td>1921</td>\n",
       "      <td>&lt;1973</td>\n",
       "      <td>No</td>\n",
       "      <td>82</td>\n",
       "    </tr>\n",
       "    <tr>\n",
       "      <th>14</th>\n",
       "      <td>11</td>\n",
       "      <td>Ocean Beach</td>\n",
       "      <td>Ilwaco (Hilltop) Middle School</td>\n",
       "      <td>Auditorium</td>\n",
       "      <td>no</td>\n",
       "      <td>1936</td>\n",
       "      <td>2007</td>\n",
       "      <td>1936</td>\n",
       "      <td>1936</td>\n",
       "      <td>&lt;1973</td>\n",
       "      <td>No</td>\n",
       "      <td>71</td>\n",
       "    </tr>\n",
       "    <tr>\n",
       "      <th>18</th>\n",
       "      <td>13</td>\n",
       "      <td>Pasco</td>\n",
       "      <td>Edwin Markham Elementary School</td>\n",
       "      <td>Main Building</td>\n",
       "      <td>no</td>\n",
       "      <td>1962</td>\n",
       "      <td>1984</td>\n",
       "      <td>1962</td>\n",
       "      <td>1962</td>\n",
       "      <td>&lt;1973</td>\n",
       "      <td>No</td>\n",
       "      <td>22</td>\n",
       "    </tr>\n",
       "    <tr>\n",
       "      <th>19</th>\n",
       "      <td>14</td>\n",
       "      <td>Paterson</td>\n",
       "      <td>Paterson Elementary School</td>\n",
       "      <td>Main Building</td>\n",
       "      <td>no</td>\n",
       "      <td>1968</td>\n",
       "      <td>2003</td>\n",
       "      <td>1968</td>\n",
       "      <td>1995</td>\n",
       "      <td>Unknown</td>\n",
       "      <td>No</td>\n",
       "      <td>8</td>\n",
       "    </tr>\n",
       "    <tr>\n",
       "      <th>20</th>\n",
       "      <td>14</td>\n",
       "      <td>Paterson</td>\n",
       "      <td>Paterson Elementary School</td>\n",
       "      <td>Main Building</td>\n",
       "      <td>no</td>\n",
       "      <td>1968</td>\n",
       "      <td>2003</td>\n",
       "      <td>1968</td>\n",
       "      <td>1968</td>\n",
       "      <td>&lt;1973</td>\n",
       "      <td>No</td>\n",
       "      <td>35</td>\n",
       "    </tr>\n",
       "    <tr>\n",
       "      <th>21</th>\n",
       "      <td>15</td>\n",
       "      <td>Puyallup</td>\n",
       "      <td>Maplewood Elementary School</td>\n",
       "      <td>Main Building</td>\n",
       "      <td>no</td>\n",
       "      <td>1934</td>\n",
       "      <td>1998</td>\n",
       "      <td>1934</td>\n",
       "      <td>1934</td>\n",
       "      <td>&lt;1973</td>\n",
       "      <td>No</td>\n",
       "      <td>64</td>\n",
       "    </tr>\n",
       "    <tr>\n",
       "      <th>22</th>\n",
       "      <td>17</td>\n",
       "      <td>Puyallup</td>\n",
       "      <td>Puyallup High School</td>\n",
       "      <td>Library Science Building</td>\n",
       "      <td>no</td>\n",
       "      <td>1962</td>\n",
       "      <td>1986</td>\n",
       "      <td>1962</td>\n",
       "      <td>1962</td>\n",
       "      <td>&lt;1973</td>\n",
       "      <td>No</td>\n",
       "      <td>24</td>\n",
       "    </tr>\n",
       "    <tr>\n",
       "      <th>23</th>\n",
       "      <td>18</td>\n",
       "      <td>Puyallup</td>\n",
       "      <td>Puyallup High School</td>\n",
       "      <td>Main Building</td>\n",
       "      <td>no</td>\n",
       "      <td>1927</td>\n",
       "      <td>1995</td>\n",
       "      <td>1927</td>\n",
       "      <td>1927</td>\n",
       "      <td>&lt;1973</td>\n",
       "      <td>No</td>\n",
       "      <td>68</td>\n",
       "    </tr>\n",
       "    <tr>\n",
       "      <th>24</th>\n",
       "      <td>19</td>\n",
       "      <td>Puyallup</td>\n",
       "      <td>Spinning Elementary School</td>\n",
       "      <td>Main Building</td>\n",
       "      <td>no</td>\n",
       "      <td>1890</td>\n",
       "      <td>1985</td>\n",
       "      <td>1890</td>\n",
       "      <td>1890</td>\n",
       "      <td>&lt;1973</td>\n",
       "      <td>No</td>\n",
       "      <td>95</td>\n",
       "    </tr>\n",
       "  </tbody>\n",
       "</table>\n",
       "</div>"
      ],
      "text/plain": [
       "    building_id       District                             Site  \\\n",
       "0             0  Cape Flattery          Clallam Bay K-12 School   \n",
       "7             4           Fife                 Fife High School   \n",
       "8             5           Fife                 Fife High School   \n",
       "9             6           Fife                 Fife High School   \n",
       "10            7           Fife                 Fife High School   \n",
       "11            8           Fife                 Fife High School   \n",
       "12            9           Fife                 Fife High School   \n",
       "13           10      La Conner            La Conner High School   \n",
       "14           11    Ocean Beach   Ilwaco (Hilltop) Middle School   \n",
       "18           13          Pasco  Edwin Markham Elementary School   \n",
       "19           14       Paterson       Paterson Elementary School   \n",
       "20           14       Paterson       Paterson Elementary School   \n",
       "21           15       Puyallup      Maplewood Elementary School   \n",
       "22           17       Puyallup             Puyallup High School   \n",
       "23           18       Puyallup             Puyallup High School   \n",
       "24           19       Puyallup       Spinning Elementary School   \n",
       "\n",
       "                      Building upgrade_recorded  Year Built (SSSP)  \\\n",
       "0          Elementary Building               no               1962   \n",
       "7      Building IV 400 Library               no               1950   \n",
       "8      Building IX 900 Science               no               1970   \n",
       "9          Building V 500 Main               no               1950   \n",
       "10        Building VI 600 Gyms               no               1956   \n",
       "11  Building VII 700 Cafeteria               no               1963   \n",
       "12      Building VIII 800 Shop               no               1963   \n",
       "13      High School Auditorium               no               1921   \n",
       "14                  Auditorium               no               1936   \n",
       "18               Main Building               no               1962   \n",
       "19               Main Building               no               1968   \n",
       "20               Main Building               no               1968   \n",
       "21               Main Building               no               1934   \n",
       "22    Library Science Building               no               1962   \n",
       "23               Main Building               no               1927   \n",
       "24               Main Building               no               1890   \n",
       "\n",
       "    Last Major Renovation (SSSP)  Building_YearBuilt (ICOS)  \\\n",
       "0                           2006                       1962   \n",
       "7                           1975                       1950   \n",
       "8                           1992                       1970   \n",
       "9                           1992                       1950   \n",
       "10                          1992                       1956   \n",
       "11                          1992                       1963   \n",
       "12                          1992                       1963   \n",
       "13                          2003                       1921   \n",
       "14                          2007                       1936   \n",
       "18                          1984                       1962   \n",
       "19                          2003                       1968   \n",
       "20                          2003                       1968   \n",
       "21                          1998                       1934   \n",
       "22                          1986                       1962   \n",
       "23                          1995                       1927   \n",
       "24                          1985                       1890   \n",
       "\n",
       "    BuildingArea_YearBuilt (ICOS) BuildingArea_CodeYear (ICOS)  \\\n",
       "0                            1962                        <1973   \n",
       "7                            1950                        <1973   \n",
       "8                            1970                        <1973   \n",
       "9                            1950                        <1973   \n",
       "10                           1956                        <1973   \n",
       "11                           1963                        <1973   \n",
       "12                           1963                        <1973   \n",
       "13                           1921                        <1973   \n",
       "14                           1936                        <1973   \n",
       "18                           1962                        <1973   \n",
       "19                           1995                      Unknown   \n",
       "20                           1968                        <1973   \n",
       "21                           1934                        <1973   \n",
       "22                           1962                        <1973   \n",
       "23                           1927                        <1973   \n",
       "24                           1890                        <1973   \n",
       "\n",
       "   BuildingArea_HasRetrofit (ICOS)  year_difference  \n",
       "0                               No               44  \n",
       "7                               No               25  \n",
       "8                               No               22  \n",
       "9                               No               42  \n",
       "10                              No               36  \n",
       "11                              No               29  \n",
       "12                              No               29  \n",
       "13                              No               82  \n",
       "14                              No               71  \n",
       "18                              No               22  \n",
       "19                              No                8  \n",
       "20                              No               35  \n",
       "21                              No               64  \n",
       "22                              No               24  \n",
       "23                              No               68  \n",
       "24                              No               95  "
      ]
     },
     "execution_count": 150,
     "metadata": {},
     "output_type": "execute_result"
    }
   ],
   "source": [
    "df_sssp_phase1_upgrade_missing\n",
    "# These 15 buildings do not have a newer building area recorded around the same time as the renovation listed\n",
    "# by the SSSP. The code years also do not show a renovation bringing the buildings up to a more recent code."
   ]
  },
  {
   "cell_type": "code",
   "execution_count": 46,
   "id": "7ddd3314",
   "metadata": {},
   "outputs": [],
   "source": [
    "# Out of 24 buildings in the SSSP phase 1 that are marked as having a prior seismic upgrade with a renovation year\n",
    "# included, 0 buildings have a retrofit in ICOS, and 15 buildings have no recent build year or code upgrade to \n",
    "# reflect a renovation around the years notes in the SSSP."
   ]
  },
  {
   "cell_type": "code",
   "execution_count": null,
   "id": "8baca921",
   "metadata": {},
   "outputs": [],
   "source": []
  },
  {
   "cell_type": "code",
   "execution_count": 47,
   "id": "63a9a97b",
   "metadata": {},
   "outputs": [],
   "source": [
    "# Were seismic upgrades that were identified in the SSSP phase 2 incorporated into ICOS?"
   ]
  },
  {
   "cell_type": "code",
   "execution_count": 284,
   "id": "a096cec3",
   "metadata": {},
   "outputs": [],
   "source": [
    "# DATA SOURCE 3: SCHOOL SEISMIC SAFETY PROJECT phase 2 engineering reports\n",
    "# https://fortress.wa.gov/dnr/geologydata/school_seismic_safety/phase2/SSSP_2021_Engineering_Vol1_Seismic_Assessment_Report.pdf\n",
    "df_sssp_phase2=pd.read_csv(\"data/sssp_2021_engineering_reports.csv\")"
   ]
  },
  {
   "cell_type": "code",
   "execution_count": 285,
   "id": "6c3b2584",
   "metadata": {},
   "outputs": [],
   "source": [
    "# Create a unique ID column because there are duplicate school names in different districts.\n",
    "df_sssp_phase2['Unique_Identifier'] = df_sssp_phase2['District Name'].\\\n",
    "       astype(str) +\"_\"+ df_sssp_phase2['Site Name'].astype(str)"
   ]
  },
  {
   "cell_type": "code",
   "execution_count": 286,
   "id": "fbf26d06",
   "metadata": {},
   "outputs": [],
   "source": [
    "# Move the unique ID to the first column\n",
    "df_sssp_phase2 = df_sssp_phase2[ ['Unique_Identifier'] + [ col for col in df_sssp_phase2.columns \\\n",
    "                                                          if col != 'Unique_Identifier' ] ]"
   ]
  },
  {
   "cell_type": "code",
   "execution_count": 287,
   "id": "f3ea83a5",
   "metadata": {},
   "outputs": [
    {
     "name": "stdout",
     "output_type": "stream",
     "text": [
      "<class 'pandas.core.frame.DataFrame'>\n",
      "RangeIndex: 338 entries, 0 to 337\n",
      "Data columns (total 21 columns):\n",
      " #   Column                                         Non-Null Count  Dtype  \n",
      "---  ------                                         --------------  -----  \n",
      " 0   Unique_Identifier                              338 non-null    object \n",
      " 1   District Name                                  338 non-null    object \n",
      " 2   ICOS Site ID                                   338 non-null    int64  \n",
      " 3   Site Name                                      338 non-null    object \n",
      " 4   ICOS Bldg ID.No.                               338 non-null    int64  \n",
      " 5   Building Name                                  338 non-null    object \n",
      " 6   Latitude                                       338 non-null    float64\n",
      " 7   Longitude                                      338 non-null    float64\n",
      " 8   FEMA Const. Type                               338 non-null    object \n",
      " 9   Year Built                                     338 non-null    int64  \n",
      " 10  Last Renovation                                119 non-null    float64\n",
      " 11  Gross Area (SF)                                337 non-null    object \n",
      " 12  No. of Floors                                  338 non-null    int64  \n",
      " 13  Structural Drawings Avail? (Yes, No, Partial)  338 non-null    object \n",
      " 14  Has Had Structural Upgrade?                    338 non-null    object \n",
      " 15  Year of Structural Upgrade                     35 non-null     float64\n",
      " 16  Tsunami Risk                                   338 non-null    object \n",
      " 17  Vs30 Measured Site Class                       338 non-null    object \n",
      " 18  Vs30 (m/s)                                     337 non-null    float64\n",
      " 19  Sds, BSE-1N (g)                                338 non-null    float64\n",
      " 20  ASCE 41 Tier 1 Assessed By                     169 non-null    object \n",
      "dtypes: float64(6), int64(4), object(11)\n",
      "memory usage: 55.6+ KB\n"
     ]
    }
   ],
   "source": [
    "df_sssp_phase2.info()"
   ]
  },
  {
   "cell_type": "code",
   "execution_count": 288,
   "id": "4f9e37b7",
   "metadata": {},
   "outputs": [],
   "source": [
    "df_sssp_phase2 = df_sssp_phase2.rename(columns={'District Name': 'District', \\\n",
    "                          'Site Name': 'Site', 'Building Name': 'Building'})"
   ]
  },
  {
   "cell_type": "code",
   "execution_count": 289,
   "id": "fd205677",
   "metadata": {},
   "outputs": [],
   "source": [
    "# Edit name variations in the SSSP list to match ICOS for merging\n",
    "df_sssp_phase2['Building'] = df_sssp_phase2['Building'].replace\\\n",
    "                          ([\"Main Building - Classrooms\"], \"Main Building\")\n",
    "df_sssp_phase2['Building'] = df_sssp_phase2['Building'].replace\\\n",
    "                         ([\"High School 100 Bldg A -\\rNorth Wing\"], \"High School 100 A building\")\n",
    "df_sssp_phase2['Building'] = df_sssp_phase2['Building'].replace\\\n",
    "                       ([\"High School 100 Bldg A -\\rSouth Wing\"], \"High School 100 A building\")\n",
    "df_sssp_phase2['Site'] = df_sssp_phase2['Site'].replace([\"Southern Heights\\rElementary School\"], \\\n",
    "                                                          \"Southern Heights Elementary School\")\n",
    "df_sssp_phase2['Building'] = df_sssp_phase2['Building'].replace\\\n",
    "                      ([\"Building 2 -\\rClassrooms/Kitchen\"], \"Building 2 - Classrooms/Kitchen\")\n",
    "df_sssp_phase2['Site'] = df_sssp_phase2['Site'].replace([\"Oak Harbor Middle School\"], \\\n",
    "                                                          \"Oak Harbor Intermediate School\")\n",
    "df_sssp_phase2['Building'] = df_sssp_phase2['Building'].replace\\\n",
    "                    ([\"Gymnasium\"], \"Gym/Gym Add/Boiler - AA Areas 1,2,3,4\")\n",
    "df_sssp_phase2['Building'] = df_sssp_phase2['Building'].replace\\\n",
    "                    ([\"Cafeteria/Gym\"], \"Cafeteria/Gym - AA Areas 24-28\")\n",
    "df_sssp_phase2['Site'] = df_sssp_phase2['Site'].replace\\\n",
    "               ([\"South Whidbey Grades 5 & 6 -\\r(Formerly S. Whid. Primary)\"], \\\n",
    "                \"South Whidbey High School/Middle School Campus\")"
   ]
  },
  {
   "cell_type": "code",
   "execution_count": 290,
   "id": "a7dd2f5d",
   "metadata": {},
   "outputs": [],
   "source": [
    "df_sssp_phase2['Year of Structural Upgrade'] = df_sssp_phase2['Year of Structural Upgrade'].\\\n",
    "        astype('Int64')"
   ]
  },
  {
   "cell_type": "code",
   "execution_count": 291,
   "id": "cb7f9618",
   "metadata": {},
   "outputs": [],
   "source": [
    "df_sssp_phase2['Last Renovation'] = df_sssp_phase2['Last Renovation'].\\\n",
    "        astype('Int64')"
   ]
  },
  {
   "cell_type": "code",
   "execution_count": 292,
   "id": "f4654d37",
   "metadata": {},
   "outputs": [],
   "source": [
    "df_sssp_phase2_small = df_sssp_phase2[['District', 'Site', 'Building', \\\n",
    "             'Year Built', 'Last Renovation', 'Has Had Structural Upgrade?', 'Year of Structural Upgrade']]"
   ]
  },
  {
   "cell_type": "code",
   "execution_count": 293,
   "id": "05fda839",
   "metadata": {},
   "outputs": [
    {
     "data": {
      "text/plain": [
       "Has Had Structural Upgrade?\n",
       "No     304\n",
       "Yes     34\n",
       "Name: count, dtype: int64"
      ]
     },
     "execution_count": 293,
     "metadata": {},
     "output_type": "execute_result"
    }
   ],
   "source": [
    "df_sssp_phase2_small['Has Had Structural Upgrade?'].value_counts()"
   ]
  },
  {
   "cell_type": "code",
   "execution_count": 294,
   "id": "97345775",
   "metadata": {},
   "outputs": [],
   "source": [
    "mask = (df_sssp_phase2_small['Has Had Structural Upgrade?'] == 'Yes')\n",
    "df_sssp_phase2_upgrade = df_sssp_phase2_small[mask]"
   ]
  },
  {
   "cell_type": "code",
   "execution_count": 295,
   "id": "338c167c",
   "metadata": {},
   "outputs": [
    {
     "data": {
      "text/plain": [
       "(34, 7)"
      ]
     },
     "execution_count": 295,
     "metadata": {},
     "output_type": "execute_result"
    }
   ],
   "source": [
    "df_sssp_phase2_upgrade.shape"
   ]
  },
  {
   "cell_type": "code",
   "execution_count": 324,
   "id": "157b6aa1",
   "metadata": {},
   "outputs": [],
   "source": [
    "import warnings\n",
    "warnings.filterwarnings(\"ignore\")"
   ]
  },
  {
   "cell_type": "code",
   "execution_count": 325,
   "id": "1cecabf2",
   "metadata": {},
   "outputs": [],
   "source": [
    "df_sssp_phase2_upgrade['building_id'] =  df_sssp_phase2_upgrade.groupby([\"District\", \"Site\", \"Building\"]).ngroup()"
   ]
  },
  {
   "cell_type": "code",
   "execution_count": 297,
   "id": "f0eb6fd5",
   "metadata": {},
   "outputs": [
    {
     "data": {
      "text/plain": [
       "33"
      ]
     },
     "execution_count": 297,
     "metadata": {},
     "output_type": "execute_result"
    }
   ],
   "source": [
    "df_sssp_phase2_upgrade['building_id'].nunique() "
   ]
  },
  {
   "cell_type": "code",
   "execution_count": 298,
   "id": "0240fd85",
   "metadata": {},
   "outputs": [],
   "source": [
    "# Move the building ID to the first column\n",
    "df_sssp_phase2_upgrade = df_sssp_phase2_upgrade[ ['building_id'] + [ col for col in \\\n",
    "                                   df_sssp_phase2_upgrade.columns if col != 'building_id' ] ]"
   ]
  },
  {
   "cell_type": "code",
   "execution_count": 299,
   "id": "f114b9bc",
   "metadata": {},
   "outputs": [],
   "source": [
    "# Merge these rows with ICOS rows\n",
    "df_sssp_phase2_merge = df_sssp_phase2_upgrade.merge(df_icos_small, how = 'inner', on = \\\n",
    "                                                      ['District', 'Site', 'Building'])"
   ]
  },
  {
   "cell_type": "code",
   "execution_count": 300,
   "id": "b3f4ac19",
   "metadata": {},
   "outputs": [],
   "source": [
    "df_sssp_phase2_merge.rename(columns={'Year Built': 'Year Built (SSSP)', 'Last Renovation': \\\n",
    "                                  'Last Renovation (SSSP)', 'Year of Structural Upgrade': \\\n",
    "                                  'Year of Structural Upgrade (SSSP)', 'Building_YearBuilt': \\\n",
    "                                  'Building_YearBuilt (ICOS)', 'BuildingArea_YearBuilt': \\\n",
    "                                  'BuildingArea_YearBuilt (ICOS)', 'BuildingArea_CodeYear': \\\n",
    "                                  'BuildingArea_CodeYear (ICOS)',  'BuildingArea_HasRetrofit': \\\n",
    "                                  'BuildingArea_HasRetrofit (ICOS)'}, inplace=True)"
   ]
  },
  {
   "cell_type": "code",
   "execution_count": 301,
   "id": "375f9007",
   "metadata": {},
   "outputs": [
    {
     "data": {
      "text/plain": [
       "BuildingArea_HasRetrofit (ICOS)\n",
       "No            36\n",
       "Structural     8\n",
       "Name: count, dtype: int64"
      ]
     },
     "execution_count": 301,
     "metadata": {},
     "output_type": "execute_result"
    }
   ],
   "source": [
    "df_sssp_phase2_merge['BuildingArea_HasRetrofit (ICOS)'].value_counts()"
   ]
  },
  {
   "cell_type": "code",
   "execution_count": 302,
   "id": "2f01c2db",
   "metadata": {},
   "outputs": [
    {
     "data": {
      "text/plain": [
       "21"
      ]
     },
     "execution_count": 302,
     "metadata": {},
     "output_type": "execute_result"
    }
   ],
   "source": [
    "mask = (df_sssp_phase2_merge['BuildingArea_HasRetrofit (ICOS)'] == \"No\")\n",
    "df_sssp_phase2_no_retrofit = df_sssp_phase2_merge[mask]\n",
    "df_sssp_phase2_no_retrofit['building_id'].nunique()\n",
    "# 21 out of 33 buildings with seismic upgrades recorded in phase 2 of the SSSP have no retrofits listed."
   ]
  },
  {
   "cell_type": "code",
   "execution_count": 303,
   "id": "d98c2133",
   "metadata": {},
   "outputs": [
    {
     "data": {
      "text/html": [
       "<div>\n",
       "<style scoped>\n",
       "    .dataframe tbody tr th:only-of-type {\n",
       "        vertical-align: middle;\n",
       "    }\n",
       "\n",
       "    .dataframe tbody tr th {\n",
       "        vertical-align: top;\n",
       "    }\n",
       "\n",
       "    .dataframe thead th {\n",
       "        text-align: right;\n",
       "    }\n",
       "</style>\n",
       "<table border=\"1\" class=\"dataframe\">\n",
       "  <thead>\n",
       "    <tr style=\"text-align: right;\">\n",
       "      <th></th>\n",
       "      <th>building_id</th>\n",
       "      <th>District</th>\n",
       "      <th>Site</th>\n",
       "      <th>Has Had Structural Upgrade?</th>\n",
       "      <th>BuildingArea_HasRetrofit (ICOS)</th>\n",
       "    </tr>\n",
       "  </thead>\n",
       "  <tbody>\n",
       "    <tr>\n",
       "      <th>0</th>\n",
       "      <td>0</td>\n",
       "      <td>Aberdeen</td>\n",
       "      <td>A.J. West Elementary School</td>\n",
       "      <td>Yes</td>\n",
       "      <td>No</td>\n",
       "    </tr>\n",
       "    <tr>\n",
       "      <th>1</th>\n",
       "      <td>1</td>\n",
       "      <td>Aberdeen</td>\n",
       "      <td>A.J. West Elementary School</td>\n",
       "      <td>Yes</td>\n",
       "      <td>No</td>\n",
       "    </tr>\n",
       "    <tr>\n",
       "      <th>4</th>\n",
       "      <td>3</td>\n",
       "      <td>Bainbridge Island</td>\n",
       "      <td>Bainbridge High School</td>\n",
       "      <td>Yes</td>\n",
       "      <td>No</td>\n",
       "    </tr>\n",
       "    <tr>\n",
       "      <th>6</th>\n",
       "      <td>4</td>\n",
       "      <td>Bellingham</td>\n",
       "      <td>Fairhaven Middle School</td>\n",
       "      <td>Yes</td>\n",
       "      <td>No</td>\n",
       "    </tr>\n",
       "    <tr>\n",
       "      <th>7</th>\n",
       "      <td>6</td>\n",
       "      <td>Central Kitsap</td>\n",
       "      <td>Cottonwood Elementary School</td>\n",
       "      <td>Yes</td>\n",
       "      <td>No</td>\n",
       "    </tr>\n",
       "    <tr>\n",
       "      <th>10</th>\n",
       "      <td>7</td>\n",
       "      <td>Chimacum</td>\n",
       "      <td>Chimacum High School</td>\n",
       "      <td>Yes</td>\n",
       "      <td>No</td>\n",
       "    </tr>\n",
       "    <tr>\n",
       "      <th>14</th>\n",
       "      <td>8</td>\n",
       "      <td>Chimacum</td>\n",
       "      <td>Chimacum Middle School</td>\n",
       "      <td>Yes</td>\n",
       "      <td>No</td>\n",
       "    </tr>\n",
       "    <tr>\n",
       "      <th>18</th>\n",
       "      <td>11</td>\n",
       "      <td>Ferndale</td>\n",
       "      <td>Central Elementary School</td>\n",
       "      <td>Yes</td>\n",
       "      <td>No</td>\n",
       "    </tr>\n",
       "    <tr>\n",
       "      <th>23</th>\n",
       "      <td>12</td>\n",
       "      <td>Highline</td>\n",
       "      <td>Southern Heights Elementary School</td>\n",
       "      <td>Yes</td>\n",
       "      <td>No</td>\n",
       "    </tr>\n",
       "    <tr>\n",
       "      <th>24</th>\n",
       "      <td>13</td>\n",
       "      <td>Highline</td>\n",
       "      <td>Southern Heights Elementary School</td>\n",
       "      <td>Yes</td>\n",
       "      <td>No</td>\n",
       "    </tr>\n",
       "    <tr>\n",
       "      <th>25</th>\n",
       "      <td>14</td>\n",
       "      <td>Marysville</td>\n",
       "      <td>Cascade Elementary School</td>\n",
       "      <td>Yes</td>\n",
       "      <td>No</td>\n",
       "    </tr>\n",
       "    <tr>\n",
       "      <th>26</th>\n",
       "      <td>15</td>\n",
       "      <td>Marysville</td>\n",
       "      <td>Cascade Elementary School</td>\n",
       "      <td>Yes</td>\n",
       "      <td>No</td>\n",
       "    </tr>\n",
       "    <tr>\n",
       "      <th>27</th>\n",
       "      <td>16</td>\n",
       "      <td>Marysville</td>\n",
       "      <td>Cascade Elementary School</td>\n",
       "      <td>Yes</td>\n",
       "      <td>No</td>\n",
       "    </tr>\n",
       "    <tr>\n",
       "      <th>28</th>\n",
       "      <td>17</td>\n",
       "      <td>Northshore</td>\n",
       "      <td>Crystal Springs Elementary School</td>\n",
       "      <td>Yes</td>\n",
       "      <td>No</td>\n",
       "    </tr>\n",
       "    <tr>\n",
       "      <th>30</th>\n",
       "      <td>18</td>\n",
       "      <td>Northshore</td>\n",
       "      <td>Crystal Springs Elementary School</td>\n",
       "      <td>Yes</td>\n",
       "      <td>No</td>\n",
       "    </tr>\n",
       "    <tr>\n",
       "      <th>32</th>\n",
       "      <td>19</td>\n",
       "      <td>Northshore</td>\n",
       "      <td>Crystal Springs Elementary School</td>\n",
       "      <td>Yes</td>\n",
       "      <td>No</td>\n",
       "    </tr>\n",
       "    <tr>\n",
       "      <th>33</th>\n",
       "      <td>20</td>\n",
       "      <td>Northshore</td>\n",
       "      <td>Crystal Springs Elementary School</td>\n",
       "      <td>Yes</td>\n",
       "      <td>No</td>\n",
       "    </tr>\n",
       "    <tr>\n",
       "      <th>36</th>\n",
       "      <td>23</td>\n",
       "      <td>Oak Harbor</td>\n",
       "      <td>Oak Harbor Intermediate School</td>\n",
       "      <td>Yes</td>\n",
       "      <td>No</td>\n",
       "    </tr>\n",
       "    <tr>\n",
       "      <th>38</th>\n",
       "      <td>25</td>\n",
       "      <td>Puyallup</td>\n",
       "      <td>Waller Road Elementary School</td>\n",
       "      <td>Yes</td>\n",
       "      <td>No</td>\n",
       "    </tr>\n",
       "    <tr>\n",
       "      <th>39</th>\n",
       "      <td>26</td>\n",
       "      <td>Renton</td>\n",
       "      <td>Lindbergh Senior High School</td>\n",
       "      <td>Yes</td>\n",
       "      <td>No</td>\n",
       "    </tr>\n",
       "    <tr>\n",
       "      <th>41</th>\n",
       "      <td>27</td>\n",
       "      <td>Renton</td>\n",
       "      <td>Renton Senior High School</td>\n",
       "      <td>Yes</td>\n",
       "      <td>No</td>\n",
       "    </tr>\n",
       "  </tbody>\n",
       "</table>\n",
       "</div>"
      ],
      "text/plain": [
       "    building_id           District                                Site  \\\n",
       "0             0           Aberdeen         A.J. West Elementary School   \n",
       "1             1           Aberdeen         A.J. West Elementary School   \n",
       "4             3  Bainbridge Island              Bainbridge High School   \n",
       "6             4         Bellingham             Fairhaven Middle School   \n",
       "7             6     Central Kitsap        Cottonwood Elementary School   \n",
       "10            7           Chimacum                Chimacum High School   \n",
       "14            8           Chimacum              Chimacum Middle School   \n",
       "18           11           Ferndale           Central Elementary School   \n",
       "23           12           Highline  Southern Heights Elementary School   \n",
       "24           13           Highline  Southern Heights Elementary School   \n",
       "25           14         Marysville           Cascade Elementary School   \n",
       "26           15         Marysville           Cascade Elementary School   \n",
       "27           16         Marysville           Cascade Elementary School   \n",
       "28           17         Northshore   Crystal Springs Elementary School   \n",
       "30           18         Northshore   Crystal Springs Elementary School   \n",
       "32           19         Northshore   Crystal Springs Elementary School   \n",
       "33           20         Northshore   Crystal Springs Elementary School   \n",
       "36           23         Oak Harbor      Oak Harbor Intermediate School   \n",
       "38           25           Puyallup       Waller Road Elementary School   \n",
       "39           26             Renton        Lindbergh Senior High School   \n",
       "41           27             Renton           Renton Senior High School   \n",
       "\n",
       "   Has Had Structural Upgrade? BuildingArea_HasRetrofit (ICOS)  \n",
       "0                          Yes                              No  \n",
       "1                          Yes                              No  \n",
       "4                          Yes                              No  \n",
       "6                          Yes                              No  \n",
       "7                          Yes                              No  \n",
       "10                         Yes                              No  \n",
       "14                         Yes                              No  \n",
       "18                         Yes                              No  \n",
       "23                         Yes                              No  \n",
       "24                         Yes                              No  \n",
       "25                         Yes                              No  \n",
       "26                         Yes                              No  \n",
       "27                         Yes                              No  \n",
       "28                         Yes                              No  \n",
       "30                         Yes                              No  \n",
       "32                         Yes                              No  \n",
       "33                         Yes                              No  \n",
       "36                         Yes                              No  \n",
       "38                         Yes                              No  \n",
       "39                         Yes                              No  \n",
       "41                         Yes                              No  "
      ]
     },
     "execution_count": 303,
     "metadata": {},
     "output_type": "execute_result"
    }
   ],
   "source": [
    "df_sssp_phase2_no_retrofit[['building_id', 'District', 'Site', 'Has Had Structural Upgrade?', \\\n",
    "                           'BuildingArea_HasRetrofit (ICOS)']].drop_duplicates()"
   ]
  },
  {
   "cell_type": "code",
   "execution_count": 304,
   "id": "dd22db34",
   "metadata": {},
   "outputs": [],
   "source": [
    "# This list now consists of only buildings that are marked yes as having had structural upgrades,\n",
    "# so that column can be deleted\n",
    "f_sssp_phase2_merge = df_sssp_phase2_merge.drop(['Has Had Structural Upgrade?'], axis=1)"
   ]
  },
  {
   "cell_type": "code",
   "execution_count": 305,
   "id": "1360db55",
   "metadata": {},
   "outputs": [
    {
     "data": {
      "text/plain": [
       "5"
      ]
     },
     "execution_count": 305,
     "metadata": {},
     "output_type": "execute_result"
    }
   ],
   "source": [
    "mask = (df_sssp_phase2_merge['BuildingArea_HasRetrofit (ICOS)'] == \"Structural\")\n",
    "df_sssp_phase2_retrofit = df_sssp_phase2_merge[mask]\n",
    "df_sssp_phase2_retrofit['building_id'].nunique()\n",
    "# Only 5 out of 33 buildings listed as having a structural upgrade in the SSSP phase 2 have a retrofit in ICOS."
   ]
  },
  {
   "cell_type": "code",
   "execution_count": 306,
   "id": "fa773119",
   "metadata": {},
   "outputs": [
    {
     "data": {
      "text/plain": [
       "26"
      ]
     },
     "execution_count": 306,
     "metadata": {},
     "output_type": "execute_result"
    }
   ],
   "source": [
    "df_sssp_phase2_merge['building_id'].nunique() # Not all of the 33 buildings could be matched in ICOS due\n",
    "# to different building names"
   ]
  },
  {
   "cell_type": "code",
   "execution_count": 307,
   "id": "89169b66",
   "metadata": {},
   "outputs": [
    {
     "data": {
      "text/plain": [
       "(44, 12)"
      ]
     },
     "execution_count": 307,
     "metadata": {},
     "output_type": "execute_result"
    }
   ],
   "source": [
    "df_sssp_phase2_merge.shape # the buildings in the SSSP matched to 44 rows in ICOS because some buildings\n",
    "# have more than one \"building area\" row."
   ]
  },
  {
   "cell_type": "code",
   "execution_count": 308,
   "id": "35b7a8e3",
   "metadata": {},
   "outputs": [],
   "source": [
    "df_sssp_phase2_merge['Year of Structural Upgrade (SSSP)'] = df_sssp_phase2_merge\\\n",
    "                    ['Year of Structural Upgrade (SSSP)'].astype('Int64')"
   ]
  },
  {
   "cell_type": "code",
   "execution_count": 309,
   "id": "9364c4ac",
   "metadata": {},
   "outputs": [],
   "source": [
    "df_sssp_phase2_merge['year_difference'] = df_sssp_phase2_merge['Year of Structural Upgrade (SSSP)'] - \\\n",
    "            (df_sssp_phase2_merge['BuildingArea_YearBuilt (ICOS)'])"
   ]
  },
  {
   "cell_type": "code",
   "execution_count": 310,
   "id": "9585ad13",
   "metadata": {},
   "outputs": [],
   "source": [
    "# Does the renovation year in ICOS come around the same time as the renovation listed in the SSSP phase 2,\n",
    "# such as no more than 2-3 years apart?"
   ]
  },
  {
   "cell_type": "code",
   "execution_count": 311,
   "id": "e5c8959e",
   "metadata": {},
   "outputs": [],
   "source": [
    "df_sssp_phase2_merge.loc[df_sssp_phase2_merge['year_difference'] > 2, 'upgrade_recorded'] = \"no\" "
   ]
  },
  {
   "cell_type": "code",
   "execution_count": 312,
   "id": "efd7607f",
   "metadata": {},
   "outputs": [],
   "source": [
    "df_sssp_phase2_merge.loc[df_sssp_phase2_merge['year_difference'] < 3, 'upgrade_recorded'] = \"yes\" "
   ]
  },
  {
   "cell_type": "code",
   "execution_count": 313,
   "id": "7d65a55a",
   "metadata": {},
   "outputs": [],
   "source": [
    " df_sssp_phase2_merge = df_sssp_phase2_merge.reindex(['building_id', 'District', 'Site', 'Building', \\\n",
    "                        'upgrade_recorded', 'Year Built (SSSP)', 'Year of Structural Upgrade (SSSP)', \\\n",
    "                        'Building_YearBuilt (ICOS)', 'BuildingArea_YearBuilt (ICOS)', \\\n",
    "                        'BuildingArea_CodeYear (ICOS)', 'BuildingArea_HasRetrofit (ICOS)'], axis=1)"
   ]
  },
  {
   "cell_type": "code",
   "execution_count": 314,
   "id": "2abd9cc1",
   "metadata": {},
   "outputs": [
    {
     "data": {
      "text/plain": [
       "(36, 11)"
      ]
     },
     "execution_count": 314,
     "metadata": {},
     "output_type": "execute_result"
    }
   ],
   "source": [
    "mask = (df_sssp_phase2_merge['BuildingArea_HasRetrofit (ICOS)'] == 'No')\n",
    "df_sssp_phase2_merge_2 = df_sssp_phase2_merge[mask]\n",
    "df_sssp_phase2_merge_2.shape"
   ]
  },
  {
   "cell_type": "code",
   "execution_count": 315,
   "id": "0a82e55d",
   "metadata": {},
   "outputs": [
    {
     "data": {
      "text/plain": [
       "BuildingArea_HasRetrofit (ICOS)\n",
       "No    36\n",
       "Name: count, dtype: int64"
      ]
     },
     "execution_count": 315,
     "metadata": {},
     "output_type": "execute_result"
    }
   ],
   "source": [
    "df_sssp_phase2_merge_2['BuildingArea_HasRetrofit (ICOS)'].value_counts()"
   ]
  },
  {
   "cell_type": "code",
   "execution_count": 316,
   "id": "e26ee1d6",
   "metadata": {},
   "outputs": [
    {
     "data": {
      "text/plain": [
       "upgrade_recorded\n",
       "no     28\n",
       "yes     8\n",
       "Name: count, dtype: int64"
      ]
     },
     "execution_count": 316,
     "metadata": {},
     "output_type": "execute_result"
    }
   ],
   "source": [
    "df_sssp_phase2_merge_2['upgrade_recorded'].value_counts()"
   ]
  },
  {
   "cell_type": "code",
   "execution_count": 317,
   "id": "60ff41fc",
   "metadata": {},
   "outputs": [],
   "source": [
    "# Remove buildings that show a newer building area in the vicinity of the renovation recorded in the SSSP\n",
    "mask = (df_sssp_phase2_merge_2['upgrade_recorded'] == 'yes')\n",
    "df_sssp_phase2_upgrades_recorded = df_sssp_phase2_merge_2[mask]"
   ]
  },
  {
   "cell_type": "code",
   "execution_count": 318,
   "id": "a8287940",
   "metadata": {},
   "outputs": [
    {
     "data": {
      "text/plain": [
       "(8, 11)"
      ]
     },
     "execution_count": 318,
     "metadata": {},
     "output_type": "execute_result"
    }
   ],
   "source": [
    "df_sssp_phase2_upgrades_recorded.shape"
   ]
  },
  {
   "cell_type": "code",
   "execution_count": 319,
   "id": "62c6f5ce",
   "metadata": {},
   "outputs": [],
   "source": [
    "df_sssp_phase2_upgrades_recorded_ids = df_sssp_phase2_upgrades_recorded['building_id']"
   ]
  },
  {
   "cell_type": "code",
   "execution_count": 320,
   "id": "ad054712",
   "metadata": {},
   "outputs": [
    {
     "data": {
      "text/plain": [
       "(8,)"
      ]
     },
     "execution_count": 320,
     "metadata": {},
     "output_type": "execute_result"
    }
   ],
   "source": [
    "df_sssp_phase2_upgrades_recorded_ids.shape"
   ]
  },
  {
   "cell_type": "code",
   "execution_count": 321,
   "id": "24598c2a",
   "metadata": {},
   "outputs": [],
   "source": [
    "df_sssp_phase2_upgrade_missing = df_sssp_phase2_merge_2[~df_sssp_phase2_merge_2['building_id'].isin\\\n",
    "                                                                 (df_sssp_phase2_upgrades_recorded_ids)]"
   ]
  },
  {
   "cell_type": "code",
   "execution_count": 322,
   "id": "389a274d",
   "metadata": {},
   "outputs": [
    {
     "data": {
      "text/plain": [
       "16"
      ]
     },
     "execution_count": 322,
     "metadata": {},
     "output_type": "execute_result"
    }
   ],
   "source": [
    "df_sssp_phase2_upgrade_missing['building_id'].nunique()"
   ]
  },
  {
   "cell_type": "code",
   "execution_count": 323,
   "id": "17efd977",
   "metadata": {},
   "outputs": [
    {
     "data": {
      "text/html": [
       "<div>\n",
       "<style scoped>\n",
       "    .dataframe tbody tr th:only-of-type {\n",
       "        vertical-align: middle;\n",
       "    }\n",
       "\n",
       "    .dataframe tbody tr th {\n",
       "        vertical-align: top;\n",
       "    }\n",
       "\n",
       "    .dataframe thead th {\n",
       "        text-align: right;\n",
       "    }\n",
       "</style>\n",
       "<table border=\"1\" class=\"dataframe\">\n",
       "  <thead>\n",
       "    <tr style=\"text-align: right;\">\n",
       "      <th></th>\n",
       "      <th>building_id</th>\n",
       "      <th>District</th>\n",
       "      <th>Site</th>\n",
       "      <th>Building</th>\n",
       "      <th>upgrade_recorded</th>\n",
       "      <th>Year Built (SSSP)</th>\n",
       "      <th>Year of Structural Upgrade (SSSP)</th>\n",
       "      <th>Building_YearBuilt (ICOS)</th>\n",
       "      <th>BuildingArea_YearBuilt (ICOS)</th>\n",
       "      <th>BuildingArea_CodeYear (ICOS)</th>\n",
       "      <th>BuildingArea_HasRetrofit (ICOS)</th>\n",
       "    </tr>\n",
       "  </thead>\n",
       "  <tbody>\n",
       "    <tr>\n",
       "      <th>0</th>\n",
       "      <td>0</td>\n",
       "      <td>Aberdeen</td>\n",
       "      <td>A.J. West Elementary School</td>\n",
       "      <td>1952 Building</td>\n",
       "      <td>no</td>\n",
       "      <td>1952</td>\n",
       "      <td>1994</td>\n",
       "      <td>1952</td>\n",
       "      <td>1952</td>\n",
       "      <td>&lt;1973</td>\n",
       "      <td>No</td>\n",
       "    </tr>\n",
       "    <tr>\n",
       "      <th>1</th>\n",
       "      <td>1</td>\n",
       "      <td>Aberdeen</td>\n",
       "      <td>A.J. West Elementary School</td>\n",
       "      <td>Annex Building</td>\n",
       "      <td>no</td>\n",
       "      <td>1966</td>\n",
       "      <td>1994</td>\n",
       "      <td>1966</td>\n",
       "      <td>1966</td>\n",
       "      <td>&lt;1973</td>\n",
       "      <td>No</td>\n",
       "    </tr>\n",
       "    <tr>\n",
       "      <th>6</th>\n",
       "      <td>4</td>\n",
       "      <td>Bellingham</td>\n",
       "      <td>Fairhaven Middle School</td>\n",
       "      <td>Main Building</td>\n",
       "      <td>no</td>\n",
       "      <td>1937</td>\n",
       "      <td>1994</td>\n",
       "      <td>1937</td>\n",
       "      <td>1937</td>\n",
       "      <td>&lt;1973</td>\n",
       "      <td>No</td>\n",
       "    </tr>\n",
       "    <tr>\n",
       "      <th>14</th>\n",
       "      <td>8</td>\n",
       "      <td>Chimacum</td>\n",
       "      <td>Chimacum Middle School</td>\n",
       "      <td>Middle School Bldg 100 B</td>\n",
       "      <td>no</td>\n",
       "      <td>1959</td>\n",
       "      <td>1999</td>\n",
       "      <td>1959</td>\n",
       "      <td>1959</td>\n",
       "      <td>&lt;1973</td>\n",
       "      <td>No</td>\n",
       "    </tr>\n",
       "    <tr>\n",
       "      <th>23</th>\n",
       "      <td>12</td>\n",
       "      <td>Highline</td>\n",
       "      <td>Southern Heights Elementary School</td>\n",
       "      <td>Building A</td>\n",
       "      <td>no</td>\n",
       "      <td>1955</td>\n",
       "      <td>1987</td>\n",
       "      <td>1955</td>\n",
       "      <td>1955</td>\n",
       "      <td>&lt;1973</td>\n",
       "      <td>No</td>\n",
       "    </tr>\n",
       "    <tr>\n",
       "      <th>24</th>\n",
       "      <td>13</td>\n",
       "      <td>Highline</td>\n",
       "      <td>Southern Heights Elementary School</td>\n",
       "      <td>Building B</td>\n",
       "      <td>no</td>\n",
       "      <td>1956</td>\n",
       "      <td>1987</td>\n",
       "      <td>1956</td>\n",
       "      <td>1956</td>\n",
       "      <td>&lt;1973</td>\n",
       "      <td>No</td>\n",
       "    </tr>\n",
       "    <tr>\n",
       "      <th>25</th>\n",
       "      <td>14</td>\n",
       "      <td>Marysville</td>\n",
       "      <td>Cascade Elementary School</td>\n",
       "      <td>Unit A</td>\n",
       "      <td>no</td>\n",
       "      <td>1955</td>\n",
       "      <td>1972</td>\n",
       "      <td>1955</td>\n",
       "      <td>1955</td>\n",
       "      <td>&lt;1973</td>\n",
       "      <td>No</td>\n",
       "    </tr>\n",
       "    <tr>\n",
       "      <th>26</th>\n",
       "      <td>15</td>\n",
       "      <td>Marysville</td>\n",
       "      <td>Cascade Elementary School</td>\n",
       "      <td>Unit C</td>\n",
       "      <td>no</td>\n",
       "      <td>1956</td>\n",
       "      <td>1972</td>\n",
       "      <td>1956</td>\n",
       "      <td>1956</td>\n",
       "      <td>&lt;1973</td>\n",
       "      <td>No</td>\n",
       "    </tr>\n",
       "    <tr>\n",
       "      <th>27</th>\n",
       "      <td>16</td>\n",
       "      <td>Marysville</td>\n",
       "      <td>Cascade Elementary School</td>\n",
       "      <td>Unit D</td>\n",
       "      <td>no</td>\n",
       "      <td>1956</td>\n",
       "      <td>1972</td>\n",
       "      <td>1956</td>\n",
       "      <td>1956</td>\n",
       "      <td>&lt;1973</td>\n",
       "      <td>No</td>\n",
       "    </tr>\n",
       "    <tr>\n",
       "      <th>28</th>\n",
       "      <td>17</td>\n",
       "      <td>Northshore</td>\n",
       "      <td>Crystal Springs Elementary School</td>\n",
       "      <td>Building 1 - Admin</td>\n",
       "      <td>no</td>\n",
       "      <td>1957</td>\n",
       "      <td>2010</td>\n",
       "      <td>1957</td>\n",
       "      <td>1990</td>\n",
       "      <td>Unknown</td>\n",
       "      <td>No</td>\n",
       "    </tr>\n",
       "    <tr>\n",
       "      <th>29</th>\n",
       "      <td>17</td>\n",
       "      <td>Northshore</td>\n",
       "      <td>Crystal Springs Elementary School</td>\n",
       "      <td>Building 1 - Admin</td>\n",
       "      <td>no</td>\n",
       "      <td>1957</td>\n",
       "      <td>2010</td>\n",
       "      <td>1957</td>\n",
       "      <td>1957</td>\n",
       "      <td>&lt;1973</td>\n",
       "      <td>No</td>\n",
       "    </tr>\n",
       "    <tr>\n",
       "      <th>30</th>\n",
       "      <td>18</td>\n",
       "      <td>Northshore</td>\n",
       "      <td>Crystal Springs Elementary School</td>\n",
       "      <td>Building 2 - Classrooms/Kitchen</td>\n",
       "      <td>no</td>\n",
       "      <td>1957</td>\n",
       "      <td>2010</td>\n",
       "      <td>1957</td>\n",
       "      <td>1990</td>\n",
       "      <td>Unknown</td>\n",
       "      <td>No</td>\n",
       "    </tr>\n",
       "    <tr>\n",
       "      <th>31</th>\n",
       "      <td>18</td>\n",
       "      <td>Northshore</td>\n",
       "      <td>Crystal Springs Elementary School</td>\n",
       "      <td>Building 2 - Classrooms/Kitchen</td>\n",
       "      <td>no</td>\n",
       "      <td>1957</td>\n",
       "      <td>2010</td>\n",
       "      <td>1957</td>\n",
       "      <td>1957</td>\n",
       "      <td>&lt;1973</td>\n",
       "      <td>No</td>\n",
       "    </tr>\n",
       "    <tr>\n",
       "      <th>32</th>\n",
       "      <td>19</td>\n",
       "      <td>Northshore</td>\n",
       "      <td>Crystal Springs Elementary School</td>\n",
       "      <td>Building 3/4 - Classrooms</td>\n",
       "      <td>no</td>\n",
       "      <td>1957</td>\n",
       "      <td>2010</td>\n",
       "      <td>1957</td>\n",
       "      <td>1957</td>\n",
       "      <td>&lt;1973</td>\n",
       "      <td>No</td>\n",
       "    </tr>\n",
       "    <tr>\n",
       "      <th>33</th>\n",
       "      <td>20</td>\n",
       "      <td>Northshore</td>\n",
       "      <td>Crystal Springs Elementary School</td>\n",
       "      <td>Building 5 - Classrooms</td>\n",
       "      <td>no</td>\n",
       "      <td>1957</td>\n",
       "      <td>2010</td>\n",
       "      <td>1957</td>\n",
       "      <td>1957</td>\n",
       "      <td>&lt;1973</td>\n",
       "      <td>No</td>\n",
       "    </tr>\n",
       "    <tr>\n",
       "      <th>36</th>\n",
       "      <td>23</td>\n",
       "      <td>Oak Harbor</td>\n",
       "      <td>Oak Harbor Intermediate School</td>\n",
       "      <td>Gym</td>\n",
       "      <td>no</td>\n",
       "      <td>1959</td>\n",
       "      <td>1999</td>\n",
       "      <td>1959</td>\n",
       "      <td>1959</td>\n",
       "      <td>&lt;1973</td>\n",
       "      <td>No</td>\n",
       "    </tr>\n",
       "    <tr>\n",
       "      <th>38</th>\n",
       "      <td>25</td>\n",
       "      <td>Puyallup</td>\n",
       "      <td>Waller Road Elementary School</td>\n",
       "      <td>Main Building</td>\n",
       "      <td>no</td>\n",
       "      <td>1936</td>\n",
       "      <td>1985</td>\n",
       "      <td>1936</td>\n",
       "      <td>1936</td>\n",
       "      <td>&lt;1973</td>\n",
       "      <td>No</td>\n",
       "    </tr>\n",
       "    <tr>\n",
       "      <th>39</th>\n",
       "      <td>26</td>\n",
       "      <td>Renton</td>\n",
       "      <td>Lindbergh Senior High School</td>\n",
       "      <td>Gym/Gym Add/Boiler - AA Areas 1,2,3,4</td>\n",
       "      <td>no</td>\n",
       "      <td>1971</td>\n",
       "      <td>2010</td>\n",
       "      <td>1971</td>\n",
       "      <td>1979</td>\n",
       "      <td>1976-1985</td>\n",
       "      <td>No</td>\n",
       "    </tr>\n",
       "    <tr>\n",
       "      <th>40</th>\n",
       "      <td>26</td>\n",
       "      <td>Renton</td>\n",
       "      <td>Lindbergh Senior High School</td>\n",
       "      <td>Gym/Gym Add/Boiler - AA Areas 1,2,3,4</td>\n",
       "      <td>no</td>\n",
       "      <td>1971</td>\n",
       "      <td>2010</td>\n",
       "      <td>1971</td>\n",
       "      <td>1971</td>\n",
       "      <td>&lt;1973</td>\n",
       "      <td>No</td>\n",
       "    </tr>\n",
       "  </tbody>\n",
       "</table>\n",
       "</div>"
      ],
      "text/plain": [
       "    building_id    District                                Site  \\\n",
       "0             0    Aberdeen         A.J. West Elementary School   \n",
       "1             1    Aberdeen         A.J. West Elementary School   \n",
       "6             4  Bellingham             Fairhaven Middle School   \n",
       "14            8    Chimacum              Chimacum Middle School   \n",
       "23           12    Highline  Southern Heights Elementary School   \n",
       "24           13    Highline  Southern Heights Elementary School   \n",
       "25           14  Marysville           Cascade Elementary School   \n",
       "26           15  Marysville           Cascade Elementary School   \n",
       "27           16  Marysville           Cascade Elementary School   \n",
       "28           17  Northshore   Crystal Springs Elementary School   \n",
       "29           17  Northshore   Crystal Springs Elementary School   \n",
       "30           18  Northshore   Crystal Springs Elementary School   \n",
       "31           18  Northshore   Crystal Springs Elementary School   \n",
       "32           19  Northshore   Crystal Springs Elementary School   \n",
       "33           20  Northshore   Crystal Springs Elementary School   \n",
       "36           23  Oak Harbor      Oak Harbor Intermediate School   \n",
       "38           25    Puyallup       Waller Road Elementary School   \n",
       "39           26      Renton        Lindbergh Senior High School   \n",
       "40           26      Renton        Lindbergh Senior High School   \n",
       "\n",
       "                                 Building upgrade_recorded  Year Built (SSSP)  \\\n",
       "0                           1952 Building               no               1952   \n",
       "1                          Annex Building               no               1966   \n",
       "6                           Main Building               no               1937   \n",
       "14               Middle School Bldg 100 B               no               1959   \n",
       "23                             Building A               no               1955   \n",
       "24                             Building B               no               1956   \n",
       "25                                 Unit A               no               1955   \n",
       "26                                 Unit C               no               1956   \n",
       "27                                 Unit D               no               1956   \n",
       "28                     Building 1 - Admin               no               1957   \n",
       "29                     Building 1 - Admin               no               1957   \n",
       "30        Building 2 - Classrooms/Kitchen               no               1957   \n",
       "31        Building 2 - Classrooms/Kitchen               no               1957   \n",
       "32              Building 3/4 - Classrooms               no               1957   \n",
       "33                Building 5 - Classrooms               no               1957   \n",
       "36                                    Gym               no               1959   \n",
       "38                          Main Building               no               1936   \n",
       "39  Gym/Gym Add/Boiler - AA Areas 1,2,3,4               no               1971   \n",
       "40  Gym/Gym Add/Boiler - AA Areas 1,2,3,4               no               1971   \n",
       "\n",
       "    Year of Structural Upgrade (SSSP)  Building_YearBuilt (ICOS)  \\\n",
       "0                                1994                       1952   \n",
       "1                                1994                       1966   \n",
       "6                                1994                       1937   \n",
       "14                               1999                       1959   \n",
       "23                               1987                       1955   \n",
       "24                               1987                       1956   \n",
       "25                               1972                       1955   \n",
       "26                               1972                       1956   \n",
       "27                               1972                       1956   \n",
       "28                               2010                       1957   \n",
       "29                               2010                       1957   \n",
       "30                               2010                       1957   \n",
       "31                               2010                       1957   \n",
       "32                               2010                       1957   \n",
       "33                               2010                       1957   \n",
       "36                               1999                       1959   \n",
       "38                               1985                       1936   \n",
       "39                               2010                       1971   \n",
       "40                               2010                       1971   \n",
       "\n",
       "    BuildingArea_YearBuilt (ICOS) BuildingArea_CodeYear (ICOS)  \\\n",
       "0                            1952                        <1973   \n",
       "1                            1966                        <1973   \n",
       "6                            1937                        <1973   \n",
       "14                           1959                        <1973   \n",
       "23                           1955                        <1973   \n",
       "24                           1956                        <1973   \n",
       "25                           1955                        <1973   \n",
       "26                           1956                        <1973   \n",
       "27                           1956                        <1973   \n",
       "28                           1990                      Unknown   \n",
       "29                           1957                        <1973   \n",
       "30                           1990                      Unknown   \n",
       "31                           1957                        <1973   \n",
       "32                           1957                        <1973   \n",
       "33                           1957                        <1973   \n",
       "36                           1959                        <1973   \n",
       "38                           1936                        <1973   \n",
       "39                           1979                    1976-1985   \n",
       "40                           1971                        <1973   \n",
       "\n",
       "   BuildingArea_HasRetrofit (ICOS)  \n",
       "0                               No  \n",
       "1                               No  \n",
       "6                               No  \n",
       "14                              No  \n",
       "23                              No  \n",
       "24                              No  \n",
       "25                              No  \n",
       "26                              No  \n",
       "27                              No  \n",
       "28                              No  \n",
       "29                              No  \n",
       "30                              No  \n",
       "31                              No  \n",
       "32                              No  \n",
       "33                              No  \n",
       "36                              No  \n",
       "38                              No  \n",
       "39                              No  \n",
       "40                              No  "
      ]
     },
     "execution_count": 323,
     "metadata": {},
     "output_type": "execute_result"
    }
   ],
   "source": [
    "# These 16 buildings do not have a newer building area recorded around the same time as the renovation listed\n",
    "# by the SSSP. The code years also do not show a renovation bringing the buildings up to a more recent code.\n",
    "df_sssp_phase2_upgrade_missing"
   ]
  },
  {
   "cell_type": "code",
   "execution_count": null,
   "id": "f063e0dd",
   "metadata": {},
   "outputs": [],
   "source": []
  },
  {
   "cell_type": "code",
   "execution_count": null,
   "id": "d5cd7cef",
   "metadata": {},
   "outputs": [],
   "source": [
    "# Out of 24 buildings in the SSSP phase 1 that are marked as having a prior seismic upgrade with a renovation year\n",
    "# listed, 15 do not have a building area year around the renovation year, or a newer code year to show that the\n",
    "# renovation recorded in the SSSP was incorporated into ICOS."
   ]
  },
  {
   "cell_type": "code",
   "execution_count": 85,
   "id": "18676d97",
   "metadata": {},
   "outputs": [],
   "source": [
    "# Out of 33 buildings in the SSSP phase 2 that are marked as having a prior seismic upgrade with a renovation year\n",
    "# listed, 16 do not have a building area year around the renovation year, or a newer code year to show that the\n",
    "# renovation recorded in the SSSP was incorporated into ICOS."
   ]
  },
  {
   "cell_type": "code",
   "execution_count": null,
   "id": "79ecea94",
   "metadata": {},
   "outputs": [],
   "source": [
    "# In total, 52 out of 57 buildings identified as having prior seismic upgrades in phases 1 and 2 of the SSSP show \n",
    "# no retrofit in ICOS.\n",
    "# 31 of these buildings also do not show newer building years or newer code years indicating a renovation was\n",
    "# recorded in ICOS. "
   ]
  },
  {
   "cell_type": "code",
   "execution_count": null,
   "id": "601f2ff9",
   "metadata": {},
   "outputs": [],
   "source": []
  }
 ],
 "metadata": {
  "kernelspec": {
   "display_name": "Python 3 (ipykernel)",
   "language": "python",
   "name": "python3"
  },
  "language_info": {
   "codemirror_mode": {
    "name": "ipython",
    "version": 3
   },
   "file_extension": ".py",
   "mimetype": "text/x-python",
   "name": "python",
   "nbconvert_exporter": "python",
   "pygments_lexer": "ipython3",
   "version": "3.10.11"
  }
 },
 "nbformat": 4,
 "nbformat_minor": 5
}
